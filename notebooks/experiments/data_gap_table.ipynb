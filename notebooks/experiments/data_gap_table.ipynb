{
 "cells": [
  {
   "cell_type": "code",
   "execution_count": 12,
   "metadata": {},
   "outputs": [],
   "source": [
    "import sys \n",
    "sys.path.append('../..')"
   ]
  },
  {
   "cell_type": "code",
   "execution_count": 2,
   "metadata": {},
   "outputs": [],
   "source": [
    "import pandas as pd\n",
    "from os import listdir\n",
    "from os.path import isfile, join\n",
    "import numpy as np\n"
   ]
  },
  {
   "cell_type": "code",
   "execution_count": 39,
   "metadata": {},
   "outputs": [],
   "source": [
    "path = '../../input/climate/real+grid'\n",
    "files = [f.split('.')[0] for f in listdir(path) if isfile(join(path, f))]\n",
    "\n",
    "data = dict()\n",
    "for f in files:\n",
    "    data[f] = pd.read_csv(f'{path}/{f}.csv')\n",
    "\n",
    "data['DP_Inuvik'] = pd.read_csv('../../input/climate/real/dew point temperature/DewPointTemp_Inuvik.csv')\n",
    "data['SD_Khatanga'] = pd.read_csv('../../input/climate/real/sunshine duration/SD_Khatanga.csv')\n",
    "data['SD_Chokurdakh'] = pd.read_csv('../../input/climate/real/sunshine duration/SD_Chokurdakh.csv')\n",
    "data['RH_Inuvik'] = pd.read_csv('../../input/climate/real/relative humidity/RH_Inuvik.csv')\n",
    "data['RH_Khatanga'] = pd.read_csv('../../input/climate/real/relative humidity/RH_Khatanga.csv')\n",
    "data['RH_Chokurdakh'] = pd.read_csv('../../input/climate/real/relative humidity/RH_Chokurdakh.csv')"
   ]
  },
  {
   "cell_type": "code",
   "execution_count": 40,
   "metadata": {},
   "outputs": [
    {
     "name": "stdout",
     "output_type": "stream",
     "text": [
      "Prec_Chokurdakh 1901 2019\n",
      "Prec_Deputatsky 1901 2020\n",
      "Prec_Inuvik 1901 2019\n",
      "Prec_Khatanga 1901 2019\n",
      "Temp_Chokurdakh 1901 2019\n",
      "Temp_Deputatsky 1901 2020\n",
      "Temp_Inuvik 1901 2019\n",
      "Temp_Khatanga 1901 2019\n",
      "VPD_Chokurdakh 1901 2019\n",
      "VPD_Deputatsky 1901 2020\n",
      "VPD_Inuvik 1901 2019\n",
      "VPD_Khatanga 1901 2019\n",
      "DP_Inuvik 1959 2020\n",
      "SD_Khatanga 1961 2020\n",
      "SD_Chokurdakh 1959 2017\n",
      "RH_Inuvik 1959 2020\n",
      "RH_Khatanga 1966 2019\n",
      "RH_Chokurdakh 1966 2019\n"
     ]
    }
   ],
   "source": [
    "new_df = pd.DataFrame({'Year':range(1901,2021)})\n",
    "\n",
    "for key in data:\n",
    "    print(key, min(data[key]['Year']), max(data[key]['Year']))\n",
    "    data[key]['MEAN'] = data[key].drop(columns=['Year']).mean(axis=1, skipna=True)\n",
    "    new_df = new_df.merge(data[key][['Year', 'MEAN']], on='Year', how='left').rename(columns={'MEAN':key})"
   ]
  },
  {
   "cell_type": "code",
   "execution_count": 56,
   "metadata": {},
   "outputs": [],
   "source": [
    "new_new_df = ~new_df.isna()\n",
    "new_new_df['Year'] = new_df['Year']\n",
    "new_new_df = new_new_df.replace(False, 0).replace(True, 1)"
   ]
  },
  {
   "cell_type": "code",
   "execution_count": 63,
   "metadata": {},
   "outputs": [],
   "source": [
    "new_new_df.to_excel('../../output/data_gap_table.xlsx')"
   ]
  }
 ],
 "metadata": {
  "interpreter": {
   "hash": "f649158f7c33c6404512ef6eab241b4bcb236cb55f6502e8325131a5b8388ac6"
  },
  "kernelspec": {
   "display_name": "Python 3.9.7 64-bit",
   "language": "python",
   "name": "python3"
  },
  "language_info": {
   "codemirror_mode": {
    "name": "ipython",
    "version": 3
   },
   "file_extension": ".py",
   "mimetype": "text/x-python",
   "name": "python",
   "nbconvert_exporter": "python",
   "pygments_lexer": "ipython3",
   "version": "3.9.7"
  },
  "orig_nbformat": 4
 },
 "nbformat": 4,
 "nbformat_minor": 2
}
