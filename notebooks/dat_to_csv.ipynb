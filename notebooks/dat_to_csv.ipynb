{
 "cells": [
  {
   "cell_type": "code",
   "execution_count": 1,
   "metadata": {},
   "outputs": [],
   "source": [
    "import os\n",
    "import sys\n",
    "import pandas as pd\n",
    "sys.path.append('..')\n",
    "from climate.txt_to_tables import txt_to_df, montly_columns_names_en"
   ]
  },
  {
   "cell_type": "code",
   "execution_count": 2,
   "metadata": {},
   "outputs": [],
   "source": [
    "meteo_path = '../input/climate/meteo.ru/new'"
   ]
  },
  {
   "cell_type": "code",
   "execution_count": 3,
   "metadata": {},
   "outputs": [],
   "source": [
    "station_ru2en = {\n",
    "    'Хоседа-Хард': 'Khoseda Khard',\n",
    "    'Тура': 'Tura',\n",
    "    'Енисейск': 'Eniseysk',\n",
    "    'Минусинск': 'Minusinsk',\n",
    "    'Иркутск, обсерв': 'Irkutsk',\n",
    "    'Мугур-Аксы': 'Mugur-Aksy',\n",
    "    'Барнаул': 'Barnaul',\n",
    "    'Якутск': 'Jakutsk',\n",
    "    'Кандалакша': 'Kandalaksa',\n",
    "    'Нижнеангарск': 'Nizneangarsk'\n",
    "}"
   ]
  },
  {
   "cell_type": "code",
   "execution_count": 5,
   "metadata": {},
   "outputs": [],
   "source": [
    "for char in os.listdir(meteo_path):\n",
    "    char_path = f'{meteo_path}/{char}/'\n",
    "    files = os.listdir(char_path)\n",
    "    statlist_file = ''\n",
    "    for file in files[::-1]:\n",
    "        if 'statlist' in file:\n",
    "            statlist_file = file\n",
    "    wmo_codes = []\n",
    "    station_names = []\n",
    "    with open(f'{char_path}/{statlist_file}') as f:\n",
    "        for line in f:\n",
    "            wmo_code, *station_name = line.strip().split()\n",
    "            station_name = ' '.join(station_name)\n",
    "            wmo_codes.append(wmo_code)\n",
    "            station_names.append(station_name)\n",
    "    for wmo_code, station_name in zip(wmo_codes, station_names):\n",
    "        df = txt_to_df(station=station_ru2en[station_name],\n",
    "                       char=char,\n",
    "                       colums_names=montly_columns_names_en,\n",
    "                       input_path=f'{char_path}/{wmo_code}.txt',\n",
    "                       output_path=char_path,\n",
    "                       save_csv=True)"
   ]
  },
  {
   "cell_type": "code",
   "execution_count": null,
   "metadata": {},
   "outputs": [],
   "source": [
    "path = '../input/climate/real'\n",
    "\n",
    "characterisitict = [\n",
    "    'precipitation',\n",
    "    'relative humidity',\n",
    "    'sunshine duration',\n",
    "    'temperature',\n",
    "    'vpd'\n",
    "]"
   ]
  },
  {
   "cell_type": "code",
   "execution_count": null,
   "metadata": {},
   "outputs": [],
   "source": [
    "for char in characterisitict:\n",
    "    for file in os.listdir(f'{path}/{char}'):\n",
    "        try:\n",
    "            wmo_index, ch, loc_ru = file.split('_')\n",
    "        except:\n",
    "            continue\n",
    "        loc_ru = loc_ru.split('.')[0]\n",
    "        if loc_ru in station_ru2en:\n",
    "            pd.read_csv(f'{path}/{char}/{file}').drop(columns=['WMO Index']).to_csv(f'{path}/{char}/{ch}_{chrar_ru2en[loc_ru]}.csv', index=False)"
   ]
  }
 ],
 "metadata": {
  "interpreter": {
   "hash": "f649158f7c33c6404512ef6eab241b4bcb236cb55f6502e8325131a5b8388ac6"
  },
  "kernelspec": {
   "display_name": "Python 3.9.7 64-bit",
   "language": "python",
   "name": "python3"
  },
  "language_info": {
   "codemirror_mode": {
    "name": "ipython",
    "version": 3
   },
   "file_extension": ".py",
   "mimetype": "text/x-python",
   "name": "python",
   "nbconvert_exporter": "python",
   "pygments_lexer": "ipython3",
   "version": "3.9.7"
  },
  "orig_nbformat": 4
 },
 "nbformat": 4,
 "nbformat_minor": 2
}
