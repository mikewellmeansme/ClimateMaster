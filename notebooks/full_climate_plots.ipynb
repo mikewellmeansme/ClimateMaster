{
 "cells": [
  {
   "cell_type": "code",
   "execution_count": 1,
   "metadata": {},
   "outputs": [],
   "source": [
    "import sys \n",
    "import pandas as pd\n",
    "from os import listdir\n",
    "from os.path import isfile, join\n",
    "import matplotlib.pyplot as plt\n",
    "\n",
    "sys.path.append('..')"
   ]
  },
  {
   "cell_type": "code",
   "execution_count": 3,
   "metadata": {},
   "outputs": [],
   "source": [
    "path = '../input/climate/real+grid'\n",
    "files = [f.split('.')[0] for f in listdir(path) if isfile(join(path, f))]\n",
    "\n",
    "data = dict()\n",
    "for f in files:\n",
    "    data[f] = pd.read_csv(f'{path}/{f}.csv')\n",
    "\n",
    "data['SD_Khatanga'] = pd.read_csv('../input/climate/real/sunshine duration/SD_Khatanga.csv')\n",
    "data['SD_Chokurdakh'] = pd.read_csv('../input/climate/real/sunshine duration/SD_Chokurdakh.csv')"
   ]
  },
  {
   "cell_type": "code",
   "execution_count": 41,
   "metadata": {},
   "outputs": [],
   "source": [
    "m_names = [ 'J', 'F', 'M', 'A', 'M ', 'J', 'J', 'A', 'S', 'O', 'N', 'D']"
   ]
  },
  {
   "cell_type": "code",
   "execution_count": 77,
   "metadata": {},
   "outputs": [],
   "source": [
    "\n",
    "for key in data.keys():\n",
    "    fig, ax = plt.subplots(figsize=(8,5))\n",
    "    temp_data = data[key]\n",
    "\n",
    "    for el, row in temp_data.iterrows():\n",
    "        ax.plot(range(0,12), row[1:], alpha=0.3)\n",
    "        \n",
    "    ax.plot(temp_data.mean(skipna=True)[1:], c='red', linewidth=3)\n",
    "\n",
    "    if not 'SD' in key:\n",
    "        temp_data = temp_data.dropna()\n",
    "    year_start = int(temp_data.min()['Year'])\n",
    "    year_end = int(temp_data.max()['Year'])\n",
    "\n",
    "    ax.set_xticks([i for i in range(0,12)])\n",
    "    ax.set_xticklabels(m_names)\n",
    "    ax.yaxis.tick_right()\n",
    "    ax.yaxis.set_label_position(\"right\")\n",
    "    if 'Temp' in key:\n",
    "        ax.set_ylabel(f'T $_{chr(123)}{year_start} - {year_end}{chr(125)}\\ (^{chr(123)}\\circ{chr(125)} C)$')\n",
    "        ax.set_ylim([-43, 20])\n",
    "    elif 'Prec' in key:\n",
    "        ax.set_ylabel(f'Precip. $_{chr(123)}{year_start} - {year_end}{chr(125)}\\ (mm)$')\n",
    "        ax.set_ylim([-5, 160])\n",
    "    elif 'VPD' in key:\n",
    "        ax.set_ylabel(f'VPD $_{chr(123)}{year_start} - {year_end}{chr(125)}\\ (mbar)$')\n",
    "        ax.set_ylim([-0.5, 14])\n",
    "    elif 'SD' in key:\n",
    "        ax.set_ylabel(f'Sunshide Duration $_{chr(123)}{year_start} - {year_end}{chr(125)}\\ (hour)$')\n",
    "        ax.set_ylim([-11, 500])\n",
    "    plt.savefig(f'../output/to_send/{key}_full.png', dpi=300)\n",
    "    plt.close(fig)"
   ]
  },
  {
   "cell_type": "code",
   "execution_count": null,
   "metadata": {},
   "outputs": [],
   "source": []
  }
 ],
 "metadata": {
  "interpreter": {
   "hash": "ea00faadcfb8ab3c64085c6facc6f20135a21130ce7141e34f66da8bb95f9659"
  },
  "kernelspec": {
   "display_name": "Python 3.9.4 64-bit",
   "language": "python",
   "name": "python3"
  },
  "language_info": {
   "codemirror_mode": {
    "name": "ipython",
    "version": 3
   },
   "file_extension": ".py",
   "mimetype": "text/x-python",
   "name": "python",
   "nbconvert_exporter": "python",
   "pygments_lexer": "ipython3",
   "version": "3.9.4"
  },
  "orig_nbformat": 4
 },
 "nbformat": 4,
 "nbformat_minor": 2
}
