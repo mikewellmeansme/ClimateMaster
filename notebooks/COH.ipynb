{
 "cells": [
  {
   "cell_type": "code",
   "execution_count": 1,
   "metadata": {},
   "outputs": [],
   "source": [
    "import sys \n",
    "sys.path.append('..')"
   ]
  },
  {
   "cell_type": "code",
   "execution_count": 2,
   "metadata": {},
   "outputs": [],
   "source": [
    "import pandas as pd\n",
    "from os import listdir\n",
    "from os.path import isfile, join\n",
    "from utils.functions import dropna_pearsonr, dropna_spearmanr\n",
    "from climate.dendroclim import plot_mothly_dendroclim\n",
    "import numpy as np\n",
    "\n",
    "pd.options.mode.chained_assignment = None  # default='warn'"
   ]
  },
  {
   "cell_type": "code",
   "execution_count": 3,
   "metadata": {},
   "outputs": [],
   "source": [
    "path = '../input/climate/real+grid'\n",
    "files = [f.split('.')[0] for f in listdir(path) if isfile(join(path, f))]\n",
    "\n",
    "data = dict()\n",
    "for f in files:\n",
    "    data[f] = pd.read_csv(f'{path}/{f}.csv')\n",
    "\n",
    "data['DP_Inuvik'] = pd.read_csv('../input/climate/real/dew point temperature/DewPointTemp_Inuvik.csv')\n",
    "data['SD_Khatanga'] = pd.read_csv('../input/climate/real/sunshine duration/SD_Khatanga.csv')\n",
    "data['SD_Chokurdakh'] = pd.read_csv('../input/climate/real/sunshine duration/SD_Chokurdakh.csv')\n",
    "data['RH_Inuvik'] = pd.read_csv('../input/climate/real/relative humidity/RH_Inuvik.csv')\n",
    "data['RH_Khatanga'] = pd.read_csv('../input/climate/real/relative humidity/RH_Khatanga.csv')\n",
    "data['RH_Chokurdakh'] = pd.read_csv('../input/climate/real/relative humidity/RH_Chokurdakh.csv')"
   ]
  },
  {
   "cell_type": "markdown",
   "metadata": {},
   "source": [
    "Inuvik"
   ]
  },
  {
   "cell_type": "code",
   "execution_count": 5,
   "metadata": {},
   "outputs": [],
   "source": [
    "COH = pd.read_excel('../input/CAN_COH_221121.xlsx')\n",
    "COH = COH.rename(columns={'d13C':'C', 'd18O':'O', 'dH':'H'})"
   ]
  },
  {
   "cell_type": "code",
   "execution_count": 10,
   "metadata": {},
   "outputs": [],
   "source": [
    "fig_C, ax_C, rs_C, ps_C = plot_mothly_dendroclim(COH[['Year', 'C']], [data['Temp_Inuvik'], data['Prec_Inuvik'], data['VPD_Inuvik'], data['RH_Inuvik']], ylabels=['Temp', 'Prec', 'VPD', 'RH'], colors =['red', 'blue', 'green', 'lightblue'], title='Inuvik $δ^{13}C$')\n",
    "fig_O, ax_O, rs_O, ps_O = plot_mothly_dendroclim(COH[['Year', 'O']], [data['Temp_Inuvik'], data['Prec_Inuvik'], data['VPD_Inuvik'], data['RH_Inuvik']], ylabels=['Temp', 'Prec', 'VPD', 'RH'], colors =['red', 'blue', 'green', 'lightblue'], title='Inuvik $δ^{18}O$')\n",
    "fig_H, ax_H, rs_H, ps_H = plot_mothly_dendroclim(COH[['Year', 'H']], [data['Temp_Inuvik'], data['Prec_Inuvik'], data['VPD_Inuvik'], data['RH_Inuvik']], ylabels=['Temp', 'Prec', 'VPD', 'RH'], colors =['red', 'blue', 'green', 'lightblue'], title='Inuvik $δH$')"
   ]
  },
  {
   "cell_type": "code",
   "execution_count": 10,
   "metadata": {},
   "outputs": [],
   "source": [
    "df = {\n",
    "    'Month' : {'':  ['S', 'O', 'N', 'D', 'J', 'F', 'M', 'A', 'M ', 'J', 'J', 'A']},\n",
    "    'C' : {'Temp':[], 'Prec':[], 'VPD':[], 'RH':[]},\n",
    "    'O' : {'Temp':[], 'Prec':[], 'VPD':[], 'RH':[]},\n",
    "    'H' : {'Temp':[], 'Prec':[], 'VPD':[], 'RH':[]},\n",
    "}\n",
    "\n",
    "for key in rs_C.keys():\n",
    "    for r,p in zip(rs_C[key], ps_C[key]):\n",
    "        df['C'][key] += [f'{r:.2f}\\n(p={p:.3f})']\n",
    "    for r,p in zip(rs_O[key], ps_O[key]):\n",
    "        df['O'][key] += [f'{r:.2f}\\n(p={p:.3f})']\n",
    "    for r,p in zip(rs_H[key], ps_H[key]):\n",
    "        df['H'][key] += [f'{r:.2f}\\n(p={p:.3f})']\n",
    "\n",
    "df_reform = {(outerKey, innerKey): values for outerKey, innerDict in df.items() for innerKey, values in innerDict.items()}\n",
    "pd.DataFrame(df_reform).to_excel('output/dendroclim_CAN_corr.xlsx')\n"
   ]
  },
  {
   "cell_type": "markdown",
   "metadata": {},
   "source": [
    "Khatanga and Chokurdakh"
   ]
  },
  {
   "cell_type": "code",
   "execution_count": 9,
   "metadata": {},
   "outputs": [],
   "source": [
    "dH = pd.read_excel('../input/dD_YAK_TAY.xlsx')\n",
    "dH = dH.rename(columns={'dH_YAK':'YAK', 'dH_TAY':'TAY'})"
   ]
  },
  {
   "cell_type": "code",
   "execution_count": null,
   "metadata": {},
   "outputs": [],
   "source": [
    "fig_K_H, ax_K_H, rs_K_H, ps_K_H = plot_mothly_dendroclim(dH[['Year', 'TAY']], [data['Temp_Khatanga'], data['Prec_Khatanga'], data['VPD_Khatanga'], data['SD_Khatanga'], data['RH_Khatanga']], ylabels=['Temp', 'Prec', 'VPD', 'SD', 'RH'], colors =['red', 'blue', 'green', 'orange', 'lightblue'], title='Khatanga $δH$', ylim=[-0.7, 0.5])\n",
    "fig_C_H, ax_C_H, rs_C_H, ps_C_H = plot_mothly_dendroclim(dH[['Year', 'YAK']], [data['Temp_Chokurdakh'], data['Prec_Chokurdakh'], data['VPD_Chokurdakh'], data['SD_Chokurdakh'], data['RH_Chokurdakh']], ylabels=['Temp', 'Prec', 'VPD', 'SD', 'RH'], colors =['red', 'blue', 'green', 'orange', 'lightblue'], title='Chokurdakh $δH$')"
   ]
  },
  {
   "cell_type": "code",
   "execution_count": 9,
   "metadata": {},
   "outputs": [],
   "source": [
    "df = {\n",
    "    'Month' : {'':  ['S', 'O', 'N', 'D', 'J', 'F', 'M', 'A', 'M ', 'J', 'J', 'A']},\n",
    "    'TAY' : {'Temp':[], 'Prec':[], 'VPD':[], 'SD':[], 'RH': []},\n",
    "    'YAK' : {'Temp':[], 'Prec':[], 'VPD':[], 'SD':[], 'RH': []}\n",
    "}\n",
    "\n",
    "for key in rs_K_H.keys():\n",
    "    for r,p in zip(rs_K_H[key], ps_K_H[key]):\n",
    "        df['TAY'][key] += [f'{r:.2f}\\n(p={p:.3f})']\n",
    "    for r,p in zip(rs_C_H[key], ps_C_H[key]):\n",
    "        df['YAK'][key] += [f'{r:.2f}\\n(p={p:.3f})']\n",
    "\n",
    "df_reform = {(outerKey, innerKey): values for outerKey, innerDict in df.items() for innerKey, values in innerDict.items()}\n",
    "pd.DataFrame(df_reform).to_excel('../output/dendroclim_TAY+YAK_corr.xlsx')"
   ]
  },
  {
   "cell_type": "code",
   "execution_count": 4,
   "metadata": {},
   "outputs": [],
   "source": [
    "dCO = pd.read_excel('../input/TAY_YAK_13C_18O.xlsx')"
   ]
  },
  {
   "cell_type": "markdown",
   "metadata": {},
   "source": [
    "Тут считается для периода 1900-2020"
   ]
  },
  {
   "cell_type": "code",
   "execution_count": null,
   "metadata": {},
   "outputs": [],
   "source": [
    "fig_K_C, ax_K_C, rs_K_C, ps_K_C = plot_mothly_dendroclim(dCO[['Year', 'd13C_TAY']], [data['Temp_Khatanga'], data['Prec_Khatanga'], data['VPD_Khatanga'], data['SD_Khatanga'], data['RH_Khatanga']], ylabels=['Temp', 'Prec', 'VPD', 'SD', 'RH'], colors =['red', 'blue', 'green', 'orange', 'lightblue'], title='Khatanga $δ^{13}C$', ylim=[-0.7, 0.5])\n",
    "fig_C_C, ax_C_C, rs_C_C, ps_C_C = plot_mothly_dendroclim(dCO[['Year', 'd13C_YAK']], [data['Temp_Chokurdakh'], data['Prec_Chokurdakh'], data['VPD_Chokurdakh'], data['SD_Chokurdakh'], data['RH_Chokurdakh']], ylabels=['Temp', 'Prec', 'VPD', 'SD', 'RH'], colors =['red', 'blue', 'green', 'orange', 'lightblue'], title='Chokurdakh $δ^{13}C$')\n",
    "fig_K_O, ax_K_O, rs_K_O, ps_K_O = plot_mothly_dendroclim(dCO[['Year', 'd18O_TAY']], [data['Temp_Khatanga'], data['Prec_Khatanga'], data['VPD_Khatanga'], data['SD_Khatanga'], data['RH_Khatanga']], ylabels=['Temp', 'Prec', 'VPD', 'SD', 'RH'], colors =['red', 'blue', 'green', 'orange', 'lightblue'], title='Khatanga $δ^{18}O$', ylim=[-0.7, 0.5])\n",
    "fig_C_O, ax_C_O, rs_C_O, ps_C_O = plot_mothly_dendroclim(dCO[['Year', 'd18O_YAK']], [data['Temp_Chokurdakh'], data['Prec_Chokurdakh'], data['VPD_Chokurdakh'], data['SD_Chokurdakh'], data['RH_Chokurdakh']], ylabels=['Temp', 'Prec', 'VPD', 'SD', 'RH'], colors =['red', 'blue', 'green', 'orange', 'lightblue'], title='Chokurdakh $δ^{18}O$')"
   ]
  },
  {
   "cell_type": "code",
   "execution_count": 6,
   "metadata": {},
   "outputs": [],
   "source": [
    "df = {\n",
    "    'Month' : {'':  ['S', 'O', 'N', 'D', 'J', 'F', 'M', 'A', 'M ', 'J', 'J', 'A']},\n",
    "    'TAY_d13C' : {'Temp':[], 'Prec':[], 'VPD':[], 'SD':[], 'RH': []},\n",
    "    'YAK_d13C' : {'Temp':[], 'Prec':[], 'VPD':[], 'SD':[], 'RH': []},\n",
    "    'TAY_d18O' : {'Temp':[], 'Prec':[], 'VPD':[], 'SD':[], 'RH': []},\n",
    "    'YAK_d18O' : {'Temp':[], 'Prec':[], 'VPD':[], 'SD':[], 'RH': []},\n",
    "}\n",
    "\n",
    "for key in rs_K_O.keys():\n",
    "    for r,p in zip(rs_K_C[key], ps_K_C[key]):\n",
    "        df['TAY_d13C'][key] += [f'{r:.2f}\\n(p={p:.3f})']\n",
    "    for r,p in zip(rs_C_C[key], ps_C_C[key]):\n",
    "        df['YAK_d13C'][key] += [f'{r:.2f}\\n(p={p:.3f})']\n",
    "    for r,p in zip(rs_K_O[key], ps_K_O[key]):\n",
    "        df['TAY_d18O'][key] += [f'{r:.2f}\\n(p={p:.3f})']\n",
    "    for r,p in zip(rs_C_O[key], ps_C_O[key]):\n",
    "        df['YAK_d18O'][key] += [f'{r:.2f}\\n(p={p:.3f})']\n",
    "\n",
    "df_reform = {(outerKey, innerKey): values for outerKey, innerDict in df.items() for innerKey, values in innerDict.items()}\n",
    "pd.DataFrame(df_reform).to_excel('../output/dendroclim_TAY+YAK_CO_corr.xlsx')"
   ]
  },
  {
   "cell_type": "markdown",
   "metadata": {},
   "source": [
    "Тут считается для периода 1980-2020"
   ]
  },
  {
   "cell_type": "code",
   "execution_count": 9,
   "metadata": {},
   "outputs": [],
   "source": [
    "new_dCO = dCO[dCO['Year']>=1980].reset_index(drop=True)"
   ]
  },
  {
   "cell_type": "code",
   "execution_count": null,
   "metadata": {},
   "outputs": [],
   "source": [
    "fig_K_C, ax_K_C, rs_K_C, ps_K_C = plot_mothly_dendroclim(new_dCO[['Year', 'd13C_TAY']], [data['Temp_Khatanga'], data['Prec_Khatanga'], data['VPD_Khatanga'], data['SD_Khatanga'], data['RH_Khatanga']], ylabels=['Temp', 'Prec', 'VPD', 'SD', 'RH'], colors =['red', 'blue', 'green', 'orange', 'lightblue'], title='Khatanga $δ^{13}C$', ylim=[-0.7, 0.5])\n",
    "fig_C_C, ax_C_C, rs_C_C, ps_C_C = plot_mothly_dendroclim(new_dCO[['Year', 'd13C_YAK']], [data['Temp_Chokurdakh'], data['Prec_Chokurdakh'], data['VPD_Chokurdakh'], data['SD_Chokurdakh'], data['RH_Chokurdakh']], ylabels=['Temp', 'Prec', 'VPD', 'SD', 'RH'], colors =['red', 'blue', 'green', 'orange', 'lightblue'], title='Chokurdakh $δ^{13}C$')\n",
    "fig_K_O, ax_K_O, rs_K_O, ps_K_O = plot_mothly_dendroclim(new_dCO[['Year', 'd18O_TAY']], [data['Temp_Khatanga'], data['Prec_Khatanga'], data['VPD_Khatanga'], data['SD_Khatanga'], data['RH_Khatanga']], ylabels=['Temp', 'Prec', 'VPD', 'SD', 'RH'], colors =['red', 'blue', 'green', 'orange', 'lightblue'], title='Khatanga $δ^{18}O$', ylim=[-0.7, 0.5])\n",
    "fig_C_O, ax_C_O, rs_C_O, ps_C_O = plot_mothly_dendroclim(new_dCO[['Year', 'd18O_YAK']], [data['Temp_Chokurdakh'], data['Prec_Chokurdakh'], data['VPD_Chokurdakh'], data['SD_Chokurdakh'], data['RH_Chokurdakh']], ylabels=['Temp', 'Prec', 'VPD', 'SD', 'RH'], colors =['red', 'blue', 'green', 'orange', 'lightblue'], title='Chokurdakh $δ^{18}O$')"
   ]
  },
  {
   "cell_type": "code",
   "execution_count": 11,
   "metadata": {},
   "outputs": [],
   "source": [
    "df = {\n",
    "    'Month' : {'':  ['S', 'O', 'N', 'D', 'J', 'F', 'M', 'A', 'M ', 'J', 'J', 'A']},\n",
    "    'TAY_d13C' : {'Temp':[], 'Prec':[], 'VPD':[], 'SD':[], 'RH': []},\n",
    "    'YAK_d13C' : {'Temp':[], 'Prec':[], 'VPD':[], 'SD':[], 'RH': []},\n",
    "    'TAY_d18O' : {'Temp':[], 'Prec':[], 'VPD':[], 'SD':[], 'RH': []},\n",
    "    'YAK_d18O' : {'Temp':[], 'Prec':[], 'VPD':[], 'SD':[], 'RH': []},\n",
    "}\n",
    "\n",
    "for key in rs_K_O.keys():\n",
    "    for r,p in zip(rs_K_C[key], ps_K_C[key]):\n",
    "        df['TAY_d13C'][key] += [f'{r:.2f}\\n(p={p:.3f})']\n",
    "    for r,p in zip(rs_C_C[key], ps_C_C[key]):\n",
    "        df['YAK_d13C'][key] += [f'{r:.2f}\\n(p={p:.3f})']\n",
    "    for r,p in zip(rs_K_O[key], ps_K_O[key]):\n",
    "        df['TAY_d18O'][key] += [f'{r:.2f}\\n(p={p:.3f})']\n",
    "    for r,p in zip(rs_C_O[key], ps_C_O[key]):\n",
    "        df['YAK_d18O'][key] += [f'{r:.2f}\\n(p={p:.3f})']\n",
    "\n",
    "df_reform = {(outerKey, innerKey): values for outerKey, innerDict in df.items() for innerKey, values in innerDict.items()}\n",
    "pd.DataFrame(df_reform).to_excel('../output/dendroclim_TAY+YAK_CO_1980_corr.xlsx')"
   ]
  },
  {
   "cell_type": "markdown",
   "metadata": {},
   "source": [
    "# Финальные вычисления со всеми данными:"
   ]
  },
  {
   "cell_type": "code",
   "execution_count": 4,
   "metadata": {},
   "outputs": [],
   "source": [
    "df_COH = pd.read_excel('../input/YAK_TAY_CAN_d13C_d18O_2H.xlsx')"
   ]
  },
  {
   "cell_type": "code",
   "execution_count": 5,
   "metadata": {},
   "outputs": [],
   "source": [
    "#TODO: Перетащить это и ячейку ниже в .py файлы\n",
    "\n",
    "def get_multiple_vulues(d: dict, keys: list) -> list:\n",
    "    result = []\n",
    "    existing_keys = []\n",
    "    for key in keys:\n",
    "        value = d.get(key)\n",
    "        if not value is None:\n",
    "            result.append(value)\n",
    "            existing_keys.append(key)\n",
    "    return existing_keys, result"
   ]
  },
  {
   "cell_type": "code",
   "execution_count": 6,
   "metadata": {},
   "outputs": [],
   "source": [
    "reg_locs = {\n",
    "    'TAY': 'Khatanga',\n",
    "    'YAK': 'Chokurdakh',\n",
    "    'CAN': 'Inuvik'\n",
    "}\n",
    "\n",
    "ind_titels = {\n",
    "    'dH': '$δH$',\n",
    "    'd13C': '$δ^{13}C$',\n",
    "    'd18O': '$δ^{18}O$'\n",
    "}\n",
    "\n",
    "char_to_clolr = {\n",
    "    'Temp': 'red',\n",
    "    'Prec': 'blue',\n",
    "    'VPD': 'green',\n",
    "    'SD': 'orange',\n",
    "    'RH': 'lightblue'\n",
    "}\n",
    "\n",
    "r_values, p_values = dict(), dict()"
   ]
  },
  {
   "cell_type": "code",
   "execution_count": null,
   "metadata": {},
   "outputs": [],
   "source": [
    "for column in df_COH.columns:\n",
    "    if column == 'Year':\n",
    "        continue\n",
    "    ind, reg = column.split('_')\n",
    "    loc = reg_locs[reg]\n",
    "    title = f'{reg_locs[reg]} {ind_titels[ind]}'\n",
    "    keys, chars = get_multiple_vulues(data, [f'Temp_{loc}', f'Prec_{loc}', f'VPD_{loc}', f'SD_{loc}', f'RH_{loc}'])\n",
    "    keys = [key.split('_')[0] for key in keys]\n",
    "    colors = [char_to_clolr[key] for key in keys]\n",
    "\n",
    "    fig, ax, rs, ps = plot_mothly_dendroclim(\n",
    "        df_crn=df_COH[['Year', column]],\n",
    "        dfs_char=chars,\n",
    "        ylabels=keys,\n",
    "        colors=colors,\n",
    "        title=title,\n",
    "        ylim=[-0.7, 0.8]\n",
    "    )\n",
    "    r_values[column] = rs\n",
    "    p_values[column] = ps\n"
   ]
  },
  {
   "cell_type": "code",
   "execution_count": null,
   "metadata": {},
   "outputs": [],
   "source": [
    "total_keys = ['Temp', 'Prec', 'VPD', 'SD', 'RH']"
   ]
  },
  {
   "cell_type": "code",
   "execution_count": 42,
   "metadata": {},
   "outputs": [],
   "source": [
    "df_COH_corr = {\n",
    "    'Month' : {'':  ['S', 'O', 'N', 'D', 'J', 'F', 'M', 'A', 'M ', 'J', 'J', 'A']},\n",
    "}"
   ]
  },
  {
   "cell_type": "code",
   "execution_count": 56,
   "metadata": {},
   "outputs": [
    {
     "data": {
      "text/plain": [
       "'d18O_CAN'"
      ]
     },
     "execution_count": 56,
     "metadata": {},
     "output_type": "execute_result"
    }
   ],
   "source": [
    "column"
   ]
  },
  {
   "cell_type": "code",
   "execution_count": 57,
   "metadata": {},
   "outputs": [],
   "source": [
    "for column in df_COH.columns:\n",
    "    if column == 'Year':\n",
    "        continue\n",
    "    df_COH_corr[column] = {'Temp':[], 'Prec':[], 'VPD':[], 'RH': []}\n",
    "\n",
    "    if not 'CAN' in column:\n",
    "        # Для Инувика нет данных по Солнечному Сиянию\n",
    "        df_COH_corr[column]['SD'] = []\n",
    "\n",
    "    rs = r_values[column]\n",
    "    ps = p_values[column]\n",
    "    for key in rs:\n",
    "        for r,p in zip(rs[key], ps[key]):\n",
    "            text = f'{r:.2f}\\n(p={p:.3f})'\n",
    "            df_COH_corr[column][key].append(text)\n",
    "\n",
    "df_reform = {(outerKey, innerKey): values for outerKey, innerDict in df_COH_corr.items() for innerKey, values in innerDict.items()}\n",
    "df_reform = pd.DataFrame(df_reform)"
   ]
  },
  {
   "cell_type": "code",
   "execution_count": 59,
   "metadata": {},
   "outputs": [],
   "source": [
    "df_reform.to_excel('../output/dendroclim_COH_corr.xlsx')"
   ]
  },
  {
   "cell_type": "markdown",
   "metadata": {},
   "source": [
    "# Inuvik correlations"
   ]
  },
  {
   "cell_type": "code",
   "execution_count": 6,
   "metadata": {},
   "outputs": [
    {
     "name": "stdout",
     "output_type": "stream",
     "text": [
      "C/H r = -0.14, p = 0.1353\n",
      "C/O r = -0.11, p = 0.2662\n",
      "O/H r = 0.08, p = 0.4358\n"
     ]
    }
   ],
   "source": [
    "print('C/H r = {0:.2f}, p = {1:.4f}'.format(*dropna_spearmanr(COH['C'], COH['H'])))\n",
    "print('C/O r = {0:.2f}, p = {1:.4f}'.format(*dropna_spearmanr(COH['C'], COH['O'])))\n",
    "print('O/H r = {0:.2f}, p = {1:.4f}'.format(*dropna_spearmanr(COH['O'], COH['H'])))"
   ]
  },
  {
   "cell_type": "code",
   "execution_count": 5,
   "metadata": {},
   "outputs": [
    {
     "name": "stdout",
     "output_type": "stream",
     "text": [
      "C/H r = -0.13, p = 0.1608\n",
      "C/O r = -0.09, p = 0.3740\n",
      "O/H r = 0.14, p = 0.1484\n"
     ]
    }
   ],
   "source": [
    "print('C/H r = {0:.2f}, p = {1:.4f}'.format(*dropna_pearsonr(COH['C'], COH['H'])))\n",
    "print('C/O r = {0:.2f}, p = {1:.4f}'.format(*dropna_pearsonr(COH['C'], COH['O'])))\n",
    "print('O/H r = {0:.2f}, p = {1:.4f}'.format(*dropna_pearsonr(COH['O'], COH['H'])))"
   ]
  },
  {
   "cell_type": "code",
   "execution_count": 6,
   "metadata": {},
   "outputs": [],
   "source": [
    "CAN_COH_prec = COH.merge(data['Prec_Inuvik'], on='Year', how='left')\n",
    "CAN_COH_temp = COH.merge(data['Temp_Inuvik'], on='Year', how='left')\n",
    "CAN_COH_vpd = COH.merge(data['VPD_Inuvik'], on='Year', how='left')\n",
    "CAN_COH_rh = COH.merge(data['DP_Inuvik'], on='Year', how='left')"
   ]
  },
  {
   "cell_type": "code",
   "execution_count": 7,
   "metadata": {},
   "outputs": [],
   "source": [
    "CAN_COH_corr = {\n",
    "    'Month' : [],\n",
    "    'Temp\\C': [],\n",
    "    'Temp\\O': [],\n",
    "    'Temp\\H': [],\n",
    "    'Prec\\C': [],\n",
    "    'Prec\\O': [],\n",
    "    'Prec\\H': [],\n",
    "    'VPD\\C' : [],\n",
    "    'VPD\\O' : [],\n",
    "    'VPD\\H' : [],\n",
    "    'RH\\C' : [],\n",
    "    'RH\\O' : [],\n",
    "    'RH\\H' : [],\n",
    "}\n",
    "montshs = []\n",
    "for col in data['Prec_Inuvik'].columns:\n",
    "    if col == 'Year':\n",
    "        continue\n",
    "    CAN_COH_corr['Month'] += [col]\n",
    "    CAN_COH_corr['Temp\\C'] += ['{0:.2f}\\np={1:.4f}'.format(*dropna_pearsonr(CAN_COH_temp['C'], CAN_COH_temp[col]))]\n",
    "    CAN_COH_corr['Temp\\O'] += ['{0:.2f}\\np={1:.4f}'.format(*dropna_pearsonr(CAN_COH_temp['O'], CAN_COH_temp[col]))]\n",
    "    CAN_COH_corr['Temp\\H'] += ['{0:.2f}\\np={1:.4f}'.format(*dropna_pearsonr(CAN_COH_temp['H'], CAN_COH_temp[col]))]\n",
    "    CAN_COH_corr['Prec\\C'] += ['{0:.2f}\\np={1:.4f}'.format(*dropna_pearsonr(CAN_COH_prec['C'], CAN_COH_prec[col]))]\n",
    "    CAN_COH_corr['Prec\\O'] += ['{0:.2f}\\np={1:.4f}'.format(*dropna_pearsonr(CAN_COH_prec['O'], CAN_COH_prec[col]))]\n",
    "    CAN_COH_corr['Prec\\H'] += ['{0:.2f}\\np={1:.4f}'.format(*dropna_pearsonr(CAN_COH_prec['H'], CAN_COH_prec[col]))]\n",
    "    CAN_COH_corr['VPD\\C']  += ['{0:.2f}\\np={1:.4f}'.format(*dropna_pearsonr(CAN_COH_vpd['C'], CAN_COH_vpd[col]))]\n",
    "    CAN_COH_corr['VPD\\O']  += ['{0:.2f}\\np={1:.4f}'.format(*dropna_pearsonr(CAN_COH_vpd['O'], CAN_COH_vpd[col]))]\n",
    "    CAN_COH_corr['VPD\\H']  += ['{0:.2f}\\np={1:.4f}'.format(*dropna_pearsonr(CAN_COH_vpd['H'], CAN_COH_vpd[col]))]\n",
    "    CAN_COH_corr['RH\\C']  += ['{0:.2f}\\np={1:.4f}'.format(*dropna_pearsonr(CAN_COH_rh['C'], CAN_COH_rh[col]))]\n",
    "    CAN_COH_corr['RH\\O']  += ['{0:.2f}\\np={1:.4f}'.format(*dropna_pearsonr(CAN_COH_rh['O'], CAN_COH_rh[col]))]\n",
    "    CAN_COH_corr['RH\\H']  += ['{0:.2f}\\np={1:.4f}'.format(*dropna_pearsonr(CAN_COH_rh['H'], CAN_COH_rh[col]))]\n",
    "\n",
    "CAN_COH_corr = pd.DataFrame(CAN_COH_corr)"
   ]
  },
  {
   "cell_type": "code",
   "execution_count": 8,
   "metadata": {},
   "outputs": [
    {
     "data": {
      "text/html": [
       "<div>\n",
       "<style scoped>\n",
       "    .dataframe tbody tr th:only-of-type {\n",
       "        vertical-align: middle;\n",
       "    }\n",
       "\n",
       "    .dataframe tbody tr th {\n",
       "        vertical-align: top;\n",
       "    }\n",
       "\n",
       "    .dataframe thead th {\n",
       "        text-align: right;\n",
       "    }\n",
       "</style>\n",
       "<table border=\"1\" class=\"dataframe\">\n",
       "  <thead>\n",
       "    <tr style=\"text-align: right;\">\n",
       "      <th></th>\n",
       "      <th>Month</th>\n",
       "      <th>Temp\\C</th>\n",
       "      <th>Temp\\O</th>\n",
       "      <th>Temp\\H</th>\n",
       "      <th>Prec\\C</th>\n",
       "      <th>Prec\\O</th>\n",
       "      <th>Prec\\H</th>\n",
       "      <th>VPD\\C</th>\n",
       "      <th>VPD\\O</th>\n",
       "      <th>VPD\\H</th>\n",
       "      <th>RH\\C</th>\n",
       "      <th>RH\\O</th>\n",
       "      <th>RH\\H</th>\n",
       "    </tr>\n",
       "  </thead>\n",
       "  <tbody>\n",
       "    <tr>\n",
       "      <th>0</th>\n",
       "      <td>January</td>\n",
       "      <td>-0.16\\np=0.0867</td>\n",
       "      <td>-0.01\\np=0.9054</td>\n",
       "      <td>-0.03\\np=0.7364</td>\n",
       "      <td>0.09\\np=0.4938</td>\n",
       "      <td>-0.19\\np=0.1406</td>\n",
       "      <td>0.01\\np=0.9414</td>\n",
       "      <td>0.22\\np=0.0188</td>\n",
       "      <td>-0.07\\np=0.4475</td>\n",
       "      <td>-0.15\\np=0.1270</td>\n",
       "      <td>-0.16\\np=0.2724</td>\n",
       "      <td>-0.15\\np=0.2990</td>\n",
       "      <td>-0.22\\np=0.1169</td>\n",
       "    </tr>\n",
       "    <tr>\n",
       "      <th>1</th>\n",
       "      <td>February</td>\n",
       "      <td>-0.20\\np=0.0410</td>\n",
       "      <td>0.14\\np=0.1509</td>\n",
       "      <td>0.02\\np=0.8461</td>\n",
       "      <td>0.09\\np=0.4708</td>\n",
       "      <td>0.11\\np=0.4121</td>\n",
       "      <td>0.04\\np=0.7805</td>\n",
       "      <td>0.24\\np=0.0120</td>\n",
       "      <td>0.05\\np=0.6065</td>\n",
       "      <td>-0.20\\np=0.0346</td>\n",
       "      <td>-0.28\\np=0.0439</td>\n",
       "      <td>0.01\\np=0.9216</td>\n",
       "      <td>-0.01\\np=0.9305</td>\n",
       "    </tr>\n",
       "    <tr>\n",
       "      <th>2</th>\n",
       "      <td>March</td>\n",
       "      <td>-0.20\\np=0.0400</td>\n",
       "      <td>0.20\\np=0.0339</td>\n",
       "      <td>0.23\\np=0.0161</td>\n",
       "      <td>0.05\\np=0.6765</td>\n",
       "      <td>0.10\\np=0.4349</td>\n",
       "      <td>0.03\\np=0.8445</td>\n",
       "      <td>0.15\\np=0.1314</td>\n",
       "      <td>-0.00\\np=0.9738</td>\n",
       "      <td>-0.07\\np=0.4519</td>\n",
       "      <td>0.11\\np=0.4459</td>\n",
       "      <td>0.18\\np=0.2021</td>\n",
       "      <td>0.29\\np=0.0368</td>\n",
       "    </tr>\n",
       "    <tr>\n",
       "      <th>3</th>\n",
       "      <td>April</td>\n",
       "      <td>-0.29\\np=0.0022</td>\n",
       "      <td>0.27\\np=0.0041</td>\n",
       "      <td>0.14\\np=0.1380</td>\n",
       "      <td>0.21\\np=0.1032</td>\n",
       "      <td>-0.09\\np=0.4611</td>\n",
       "      <td>-0.16\\np=0.2160</td>\n",
       "      <td>0.20\\np=0.0414</td>\n",
       "      <td>-0.04\\np=0.6449</td>\n",
       "      <td>-0.15\\np=0.1245</td>\n",
       "      <td>0.03\\np=0.8390</td>\n",
       "      <td>0.29\\np=0.0382</td>\n",
       "      <td>0.06\\np=0.6571</td>\n",
       "    </tr>\n",
       "    <tr>\n",
       "      <th>4</th>\n",
       "      <td>May</td>\n",
       "      <td>-0.21\\np=0.0249</td>\n",
       "      <td>0.24\\np=0.0126</td>\n",
       "      <td>0.12\\np=0.2306</td>\n",
       "      <td>0.05\\np=0.6758</td>\n",
       "      <td>-0.09\\np=0.4696</td>\n",
       "      <td>0.09\\np=0.4662</td>\n",
       "      <td>0.38\\np=0.0001</td>\n",
       "      <td>-0.07\\np=0.4547</td>\n",
       "      <td>-0.23\\np=0.0152</td>\n",
       "      <td>-0.02\\np=0.8992</td>\n",
       "      <td>0.09\\np=0.5178</td>\n",
       "      <td>0.01\\np=0.9322</td>\n",
       "    </tr>\n",
       "    <tr>\n",
       "      <th>5</th>\n",
       "      <td>June</td>\n",
       "      <td>-0.20\\np=0.0375</td>\n",
       "      <td>0.16\\np=0.0976</td>\n",
       "      <td>0.03\\np=0.7642</td>\n",
       "      <td>-0.18\\np=0.1540</td>\n",
       "      <td>-0.21\\np=0.0914</td>\n",
       "      <td>0.21\\np=0.0914</td>\n",
       "      <td>0.41\\np=0.0000</td>\n",
       "      <td>-0.10\\np=0.2943</td>\n",
       "      <td>-0.29\\np=0.0024</td>\n",
       "      <td>-0.11\\np=0.4313</td>\n",
       "      <td>0.01\\np=0.9591</td>\n",
       "      <td>-0.11\\np=0.4627</td>\n",
       "    </tr>\n",
       "    <tr>\n",
       "      <th>6</th>\n",
       "      <td>July</td>\n",
       "      <td>-0.06\\np=0.5626</td>\n",
       "      <td>0.05\\np=0.5905</td>\n",
       "      <td>0.32\\np=0.0007</td>\n",
       "      <td>-0.09\\np=0.4825</td>\n",
       "      <td>-0.10\\np=0.4498</td>\n",
       "      <td>0.07\\np=0.5952</td>\n",
       "      <td>0.44\\np=0.0000</td>\n",
       "      <td>-0.14\\np=0.1607</td>\n",
       "      <td>-0.16\\np=0.1045</td>\n",
       "      <td>-0.02\\np=0.8689</td>\n",
       "      <td>-0.09\\np=0.5305</td>\n",
       "      <td>0.22\\np=0.1279</td>\n",
       "    </tr>\n",
       "    <tr>\n",
       "      <th>7</th>\n",
       "      <td>August</td>\n",
       "      <td>-0.22\\np=0.0243</td>\n",
       "      <td>-0.05\\np=0.6232</td>\n",
       "      <td>0.25\\np=0.0085</td>\n",
       "      <td>0.13\\np=0.3120</td>\n",
       "      <td>0.03\\np=0.8379</td>\n",
       "      <td>-0.19\\np=0.1291</td>\n",
       "      <td>0.38\\np=0.0000</td>\n",
       "      <td>-0.16\\np=0.1016</td>\n",
       "      <td>-0.16\\np=0.0865</td>\n",
       "      <td>-0.18\\np=0.2099</td>\n",
       "      <td>-0.15\\np=0.2809</td>\n",
       "      <td>0.14\\np=0.3438</td>\n",
       "    </tr>\n",
       "    <tr>\n",
       "      <th>8</th>\n",
       "      <td>September</td>\n",
       "      <td>-0.26\\np=0.0056</td>\n",
       "      <td>0.08\\np=0.4055</td>\n",
       "      <td>0.18\\np=0.0655</td>\n",
       "      <td>0.03\\np=0.8133</td>\n",
       "      <td>0.07\\np=0.6103</td>\n",
       "      <td>0.05\\np=0.7024</td>\n",
       "      <td>0.38\\np=0.0001</td>\n",
       "      <td>-0.14\\np=0.1337</td>\n",
       "      <td>-0.20\\np=0.0390</td>\n",
       "      <td>-0.31\\np=0.0270</td>\n",
       "      <td>0.11\\np=0.4586</td>\n",
       "      <td>0.08\\np=0.5716</td>\n",
       "    </tr>\n",
       "    <tr>\n",
       "      <th>9</th>\n",
       "      <td>October</td>\n",
       "      <td>-0.02\\np=0.8677</td>\n",
       "      <td>0.20\\np=0.0359</td>\n",
       "      <td>-0.10\\np=0.3134</td>\n",
       "      <td>0.25\\np=0.0482</td>\n",
       "      <td>0.04\\np=0.7546</td>\n",
       "      <td>0.04\\np=0.7315</td>\n",
       "      <td>0.38\\np=0.0000</td>\n",
       "      <td>-0.08\\np=0.4033</td>\n",
       "      <td>-0.22\\np=0.0210</td>\n",
       "      <td>0.02\\np=0.8664</td>\n",
       "      <td>0.16\\np=0.2478</td>\n",
       "      <td>-0.28\\np=0.0455</td>\n",
       "    </tr>\n",
       "    <tr>\n",
       "      <th>10</th>\n",
       "      <td>November</td>\n",
       "      <td>-0.21\\np=0.0316</td>\n",
       "      <td>0.12\\np=0.2023</td>\n",
       "      <td>0.13\\np=0.1746</td>\n",
       "      <td>0.08\\np=0.5220</td>\n",
       "      <td>-0.11\\np=0.3927</td>\n",
       "      <td>0.06\\np=0.6171</td>\n",
       "      <td>0.22\\np=0.0219</td>\n",
       "      <td>-0.07\\np=0.4399</td>\n",
       "      <td>-0.11\\np=0.2544</td>\n",
       "      <td>-0.15\\np=0.3011</td>\n",
       "      <td>0.15\\np=0.2804</td>\n",
       "      <td>0.15\\np=0.3033</td>\n",
       "    </tr>\n",
       "    <tr>\n",
       "      <th>11</th>\n",
       "      <td>December</td>\n",
       "      <td>-0.07\\np=0.4799</td>\n",
       "      <td>0.17\\np=0.0786</td>\n",
       "      <td>-0.05\\np=0.6007</td>\n",
       "      <td>0.17\\np=0.1780</td>\n",
       "      <td>0.01\\np=0.9606</td>\n",
       "      <td>0.11\\np=0.4112</td>\n",
       "      <td>0.32\\np=0.0008</td>\n",
       "      <td>-0.00\\np=0.9761</td>\n",
       "      <td>-0.26\\np=0.0068</td>\n",
       "      <td>-0.10\\np=0.4757</td>\n",
       "      <td>0.16\\np=0.2596</td>\n",
       "      <td>-0.06\\np=0.6781</td>\n",
       "    </tr>\n",
       "  </tbody>\n",
       "</table>\n",
       "</div>"
      ],
      "text/plain": [
       "        Month           Temp\\C           Temp\\O           Temp\\H  \\\n",
       "0     January  -0.16\\np=0.0867  -0.01\\np=0.9054  -0.03\\np=0.7364   \n",
       "1    February  -0.20\\np=0.0410   0.14\\np=0.1509   0.02\\np=0.8461   \n",
       "2       March  -0.20\\np=0.0400   0.20\\np=0.0339   0.23\\np=0.0161   \n",
       "3       April  -0.29\\np=0.0022   0.27\\np=0.0041   0.14\\np=0.1380   \n",
       "4         May  -0.21\\np=0.0249   0.24\\np=0.0126   0.12\\np=0.2306   \n",
       "5        June  -0.20\\np=0.0375   0.16\\np=0.0976   0.03\\np=0.7642   \n",
       "6        July  -0.06\\np=0.5626   0.05\\np=0.5905   0.32\\np=0.0007   \n",
       "7      August  -0.22\\np=0.0243  -0.05\\np=0.6232   0.25\\np=0.0085   \n",
       "8   September  -0.26\\np=0.0056   0.08\\np=0.4055   0.18\\np=0.0655   \n",
       "9     October  -0.02\\np=0.8677   0.20\\np=0.0359  -0.10\\np=0.3134   \n",
       "10   November  -0.21\\np=0.0316   0.12\\np=0.2023   0.13\\np=0.1746   \n",
       "11   December  -0.07\\np=0.4799   0.17\\np=0.0786  -0.05\\np=0.6007   \n",
       "\n",
       "             Prec\\C           Prec\\O           Prec\\H           VPD\\C  \\\n",
       "0    0.09\\np=0.4938  -0.19\\np=0.1406   0.01\\np=0.9414  0.22\\np=0.0188   \n",
       "1    0.09\\np=0.4708   0.11\\np=0.4121   0.04\\np=0.7805  0.24\\np=0.0120   \n",
       "2    0.05\\np=0.6765   0.10\\np=0.4349   0.03\\np=0.8445  0.15\\np=0.1314   \n",
       "3    0.21\\np=0.1032  -0.09\\np=0.4611  -0.16\\np=0.2160  0.20\\np=0.0414   \n",
       "4    0.05\\np=0.6758  -0.09\\np=0.4696   0.09\\np=0.4662  0.38\\np=0.0001   \n",
       "5   -0.18\\np=0.1540  -0.21\\np=0.0914   0.21\\np=0.0914  0.41\\np=0.0000   \n",
       "6   -0.09\\np=0.4825  -0.10\\np=0.4498   0.07\\np=0.5952  0.44\\np=0.0000   \n",
       "7    0.13\\np=0.3120   0.03\\np=0.8379  -0.19\\np=0.1291  0.38\\np=0.0000   \n",
       "8    0.03\\np=0.8133   0.07\\np=0.6103   0.05\\np=0.7024  0.38\\np=0.0001   \n",
       "9    0.25\\np=0.0482   0.04\\np=0.7546   0.04\\np=0.7315  0.38\\np=0.0000   \n",
       "10   0.08\\np=0.5220  -0.11\\np=0.3927   0.06\\np=0.6171  0.22\\np=0.0219   \n",
       "11   0.17\\np=0.1780   0.01\\np=0.9606   0.11\\np=0.4112  0.32\\np=0.0008   \n",
       "\n",
       "              VPD\\O            VPD\\H             RH\\C             RH\\O  \\\n",
       "0   -0.07\\np=0.4475  -0.15\\np=0.1270  -0.16\\np=0.2724  -0.15\\np=0.2990   \n",
       "1    0.05\\np=0.6065  -0.20\\np=0.0346  -0.28\\np=0.0439   0.01\\np=0.9216   \n",
       "2   -0.00\\np=0.9738  -0.07\\np=0.4519   0.11\\np=0.4459   0.18\\np=0.2021   \n",
       "3   -0.04\\np=0.6449  -0.15\\np=0.1245   0.03\\np=0.8390   0.29\\np=0.0382   \n",
       "4   -0.07\\np=0.4547  -0.23\\np=0.0152  -0.02\\np=0.8992   0.09\\np=0.5178   \n",
       "5   -0.10\\np=0.2943  -0.29\\np=0.0024  -0.11\\np=0.4313   0.01\\np=0.9591   \n",
       "6   -0.14\\np=0.1607  -0.16\\np=0.1045  -0.02\\np=0.8689  -0.09\\np=0.5305   \n",
       "7   -0.16\\np=0.1016  -0.16\\np=0.0865  -0.18\\np=0.2099  -0.15\\np=0.2809   \n",
       "8   -0.14\\np=0.1337  -0.20\\np=0.0390  -0.31\\np=0.0270   0.11\\np=0.4586   \n",
       "9   -0.08\\np=0.4033  -0.22\\np=0.0210   0.02\\np=0.8664   0.16\\np=0.2478   \n",
       "10  -0.07\\np=0.4399  -0.11\\np=0.2544  -0.15\\np=0.3011   0.15\\np=0.2804   \n",
       "11  -0.00\\np=0.9761  -0.26\\np=0.0068  -0.10\\np=0.4757   0.16\\np=0.2596   \n",
       "\n",
       "               RH\\H  \n",
       "0   -0.22\\np=0.1169  \n",
       "1   -0.01\\np=0.9305  \n",
       "2    0.29\\np=0.0368  \n",
       "3    0.06\\np=0.6571  \n",
       "4    0.01\\np=0.9322  \n",
       "5   -0.11\\np=0.4627  \n",
       "6    0.22\\np=0.1279  \n",
       "7    0.14\\np=0.3438  \n",
       "8    0.08\\np=0.5716  \n",
       "9   -0.28\\np=0.0455  \n",
       "10   0.15\\np=0.3033  \n",
       "11  -0.06\\np=0.6781  "
      ]
     },
     "execution_count": 8,
     "metadata": {},
     "output_type": "execute_result"
    }
   ],
   "source": [
    "CAN_COH_corr"
   ]
  },
  {
   "cell_type": "code",
   "execution_count": 9,
   "metadata": {},
   "outputs": [],
   "source": [
    "CAN_COH_corr.to_excel('../output/CAN_COH_corr.xlsx', index=False)"
   ]
  }
 ],
 "metadata": {
  "interpreter": {
   "hash": "f649158f7c33c6404512ef6eab241b4bcb236cb55f6502e8325131a5b8388ac6"
  },
  "kernelspec": {
   "display_name": "Python 3.9.7 64-bit",
   "language": "python",
   "name": "python3"
  },
  "language_info": {
   "codemirror_mode": {
    "name": "ipython",
    "version": 3
   },
   "file_extension": ".py",
   "mimetype": "text/x-python",
   "name": "python",
   "nbconvert_exporter": "python",
   "pygments_lexer": "ipython3",
   "version": "3.9.7"
  },
  "orig_nbformat": 4
 },
 "nbformat": 4,
 "nbformat_minor": 2
}
