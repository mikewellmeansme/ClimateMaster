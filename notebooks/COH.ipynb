{
 "cells": [
  {
   "cell_type": "code",
   "execution_count": 1,
   "metadata": {},
   "outputs": [],
   "source": [
    "import sys \n",
    "sys.path.append('..')"
   ]
  },
  {
   "cell_type": "code",
   "execution_count": 2,
   "metadata": {},
   "outputs": [],
   "source": [
    "import pandas as pd\n",
    "from os import listdir\n",
    "from os.path import isfile, join\n",
    "from utils.functions import dropna_pearsonr, dropna_spearmanr, get_df_corr\n",
    "from climate.dendroclim import plot_mothly_dendroclim\n",
    "from climate.coh import get_coh_corr_table\n",
    "import numpy as np\n",
    "\n",
    "pd.options.mode.chained_assignment = None  # default='warn'"
   ]
  },
  {
   "cell_type": "code",
   "execution_count": 3,
   "metadata": {},
   "outputs": [],
   "source": [
    "path = '../input/climate/real+grid'\n",
    "files = [f.split('.')[0] for f in listdir(path) if isfile(join(path, f))]\n",
    "\n",
    "data = dict()\n",
    "for f in files:\n",
    "    data[f] = pd.read_csv(f'{path}/{f}.csv')\n",
    "\n",
    "data['DP_Inuvik'] = pd.read_csv('../input/climate/real/dew point temperature/DewPointTemp_Inuvik.csv')\n",
    "data['SD_Khatanga'] = pd.read_csv('../input/climate/real/sunshine duration/SD_Khatanga.csv')\n",
    "data['SD_Chokurdakh'] = pd.read_csv('../input/climate/real/sunshine duration/SD_Chokurdakh.csv')\n",
    "data['RH_Inuvik'] = pd.read_csv('../input/climate/real/relative humidity/RH_Inuvik.csv')\n",
    "data['RH_Khatanga'] = pd.read_csv('../input/climate/real/relative humidity/RH_Khatanga.csv')\n",
    "data['RH_Chokurdakh'] = pd.read_csv('../input/climate/real/relative humidity/RH_Chokurdakh.csv')"
   ]
  },
  {
   "cell_type": "markdown",
   "metadata": {},
   "source": [
    "# Финальные вычисления со всеми данными:"
   ]
  },
  {
   "cell_type": "code",
   "execution_count": 4,
   "metadata": {},
   "outputs": [],
   "source": [
    "df_COH = pd.read_excel('../input/COH/YAK_TAY_CAN_d13C_d18O_2H.xlsx')"
   ]
  },
  {
   "cell_type": "code",
   "execution_count": 15,
   "metadata": {},
   "outputs": [],
   "source": [
    "#TODO: Перетащить это и ячейку ниже в .py файлы\n",
    "\n",
    "def get_multiple_values(d: dict, keys: list) -> list:\n",
    "    result = []\n",
    "    existing_keys = []\n",
    "    for key in keys:\n",
    "        value = d.get(key)\n",
    "        if not value is None:\n",
    "            result.append(value)\n",
    "            existing_keys.append(key)\n",
    "    return existing_keys, result"
   ]
  },
  {
   "cell_type": "code",
   "execution_count": 6,
   "metadata": {},
   "outputs": [],
   "source": [
    "reg_locs = {\n",
    "    'TAY': 'Khatanga',\n",
    "    'YAK': 'Chokurdakh',\n",
    "    'CAN': 'Inuvik'\n",
    "}\n",
    "\n",
    "ind_titels = {\n",
    "    'dH': '$δH$',\n",
    "    'd13C': '$δ^{13}C$',\n",
    "    'd18O': '$δ^{18}O$'\n",
    "}\n",
    "\n",
    "char_to_clolr = {\n",
    "    'Temp': 'red',\n",
    "    'Prec': 'blue',\n",
    "    'VPD': 'green',\n",
    "    'SD': 'orange',\n",
    "    'RH': 'lightblue'\n",
    "}\n",
    "\n",
    "r_values, p_values = dict(), dict()"
   ]
  },
  {
   "cell_type": "code",
   "execution_count": null,
   "metadata": {},
   "outputs": [],
   "source": [
    "for column in df_COH.columns:\n",
    "    if column == 'Year':\n",
    "        continue\n",
    "    ind, reg = column.split('_')\n",
    "    loc = reg_locs[reg]\n",
    "    title = f'{reg_locs[reg]} {ind_titels[ind]}'\n",
    "    keys, chars = get_multiple_values(data, [f'Temp_{loc}', f'Prec_{loc}', f'VPD_{loc}', f'SD_{loc}', f'RH_{loc}'])\n",
    "    keys = [key.split('_')[0] for key in keys]\n",
    "    colors = [char_to_clolr[key] for key in keys]\n",
    "\n",
    "    fig, ax, rs, ps = plot_mothly_dendroclim(\n",
    "        df_crn=df_COH[['Year', column]],\n",
    "        dfs_char=chars,\n",
    "        ylabels=keys,\n",
    "        colors=colors,\n",
    "        title=title,\n",
    "        ylim=[-0.7, 0.8]\n",
    "    )\n",
    "    r_values[column] = rs\n",
    "    p_values[column] = ps\n"
   ]
  },
  {
   "cell_type": "code",
   "execution_count": null,
   "metadata": {},
   "outputs": [],
   "source": [
    "total_keys = ['Temp', 'Prec', 'VPD', 'SD', 'RH']"
   ]
  },
  {
   "cell_type": "code",
   "execution_count": 42,
   "metadata": {},
   "outputs": [],
   "source": [
    "df_COH_corr = {\n",
    "    'Month' : {'':  ['S', 'O', 'N', 'D', 'J', 'F', 'M', 'A', 'M ', 'J', 'J', 'A']},\n",
    "}"
   ]
  },
  {
   "cell_type": "code",
   "execution_count": 56,
   "metadata": {},
   "outputs": [
    {
     "data": {
      "text/plain": [
       "'d18O_CAN'"
      ]
     },
     "execution_count": 56,
     "metadata": {},
     "output_type": "execute_result"
    }
   ],
   "source": [
    "column"
   ]
  },
  {
   "cell_type": "code",
   "execution_count": 57,
   "metadata": {},
   "outputs": [],
   "source": [
    "for column in df_COH.columns:\n",
    "    if column == 'Year':\n",
    "        continue\n",
    "    df_COH_corr[column] = {'Temp':[], 'Prec':[], 'VPD':[], 'RH': []}\n",
    "\n",
    "    if not 'CAN' in column:\n",
    "        # Для Инувика нет данных по Солнечному Сиянию\n",
    "        df_COH_corr[column]['SD'] = []\n",
    "\n",
    "    rs = r_values[column]\n",
    "    ps = p_values[column]\n",
    "    for key in rs:\n",
    "        for r,p in zip(rs[key], ps[key]):\n",
    "            text = f'{r:.2f}\\n(p={p:.3f})'\n",
    "            df_COH_corr[column][key].append(text)\n",
    "\n",
    "df_reform = {(outerKey, innerKey): values for outerKey, innerDict in df_COH_corr.items() for innerKey, values in innerDict.items()}\n",
    "df_reform = pd.DataFrame(df_reform)"
   ]
  },
  {
   "cell_type": "code",
   "execution_count": 59,
   "metadata": {},
   "outputs": [],
   "source": [
    "df_reform.to_excel('../output/dendroclim_COH_corr.xlsx')"
   ]
  },
  {
   "cell_type": "markdown",
   "metadata": {},
   "source": [
    "# Task 03.04.2022"
   ]
  },
  {
   "cell_type": "markdown",
   "metadata": {},
   "source": [
    "Рассчитать климатику между данными в файле \"TAY_YAK_COH_030422.xlsx\" с темп, осадк, относит влажностью, VPD, SD c 1901-2020, и с 1950-2020 для каждого параметра С, H, О для YAK с метеост Чокурдах и Депутатское, для TAY c Хатангой. Посчитать корреляции между С, O, H для TAY и YAK для 1900-2020 and 1950-2020.\n",
    "\n",
    "если нет данных с 50х, а только с 1966, то сделать с 1966 по 2020/2021 и до с 1900 по 1965 или с 1901 по 1950"
   ]
  },
  {
   "cell_type": "code",
   "execution_count": 4,
   "metadata": {},
   "outputs": [],
   "source": [
    "df_COH = pd.read_excel(\"../input/COH/TAY_YAK_COH_030422.xlsx\")"
   ]
  },
  {
   "cell_type": "code",
   "execution_count": 6,
   "metadata": {},
   "outputs": [],
   "source": [
    "df_COH_before_1950 = df_COH[df_COH['Year']<=1950]\n",
    "df_COH_after_1950 = df_COH[df_COH['Year']>1950]"
   ]
  },
  {
   "cell_type": "code",
   "execution_count": 11,
   "metadata": {},
   "outputs": [],
   "source": [
    "get_df_corr(df_COH.drop(columns=['Year'])).to_excel('../output/COH_corr_1900-2021.xlsx', index=True)\n",
    "get_df_corr(df_COH_before_1950.drop(columns=['Year'])).to_excel('../output/COH_corr_1900-1950.xlsx', index=True)\n",
    "get_df_corr(df_COH_after_1950.drop(columns=['Year'])).to_excel('../output/COH_corr_1951-2021.xlsx', index=True)"
   ]
  },
  {
   "cell_type": "code",
   "execution_count": 7,
   "metadata": {},
   "outputs": [],
   "source": [
    "loc_to_reg = {\n",
    "    'Chokurdakh': 'YAK',\n",
    "    'Deputatsky': 'YAK',\n",
    "    'Khatanga' : 'TAY'\n",
    "    }\n",
    "dfs = {\n",
    "    '1900-2021':df_COH,\n",
    "    #'1900-1950':df_COH_before_1950,\n",
    "    '1951-2021': df_COH_after_1950\n",
    "    }\n",
    "\n",
    "ind_titels = {\n",
    "    '2H': '$δH$',\n",
    "    '13C': '$δ^{13}C$',\n",
    "    '18O': '$δ^{18}O$'\n",
    "}\n",
    "\n",
    "char_to_clolr = {\n",
    "    'Temp': 'red',\n",
    "    'Prec': 'blue',\n",
    "    'VPD': 'green',\n",
    "    'SD': 'orange',\n",
    "    'RH': 'lightblue'\n",
    "}\n",
    "\n"
   ]
  },
  {
   "cell_type": "code",
   "execution_count": null,
   "metadata": {},
   "outputs": [],
   "source": [
    "for df_key in dfs:\n",
    "    df_reform = get_coh_corr_table(data, dfs[df_key], loc_to_reg, ind_titels, char_to_clolr)\n",
    "    df_reform.to_excel(f'../output/dendroclim_COH_corr_{df_key}.xlsx')"
   ]
  },
  {
   "cell_type": "markdown",
   "metadata": {},
   "source": [
    "# Task 20.04.2022"
   ]
  },
  {
   "cell_type": "code",
   "execution_count": 14,
   "metadata": {},
   "outputs": [],
   "source": [
    "df_COH = pd.read_excel(\"../input/COH/13C_allsites.xlsx\")"
   ]
  },
  {
   "cell_type": "code",
   "execution_count": 15,
   "metadata": {},
   "outputs": [],
   "source": [
    "df_sites = pd.read_csv('../input/Sites.csv')"
   ]
  },
  {
   "cell_type": "code",
   "execution_count": 16,
   "metadata": {},
   "outputs": [],
   "source": [
    "regs_locs = df_sites[['Site code', 'Station name']].dropna()"
   ]
  },
  {
   "cell_type": "code",
   "execution_count": 6,
   "metadata": {},
   "outputs": [],
   "source": [
    "regs = list(regs_locs['Site code'])\n",
    "locs = list(regs_locs['Station name'])"
   ]
  },
  {
   "cell_type": "code",
   "execution_count": 7,
   "metadata": {},
   "outputs": [],
   "source": [
    "path = '../input/climate/real'\n",
    "\n",
    "characterisitict = [\n",
    "    'precipitation',\n",
    "    'relative humidity',\n",
    "    'sunshine duration',\n",
    "    'temperature',\n",
    "    'vpd'\n",
    "]\n"
   ]
  },
  {
   "cell_type": "code",
   "execution_count": 8,
   "metadata": {},
   "outputs": [],
   "source": [
    "data = dict()\n",
    "\n",
    "for char in characterisitict:\n",
    "    for file in listdir(f'{path}/{char}'):\n",
    "        data[file.split('.')[0]] = pd.read_csv(f'{path}/{char}/{file}')"
   ]
  },
  {
   "cell_type": "code",
   "execution_count": 26,
   "metadata": {},
   "outputs": [],
   "source": [
    "chars = ['Temp', 'Prec', 'VPD', 'RH', 'SD']"
   ]
  },
  {
   "cell_type": "code",
   "execution_count": 27,
   "metadata": {},
   "outputs": [],
   "source": [
    "periods = {\n",
    "    'Station name' :locs\n",
    "}"
   ]
  },
  {
   "cell_type": "code",
   "execution_count": 28,
   "metadata": {},
   "outputs": [],
   "source": [
    "for char in chars:\n",
    "    periods[char] = []\n",
    "    for loc in locs:\n",
    "        try:\n",
    "            d = data[f'{char}_{loc}']\n",
    "            period = f\"{min(d['Year'])}-{max(d['Year'])}\"\n",
    "        except:\n",
    "            period = ''\n",
    "        periods[char] += [period]"
   ]
  },
  {
   "cell_type": "code",
   "execution_count": 30,
   "metadata": {},
   "outputs": [],
   "source": [
    "pd.DataFrame(periods).to_excel('../output/Periods-table.xlsx', index=False)"
   ]
  },
  {
   "cell_type": "code",
   "execution_count": null,
   "metadata": {},
   "outputs": [],
   "source": [
    "new_df = pd.DataFrame({'Year':range(1901,2022)})\n",
    "\n",
    "for key in data:\n",
    "    data[key]['MEAN'] = data[key].drop(columns=['Year']).mean(axis=1, skipna=True)\n",
    "    new_df = new_df.merge(data[key][['Year', 'MEAN']], on='Year', how='left').rename(columns={'MEAN':key})\n",
    "\n",
    "new_new_df = ~new_df.isna()\n",
    "new_new_df['Year'] = new_df['Year']\n",
    "new_new_df = new_new_df.replace(False, 0).replace(True, 1)\n",
    "\n",
    "new_new_df.to_excel('../output/NEW_data_gap_table.xlsx')"
   ]
  },
  {
   "cell_type": "code",
   "execution_count": 9,
   "metadata": {},
   "outputs": [],
   "source": [
    "dfs = {\n",
    "    '1900-2021':df_COH,\n",
    "    #'1951-2021': df_COH_after_1950\n",
    "    }\n",
    "\n",
    "ind_titels = {\n",
    "    '2H': '$δH$',\n",
    "    '13C': '$δ^{13}C$',\n",
    "    '18O': '$δ^{18}O$'\n",
    "}\n",
    "\n",
    "char_to_color = {\n",
    "    'Temp': 'red',\n",
    "    'Prec': 'blue',\n",
    "    'VPD': 'green',\n",
    "    'SD': 'orange',\n",
    "    'RH': 'lightblue'\n",
    "}"
   ]
  },
  {
   "cell_type": "code",
   "execution_count": 17,
   "metadata": {},
   "outputs": [],
   "source": [
    "df_reform = get_coh_corr_table(data, df_COH, locs, regs, ind_titels, char_to_color)"
   ]
  },
  {
   "cell_type": "code",
   "execution_count": 11,
   "metadata": {},
   "outputs": [],
   "source": [
    "def highlight_cells(x):\n",
    "    try:\n",
    "        r, p = x.split('=')\n",
    "    except:\n",
    "        return None\n",
    "    r = float(r[:-3])\n",
    "    p = float(p[:-1])\n",
    "    if p<0.05:\n",
    "        if r>0:\n",
    "            return 'background-color: lightgreen'\n",
    "        else:\n",
    "            return 'background-color: lightcoral'\n",
    "    return None\n"
   ]
  },
  {
   "cell_type": "code",
   "execution_count": 18,
   "metadata": {},
   "outputs": [],
   "source": [
    "df_reform.T.style.applymap(highlight_cells).to_excel(f'../output/dendroclim_COH_corr_FULL_03.xlsx')"
   ]
  },
  {
   "cell_type": "code",
   "execution_count": null,
   "metadata": {},
   "outputs": [],
   "source": []
  }
 ],
 "metadata": {
  "interpreter": {
   "hash": "f649158f7c33c6404512ef6eab241b4bcb236cb55f6502e8325131a5b8388ac6"
  },
  "kernelspec": {
   "display_name": "Python 3.9.7 64-bit",
   "language": "python",
   "name": "python3"
  },
  "language_info": {
   "codemirror_mode": {
    "name": "ipython",
    "version": 3
   },
   "file_extension": ".py",
   "mimetype": "text/x-python",
   "name": "python",
   "nbconvert_exporter": "python",
   "pygments_lexer": "ipython3",
   "version": "3.9.7"
  },
  "orig_nbformat": 4
 },
 "nbformat": 4,
 "nbformat_minor": 2
}
