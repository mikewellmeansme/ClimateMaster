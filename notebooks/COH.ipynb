{
 "cells": [
  {
   "cell_type": "code",
   "execution_count": 1,
   "metadata": {},
   "outputs": [],
   "source": [
    "import sys \n",
    "sys.path.append('..')"
   ]
  },
  {
   "cell_type": "code",
   "execution_count": 17,
   "metadata": {},
   "outputs": [
    {
     "ename": "ImportError",
     "evalue": "cannot import name 'dropna_spearmanr' from 'utils.functions' (c:\\Users\\Mikhail\\Documents\\Code\\Python_3.9\\ClimateMaster\\notebooks\\..\\utils\\functions.py)",
     "output_type": "error",
     "traceback": [
      "\u001b[1;31m---------------------------------------------------------------------------\u001b[0m",
      "\u001b[1;31mImportError\u001b[0m                               Traceback (most recent call last)",
      "\u001b[1;32m~\\AppData\\Local\\Temp/ipykernel_25904/1911857497.py\u001b[0m in \u001b[0;36m<module>\u001b[1;34m\u001b[0m\n\u001b[0;32m      2\u001b[0m \u001b[1;32mfrom\u001b[0m \u001b[0mos\u001b[0m \u001b[1;32mimport\u001b[0m \u001b[0mlistdir\u001b[0m\u001b[1;33m\u001b[0m\u001b[1;33m\u001b[0m\u001b[0m\n\u001b[0;32m      3\u001b[0m \u001b[1;32mfrom\u001b[0m \u001b[0mos\u001b[0m\u001b[1;33m.\u001b[0m\u001b[0mpath\u001b[0m \u001b[1;32mimport\u001b[0m \u001b[0misfile\u001b[0m\u001b[1;33m,\u001b[0m \u001b[0mjoin\u001b[0m\u001b[1;33m\u001b[0m\u001b[1;33m\u001b[0m\u001b[0m\n\u001b[1;32m----> 4\u001b[1;33m \u001b[1;32mfrom\u001b[0m \u001b[0mutils\u001b[0m\u001b[1;33m.\u001b[0m\u001b[0mfunctions\u001b[0m \u001b[1;32mimport\u001b[0m \u001b[0mdropna_pearsonr\u001b[0m\u001b[1;33m,\u001b[0m \u001b[0mdropna_spearmanr\u001b[0m\u001b[1;33m\u001b[0m\u001b[1;33m\u001b[0m\u001b[0m\n\u001b[0m\u001b[0;32m      5\u001b[0m \u001b[1;33m\u001b[0m\u001b[0m\n\u001b[0;32m      6\u001b[0m \u001b[0mpd\u001b[0m\u001b[1;33m.\u001b[0m\u001b[0moptions\u001b[0m\u001b[1;33m.\u001b[0m\u001b[0mmode\u001b[0m\u001b[1;33m.\u001b[0m\u001b[0mchained_assignment\u001b[0m \u001b[1;33m=\u001b[0m \u001b[1;32mNone\u001b[0m  \u001b[1;31m# default='warn'\u001b[0m\u001b[1;33m\u001b[0m\u001b[1;33m\u001b[0m\u001b[0m\n",
      "\u001b[1;31mImportError\u001b[0m: cannot import name 'dropna_spearmanr' from 'utils.functions' (c:\\Users\\Mikhail\\Documents\\Code\\Python_3.9\\ClimateMaster\\notebooks\\..\\utils\\functions.py)"
     ]
    }
   ],
   "source": [
    "import pandas as pd\n",
    "from os import listdir\n",
    "from os.path import isfile, join\n",
    "from utils.functions import dropna_pearsonr, dropna_spearmanr\n",
    "\n",
    "pd.options.mode.chained_assignment = None  # default='warn'"
   ]
  },
  {
   "cell_type": "code",
   "execution_count": 3,
   "metadata": {},
   "outputs": [],
   "source": [
    "path = '../input/climate/real+grid'\n",
    "files = [f.split('.')[0] for f in listdir(path) if isfile(join(path, f))]\n",
    "\n",
    "data = dict()\n",
    "for f in files:\n",
    "    data[f] = pd.read_csv(f'{path}/{f}.csv')"
   ]
  },
  {
   "cell_type": "code",
   "execution_count": 5,
   "metadata": {},
   "outputs": [],
   "source": [
    "COH = pd.read_excel('../input/CAN_COH_221121.xlsx')"
   ]
  },
  {
   "cell_type": "code",
   "execution_count": 10,
   "metadata": {},
   "outputs": [],
   "source": [
    "COH = COH.rename(columns={'d13C':'C', 'd18O':'O', 'dH':'H'})"
   ]
  },
  {
   "cell_type": "code",
   "execution_count": 6,
   "metadata": {},
   "outputs": [
    {
     "data": {
      "text/plain": [
       "dict_keys(['Prec_Chokurdakh', 'Prec_Inuvik', 'Prec_Khatanga', 'Temp_Chokurdakh', 'Temp_Inuvik', 'Temp_Khatanga', 'VPD_Chokurdakh', 'VPD_Inuvik', 'VPD_Khatanga'])"
      ]
     },
     "execution_count": 6,
     "metadata": {},
     "output_type": "execute_result"
    }
   ],
   "source": [
    "data.keys()"
   ]
  },
  {
   "cell_type": "markdown",
   "metadata": {},
   "source": [
    "# Correlations"
   ]
  },
  {
   "cell_type": "code",
   "execution_count": 16,
   "metadata": {},
   "outputs": [
    {
     "ename": "NameError",
     "evalue": "name 'dropna_spearmanr' is not defined",
     "output_type": "error",
     "traceback": [
      "\u001b[1;31m---------------------------------------------------------------------------\u001b[0m",
      "\u001b[1;31mNameError\u001b[0m                                 Traceback (most recent call last)",
      "\u001b[1;32m~\\AppData\\Local\\Temp/ipykernel_25904/1243786160.py\u001b[0m in \u001b[0;36m<module>\u001b[1;34m\u001b[0m\n\u001b[1;32m----> 1\u001b[1;33m \u001b[0mprint\u001b[0m\u001b[1;33m(\u001b[0m\u001b[1;34m'C/H r = {0:.2f}, p = {1:.4f}'\u001b[0m\u001b[1;33m.\u001b[0m\u001b[0mformat\u001b[0m\u001b[1;33m(\u001b[0m\u001b[1;33m*\u001b[0m\u001b[0mdropna_spearmanr\u001b[0m\u001b[1;33m(\u001b[0m\u001b[0mCOH\u001b[0m\u001b[1;33m[\u001b[0m\u001b[1;34m'C'\u001b[0m\u001b[1;33m]\u001b[0m\u001b[1;33m,\u001b[0m \u001b[0mCOH\u001b[0m\u001b[1;33m[\u001b[0m\u001b[1;34m'H'\u001b[0m\u001b[1;33m]\u001b[0m\u001b[1;33m)\u001b[0m\u001b[1;33m)\u001b[0m\u001b[1;33m)\u001b[0m\u001b[1;33m\u001b[0m\u001b[1;33m\u001b[0m\u001b[0m\n\u001b[0m\u001b[0;32m      2\u001b[0m \u001b[0mprint\u001b[0m\u001b[1;33m(\u001b[0m\u001b[1;34m'C/O r = {0:.2f}, p = {1:.4f}'\u001b[0m\u001b[1;33m.\u001b[0m\u001b[0mformat\u001b[0m\u001b[1;33m(\u001b[0m\u001b[1;33m*\u001b[0m\u001b[0mdropna_spearmanr\u001b[0m\u001b[1;33m(\u001b[0m\u001b[0mCOH\u001b[0m\u001b[1;33m[\u001b[0m\u001b[1;34m'C'\u001b[0m\u001b[1;33m]\u001b[0m\u001b[1;33m,\u001b[0m \u001b[0mCOH\u001b[0m\u001b[1;33m[\u001b[0m\u001b[1;34m'O'\u001b[0m\u001b[1;33m]\u001b[0m\u001b[1;33m)\u001b[0m\u001b[1;33m)\u001b[0m\u001b[1;33m)\u001b[0m\u001b[1;33m\u001b[0m\u001b[1;33m\u001b[0m\u001b[0m\n\u001b[0;32m      3\u001b[0m \u001b[0mprint\u001b[0m\u001b[1;33m(\u001b[0m\u001b[1;34m'O/H r = {0:.2f}, p = {1:.4f}'\u001b[0m\u001b[1;33m.\u001b[0m\u001b[0mformat\u001b[0m\u001b[1;33m(\u001b[0m\u001b[1;33m*\u001b[0m\u001b[0mdropna_spearmanr\u001b[0m\u001b[1;33m(\u001b[0m\u001b[0mCOH\u001b[0m\u001b[1;33m[\u001b[0m\u001b[1;34m'O'\u001b[0m\u001b[1;33m]\u001b[0m\u001b[1;33m,\u001b[0m \u001b[0mCOH\u001b[0m\u001b[1;33m[\u001b[0m\u001b[1;34m'H'\u001b[0m\u001b[1;33m]\u001b[0m\u001b[1;33m)\u001b[0m\u001b[1;33m)\u001b[0m\u001b[1;33m)\u001b[0m\u001b[1;33m\u001b[0m\u001b[1;33m\u001b[0m\u001b[0m\n",
      "\u001b[1;31mNameError\u001b[0m: name 'dropna_spearmanr' is not defined"
     ]
    }
   ],
   "source": [
    "print('C/H r = {0:.2f}, p = {1:.4f}'.format(*dropna_spearmanr(COH['C'], COH['H'])))\n",
    "print('C/O r = {0:.2f}, p = {1:.4f}'.format(*dropna_spearmanr(COH['C'], COH['O'])))\n",
    "print('O/H r = {0:.2f}, p = {1:.4f}'.format(*dropna_spearmanr(COH['O'], COH['H'])))"
   ]
  },
  {
   "cell_type": "code",
   "execution_count": 12,
   "metadata": {},
   "outputs": [],
   "source": [
    "CAN_COH_prec = COH.merge(data['Prec_Inuvik'], on='Year', how='left')\n",
    "CAN_COH_temp = COH.merge(data['Temp_Inuvik'], on='Year', how='left')\n",
    "CAN_COH_vpd = COH.merge(data['VPD_Inuvik'], on='Year', how='left')"
   ]
  },
  {
   "cell_type": "code",
   "execution_count": 13,
   "metadata": {},
   "outputs": [],
   "source": [
    "CAN_COH_corr = {\n",
    "    'Month' : [],\n",
    "    'Temp\\C': [],\n",
    "    'Temp\\O': [],\n",
    "    'Temp\\H': [],\n",
    "    'Prec\\C': [],\n",
    "    'Prec\\O': [],\n",
    "    'Prec\\H': [],\n",
    "    'VPD\\C' : [],\n",
    "    'VPD\\O' : [],\n",
    "    'VPD\\H' : [],\n",
    "}\n",
    "montshs = []\n",
    "for col in data['Prec_Inuvik'].columns:\n",
    "    if col == 'Year':\n",
    "        continue\n",
    "    CAN_COH_corr['Month'] += [col]\n",
    "    CAN_COH_corr['Temp\\C'] += ['{0:.2f}\\np={1:.4f}'.format(*dropna_pearsonr(CAN_COH_temp['C'], CAN_COH_temp[col]))]\n",
    "    CAN_COH_corr['Temp\\O'] += ['{0:.2f}\\np={1:.4f}'.format(*dropna_pearsonr(CAN_COH_temp['O'], CAN_COH_temp[col]))]\n",
    "    CAN_COH_corr['Temp\\H'] += ['{0:.2f}\\np={1:.4f}'.format(*dropna_pearsonr(CAN_COH_temp['H'], CAN_COH_temp[col]))]\n",
    "    CAN_COH_corr['Prec\\C'] += ['{0:.2f}\\np={1:.4f}'.format(*dropna_pearsonr(CAN_COH_prec['C'], CAN_COH_prec[col]))]\n",
    "    CAN_COH_corr['Prec\\O'] += ['{0:.2f}\\np={1:.4f}'.format(*dropna_pearsonr(CAN_COH_prec['O'], CAN_COH_prec[col]))]\n",
    "    CAN_COH_corr['Prec\\H'] += ['{0:.2f}\\np={1:.4f}'.format(*dropna_pearsonr(CAN_COH_prec['H'], CAN_COH_prec[col]))]\n",
    "    CAN_COH_corr['VPD\\C']  += ['{0:.2f}\\np={1:.4f}'.format(*dropna_pearsonr(CAN_COH_vpd['C'], CAN_COH_vpd[col]))]\n",
    "    CAN_COH_corr['VPD\\O']  += ['{0:.2f}\\np={1:.4f}'.format(*dropna_pearsonr(CAN_COH_vpd['O'], CAN_COH_vpd[col]))]\n",
    "    CAN_COH_corr['VPD\\H']  += ['{0:.2f}\\np={1:.4f}'.format(*dropna_pearsonr(CAN_COH_vpd['H'], CAN_COH_vpd[col]))]\n",
    "\n",
    "CAN_COH_corr = pd.DataFrame(CAN_COH_corr)"
   ]
  },
  {
   "cell_type": "code",
   "execution_count": 14,
   "metadata": {},
   "outputs": [
    {
     "data": {
      "text/html": [
       "<div>\n",
       "<style scoped>\n",
       "    .dataframe tbody tr th:only-of-type {\n",
       "        vertical-align: middle;\n",
       "    }\n",
       "\n",
       "    .dataframe tbody tr th {\n",
       "        vertical-align: top;\n",
       "    }\n",
       "\n",
       "    .dataframe thead th {\n",
       "        text-align: right;\n",
       "    }\n",
       "</style>\n",
       "<table border=\"1\" class=\"dataframe\">\n",
       "  <thead>\n",
       "    <tr style=\"text-align: right;\">\n",
       "      <th></th>\n",
       "      <th>Month</th>\n",
       "      <th>Temp\\C</th>\n",
       "      <th>Temp\\O</th>\n",
       "      <th>Temp\\H</th>\n",
       "      <th>Prec\\C</th>\n",
       "      <th>Prec\\O</th>\n",
       "      <th>Prec\\H</th>\n",
       "      <th>VPD\\C</th>\n",
       "      <th>VPD\\O</th>\n",
       "      <th>VPD\\H</th>\n",
       "    </tr>\n",
       "  </thead>\n",
       "  <tbody>\n",
       "    <tr>\n",
       "      <th>0</th>\n",
       "      <td>January</td>\n",
       "      <td>-0.16\\np=0.0867</td>\n",
       "      <td>-0.01\\np=0.9054</td>\n",
       "      <td>-0.03\\np=0.7364</td>\n",
       "      <td>0.09\\np=0.4938</td>\n",
       "      <td>-0.19\\np=0.1406</td>\n",
       "      <td>0.01\\np=0.9414</td>\n",
       "      <td>0.22\\np=0.0188</td>\n",
       "      <td>-0.07\\np=0.4475</td>\n",
       "      <td>-0.15\\np=0.1270</td>\n",
       "    </tr>\n",
       "    <tr>\n",
       "      <th>1</th>\n",
       "      <td>February</td>\n",
       "      <td>-0.20\\np=0.0410</td>\n",
       "      <td>0.14\\np=0.1509</td>\n",
       "      <td>0.02\\np=0.8461</td>\n",
       "      <td>0.09\\np=0.4708</td>\n",
       "      <td>0.11\\np=0.4121</td>\n",
       "      <td>0.04\\np=0.7805</td>\n",
       "      <td>0.24\\np=0.0120</td>\n",
       "      <td>0.05\\np=0.6065</td>\n",
       "      <td>-0.20\\np=0.0346</td>\n",
       "    </tr>\n",
       "    <tr>\n",
       "      <th>2</th>\n",
       "      <td>March</td>\n",
       "      <td>-0.20\\np=0.0400</td>\n",
       "      <td>0.20\\np=0.0339</td>\n",
       "      <td>0.23\\np=0.0161</td>\n",
       "      <td>0.05\\np=0.6765</td>\n",
       "      <td>0.10\\np=0.4349</td>\n",
       "      <td>0.03\\np=0.8445</td>\n",
       "      <td>0.15\\np=0.1314</td>\n",
       "      <td>-0.00\\np=0.9738</td>\n",
       "      <td>-0.07\\np=0.4519</td>\n",
       "    </tr>\n",
       "    <tr>\n",
       "      <th>3</th>\n",
       "      <td>April</td>\n",
       "      <td>-0.29\\np=0.0022</td>\n",
       "      <td>0.27\\np=0.0041</td>\n",
       "      <td>0.14\\np=0.1380</td>\n",
       "      <td>0.21\\np=0.1032</td>\n",
       "      <td>-0.09\\np=0.4611</td>\n",
       "      <td>-0.16\\np=0.2160</td>\n",
       "      <td>0.20\\np=0.0414</td>\n",
       "      <td>-0.04\\np=0.6449</td>\n",
       "      <td>-0.15\\np=0.1245</td>\n",
       "    </tr>\n",
       "    <tr>\n",
       "      <th>4</th>\n",
       "      <td>May</td>\n",
       "      <td>-0.21\\np=0.0249</td>\n",
       "      <td>0.24\\np=0.0126</td>\n",
       "      <td>0.12\\np=0.2306</td>\n",
       "      <td>0.05\\np=0.6758</td>\n",
       "      <td>-0.09\\np=0.4696</td>\n",
       "      <td>0.09\\np=0.4662</td>\n",
       "      <td>0.38\\np=0.0001</td>\n",
       "      <td>-0.07\\np=0.4547</td>\n",
       "      <td>-0.23\\np=0.0152</td>\n",
       "    </tr>\n",
       "    <tr>\n",
       "      <th>5</th>\n",
       "      <td>June</td>\n",
       "      <td>-0.20\\np=0.0375</td>\n",
       "      <td>0.16\\np=0.0976</td>\n",
       "      <td>0.03\\np=0.7642</td>\n",
       "      <td>-0.18\\np=0.1540</td>\n",
       "      <td>-0.21\\np=0.0914</td>\n",
       "      <td>0.21\\np=0.0914</td>\n",
       "      <td>0.41\\np=0.0000</td>\n",
       "      <td>-0.10\\np=0.2943</td>\n",
       "      <td>-0.29\\np=0.0024</td>\n",
       "    </tr>\n",
       "    <tr>\n",
       "      <th>6</th>\n",
       "      <td>July</td>\n",
       "      <td>-0.06\\np=0.5626</td>\n",
       "      <td>0.05\\np=0.5905</td>\n",
       "      <td>0.32\\np=0.0007</td>\n",
       "      <td>-0.09\\np=0.4825</td>\n",
       "      <td>-0.10\\np=0.4498</td>\n",
       "      <td>0.07\\np=0.5952</td>\n",
       "      <td>0.44\\np=0.0000</td>\n",
       "      <td>-0.14\\np=0.1607</td>\n",
       "      <td>-0.16\\np=0.1045</td>\n",
       "    </tr>\n",
       "    <tr>\n",
       "      <th>7</th>\n",
       "      <td>August</td>\n",
       "      <td>-0.22\\np=0.0243</td>\n",
       "      <td>-0.05\\np=0.6232</td>\n",
       "      <td>0.25\\np=0.0085</td>\n",
       "      <td>0.13\\np=0.3120</td>\n",
       "      <td>0.03\\np=0.8379</td>\n",
       "      <td>-0.19\\np=0.1291</td>\n",
       "      <td>0.38\\np=0.0000</td>\n",
       "      <td>-0.16\\np=0.1016</td>\n",
       "      <td>-0.16\\np=0.0865</td>\n",
       "    </tr>\n",
       "    <tr>\n",
       "      <th>8</th>\n",
       "      <td>September</td>\n",
       "      <td>-0.26\\np=0.0056</td>\n",
       "      <td>0.08\\np=0.4055</td>\n",
       "      <td>0.18\\np=0.0655</td>\n",
       "      <td>0.03\\np=0.8133</td>\n",
       "      <td>0.07\\np=0.6103</td>\n",
       "      <td>0.05\\np=0.7024</td>\n",
       "      <td>0.38\\np=0.0001</td>\n",
       "      <td>-0.14\\np=0.1337</td>\n",
       "      <td>-0.20\\np=0.0390</td>\n",
       "    </tr>\n",
       "    <tr>\n",
       "      <th>9</th>\n",
       "      <td>October</td>\n",
       "      <td>-0.02\\np=0.8677</td>\n",
       "      <td>0.20\\np=0.0359</td>\n",
       "      <td>-0.10\\np=0.3134</td>\n",
       "      <td>0.25\\np=0.0482</td>\n",
       "      <td>0.04\\np=0.7546</td>\n",
       "      <td>0.04\\np=0.7315</td>\n",
       "      <td>0.38\\np=0.0000</td>\n",
       "      <td>-0.08\\np=0.4033</td>\n",
       "      <td>-0.22\\np=0.0210</td>\n",
       "    </tr>\n",
       "    <tr>\n",
       "      <th>10</th>\n",
       "      <td>November</td>\n",
       "      <td>-0.21\\np=0.0316</td>\n",
       "      <td>0.12\\np=0.2023</td>\n",
       "      <td>0.13\\np=0.1746</td>\n",
       "      <td>0.08\\np=0.5220</td>\n",
       "      <td>-0.11\\np=0.3927</td>\n",
       "      <td>0.06\\np=0.6171</td>\n",
       "      <td>0.22\\np=0.0219</td>\n",
       "      <td>-0.07\\np=0.4399</td>\n",
       "      <td>-0.11\\np=0.2544</td>\n",
       "    </tr>\n",
       "    <tr>\n",
       "      <th>11</th>\n",
       "      <td>December</td>\n",
       "      <td>-0.07\\np=0.4799</td>\n",
       "      <td>0.17\\np=0.0786</td>\n",
       "      <td>-0.05\\np=0.6007</td>\n",
       "      <td>0.17\\np=0.1780</td>\n",
       "      <td>0.01\\np=0.9606</td>\n",
       "      <td>0.11\\np=0.4112</td>\n",
       "      <td>0.32\\np=0.0008</td>\n",
       "      <td>-0.00\\np=0.9761</td>\n",
       "      <td>-0.26\\np=0.0068</td>\n",
       "    </tr>\n",
       "  </tbody>\n",
       "</table>\n",
       "</div>"
      ],
      "text/plain": [
       "        Month           Temp\\C           Temp\\O           Temp\\H  \\\n",
       "0     January  -0.16\\np=0.0867  -0.01\\np=0.9054  -0.03\\np=0.7364   \n",
       "1    February  -0.20\\np=0.0410   0.14\\np=0.1509   0.02\\np=0.8461   \n",
       "2       March  -0.20\\np=0.0400   0.20\\np=0.0339   0.23\\np=0.0161   \n",
       "3       April  -0.29\\np=0.0022   0.27\\np=0.0041   0.14\\np=0.1380   \n",
       "4         May  -0.21\\np=0.0249   0.24\\np=0.0126   0.12\\np=0.2306   \n",
       "5        June  -0.20\\np=0.0375   0.16\\np=0.0976   0.03\\np=0.7642   \n",
       "6        July  -0.06\\np=0.5626   0.05\\np=0.5905   0.32\\np=0.0007   \n",
       "7      August  -0.22\\np=0.0243  -0.05\\np=0.6232   0.25\\np=0.0085   \n",
       "8   September  -0.26\\np=0.0056   0.08\\np=0.4055   0.18\\np=0.0655   \n",
       "9     October  -0.02\\np=0.8677   0.20\\np=0.0359  -0.10\\np=0.3134   \n",
       "10   November  -0.21\\np=0.0316   0.12\\np=0.2023   0.13\\np=0.1746   \n",
       "11   December  -0.07\\np=0.4799   0.17\\np=0.0786  -0.05\\np=0.6007   \n",
       "\n",
       "             Prec\\C           Prec\\O           Prec\\H           VPD\\C  \\\n",
       "0    0.09\\np=0.4938  -0.19\\np=0.1406   0.01\\np=0.9414  0.22\\np=0.0188   \n",
       "1    0.09\\np=0.4708   0.11\\np=0.4121   0.04\\np=0.7805  0.24\\np=0.0120   \n",
       "2    0.05\\np=0.6765   0.10\\np=0.4349   0.03\\np=0.8445  0.15\\np=0.1314   \n",
       "3    0.21\\np=0.1032  -0.09\\np=0.4611  -0.16\\np=0.2160  0.20\\np=0.0414   \n",
       "4    0.05\\np=0.6758  -0.09\\np=0.4696   0.09\\np=0.4662  0.38\\np=0.0001   \n",
       "5   -0.18\\np=0.1540  -0.21\\np=0.0914   0.21\\np=0.0914  0.41\\np=0.0000   \n",
       "6   -0.09\\np=0.4825  -0.10\\np=0.4498   0.07\\np=0.5952  0.44\\np=0.0000   \n",
       "7    0.13\\np=0.3120   0.03\\np=0.8379  -0.19\\np=0.1291  0.38\\np=0.0000   \n",
       "8    0.03\\np=0.8133   0.07\\np=0.6103   0.05\\np=0.7024  0.38\\np=0.0001   \n",
       "9    0.25\\np=0.0482   0.04\\np=0.7546   0.04\\np=0.7315  0.38\\np=0.0000   \n",
       "10   0.08\\np=0.5220  -0.11\\np=0.3927   0.06\\np=0.6171  0.22\\np=0.0219   \n",
       "11   0.17\\np=0.1780   0.01\\np=0.9606   0.11\\np=0.4112  0.32\\np=0.0008   \n",
       "\n",
       "              VPD\\O            VPD\\H  \n",
       "0   -0.07\\np=0.4475  -0.15\\np=0.1270  \n",
       "1    0.05\\np=0.6065  -0.20\\np=0.0346  \n",
       "2   -0.00\\np=0.9738  -0.07\\np=0.4519  \n",
       "3   -0.04\\np=0.6449  -0.15\\np=0.1245  \n",
       "4   -0.07\\np=0.4547  -0.23\\np=0.0152  \n",
       "5   -0.10\\np=0.2943  -0.29\\np=0.0024  \n",
       "6   -0.14\\np=0.1607  -0.16\\np=0.1045  \n",
       "7   -0.16\\np=0.1016  -0.16\\np=0.0865  \n",
       "8   -0.14\\np=0.1337  -0.20\\np=0.0390  \n",
       "9   -0.08\\np=0.4033  -0.22\\np=0.0210  \n",
       "10  -0.07\\np=0.4399  -0.11\\np=0.2544  \n",
       "11  -0.00\\np=0.9761  -0.26\\np=0.0068  "
      ]
     },
     "execution_count": 14,
     "metadata": {},
     "output_type": "execute_result"
    }
   ],
   "source": [
    "CAN_COH_corr"
   ]
  },
  {
   "cell_type": "code",
   "execution_count": 15,
   "metadata": {},
   "outputs": [],
   "source": [
    "CAN_COH_corr.to_excel('../output/CAN_COH_corr.xlsx', index=False)"
   ]
  },
  {
   "cell_type": "markdown",
   "metadata": {},
   "source": [
    "# Regression"
   ]
  },
  {
   "cell_type": "markdown",
   "metadata": {},
   "source": [
    "Данные прогнать с климатикой по Инувик с сентября предыдущего по август текущего года с 1900 по 2009 для температуры воздуха, осадкам, относительной влажности, VPD.\n",
    "Посмотреть климатику по усредненным месяцам июнь + июль, июнь+июль+август, март+апрель+май, апрель+май для всех параметров. Попробовать найти данные по PAR для Инувик."
   ]
  },
  {
   "cell_type": "code",
   "execution_count": null,
   "metadata": {},
   "outputs": [],
   "source": [
    "def get_summer1_df(df, name=''):\n",
    "    return df[['Year', 'June', 'July']].rename(columns={'June':f'{name}_June', 'July':f'{name}_July'})\n",
    "\n",
    "def get_summer_df(df, name=''):\n",
    "    return df[['Year', 'June', 'July', 'August']].rename(columns={'June':f'{name}_June', 'July':f'{name}_July', 'August':f'{name}_August'})\n",
    "\n",
    "def get_spring1_df(df, name=''):\n",
    "    return df[['Year', 'April', 'May']].rename(columns={ 'April':f'{name}_April', 'May':f'{name}_May'})\n",
    "\n",
    "def get_spring_df(df, name=''):\n",
    "    return df[['Year', 'March', 'April', 'May']].rename(columns={'March':f'{name}_March', 'April':f'{name}_April', 'May':f'{name}_May'})"
   ]
  }
 ],
 "metadata": {
  "interpreter": {
   "hash": "f649158f7c33c6404512ef6eab241b4bcb236cb55f6502e8325131a5b8388ac6"
  },
  "kernelspec": {
   "display_name": "Python 3.9.7 64-bit",
   "language": "python",
   "name": "python3"
  },
  "language_info": {
   "codemirror_mode": {
    "name": "ipython",
    "version": 3
   },
   "file_extension": ".py",
   "mimetype": "text/x-python",
   "name": "python",
   "nbconvert_exporter": "python",
   "pygments_lexer": "ipython3",
   "version": "3.9.7"
  },
  "orig_nbformat": 4
 },
 "nbformat": 4,
 "nbformat_minor": 2
}
