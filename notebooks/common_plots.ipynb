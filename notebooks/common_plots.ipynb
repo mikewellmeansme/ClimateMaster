{
 "cells": [
  {
   "cell_type": "markdown",
   "source": [
    "Trash"
   ],
   "metadata": {}
  },
  {
   "cell_type": "code",
   "execution_count": null,
   "source": [
    "months_names = ['J', 'F', 'M', 'A', 'M ', 'J', 'J', 'A', 'S', 'O', 'N', 'D']"
   ],
   "outputs": [],
   "metadata": {}
  },
  {
   "cell_type": "code",
   "execution_count": null,
   "source": [
    "def plot_all_mean_climate(climate, ste):\r\n",
    "    # Чокурдах с 1944 по 2021\r\n",
    "    # Хатанга с 1929 по 2021\r\n",
    "    for year in set(climate['Год']):\r\n",
    "        temp_mean = []\r\n",
    "        prec_sum = []\r\n",
    "        for month in range(1,13):\r\n",
    "            df = climate[(climate['Год']==year) & (climate['Месяц']==month)]\r\n",
    "            temp_mean += [df.mean(skipna=True)['Средняя температура воздуха']]\r\n",
    "            prec_sum += [df.sum(skipna=True)['Количество осадков']]\r\n",
    "        \r\n",
    "        fig, ax1 = plt.subplots(figsize=(6,5))\r\n",
    "        plt.subplots_adjust(right=0.9)\r\n",
    "        ax1.set_title(year)\r\n",
    "        ax1.set_xlabel('Month')\r\n",
    "        ax1.set_ylabel('Precipitation (mm)')\r\n",
    "        ax1.bar([i for i in range(1,13)], prec_sum, color='lightgray', linewidth=1, edgecolor='black')\r\n",
    "        ax1.set_ylim([0, 90])\r\n",
    "        ax2 = ax1.twinx()\r\n",
    "        ax2.set_ylabel('Temperature (°C)')\r\n",
    "        ax2.plot([i for i in range(1,13)], temp_mean, color='black', linewidth=2)\r\n",
    "        ax2.set_xticks([i for i in range(1,13)])\r\n",
    "        ax2.set_ylim([-40, 20])\r\n",
    "        ax2.set_xticklabels(months_names)\r\n",
    "        plt.savefig(f'output/{year}.png', dpi=100)\r\n",
    "        plt.close(fig)"
   ],
   "outputs": [],
   "metadata": {}
  },
  {
   "cell_type": "code",
   "execution_count": null,
   "source": [
    "# 'Sunshine duration (DOY)' [0, 450]\r\n",
    "# 'Vapour pressure deficit (kPa?)' [0, 13]\r\n",
    "# 'Relative humidity (%)' [50, 100]\r\n",
    "\r\n",
    "def plot_all_mean_meas(df, ylim, title):\r\n",
    "    for year in df['Год']:\r\n",
    "        fig, ax = plt.subplots(figsize=(6,5))\r\n",
    "        plt.subplots_adjust(right=0.9)\r\n",
    "        ax.set_title(year)\r\n",
    "        ax.set_xlabel('Month')\r\n",
    "        ax.set_ylabel(title)\r\n",
    "        ax.set_ylim(ylim)\r\n",
    "        ax.set_xlim([0, 13])\r\n",
    "        ax.plot([i for i in range(1,13)], list(df[df['Год'] == year].drop(['Год'], axis=1).iloc[0]), color='black', linewidth=2)\r\n",
    "        ax.set_xticks([i for i in range(1,13)])\r\n",
    "        ax.set_xticklabels(months_names)\r\n",
    "        plt.savefig(f'output/{year}.png', dpi=100)\r\n",
    "        plt.close(fig)"
   ],
   "outputs": [],
   "metadata": {}
  }
 ],
 "metadata": {
  "orig_nbformat": 4,
  "language_info": {
   "name": "python"
  }
 },
 "nbformat": 4,
 "nbformat_minor": 2
}