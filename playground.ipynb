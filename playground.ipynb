{
 "cells": [
  {
   "cell_type": "code",
   "execution_count": 1,
   "metadata": {},
   "outputs": [],
   "source": [
    "import pandas as pd\n",
    "import numpy as np\n",
    "import matplotlib.pyplot as plt\n",
    "from trw_raw_to_tables import *\n",
    "from climate.dendroclim import get_crn_climate_correlation, plot_daily_dendroclim, plot_mothly_dendroclim\n",
    "from climate.trend_plots import plot_measurements, plot_measurement, plot_measurements_by_measure\n",
    "from utils.functions import dropna_pearsonr\n",
    "from utils.df_preprocessing import rotate_daily_climate, fill_missing_dates, monthly_climate_offset_and_clean\n",
    "\n",
    "pd.options.mode.chained_assignment = None  # default='warn'"
   ]
  },
  {
   "cell_type": "markdown",
   "metadata": {},
   "source": [
    "# Загрузка данных"
   ]
  },
  {
   "cell_type": "markdown",
   "metadata": {},
   "source": [
    "## Чокурдах"
   ]
  },
  {
   "cell_type": "code",
   "execution_count": 2,
   "metadata": {},
   "outputs": [],
   "source": [
    "mean_rh_C = pd.read_csv('input/climate/real/relative humidity/RH_Chokurdakh.csv').drop(['Индекс ВМО'], axis=1)\n",
    "mean_sol_C = pd.read_csv('input/climate/real/sunshine duration/SD_Chokurdakh.csv').drop(['Индекс ВМО'], axis=1).replace(9999, np.nan)\n",
    "\n",
    "mean_temp_C = pd.read_csv('input/climate/real/temperature/Temp_Chokurdakh.csv').drop(['Индекс ВМО'], axis=1)\n",
    "mean_prec_C = pd.read_csv('input/climate/real/precipitation/Prec_Chokurdakh.csv').drop(['Индекс ВМО'], axis=1)\n",
    "mean_vpd_C = pd.read_csv('input/climate/real/vpd/VPD_Chokurdakh.csv').drop(['Индекс ВМО'], axis=1)\n",
    "\n",
    "climate_C = pd.read_csv('input/climate/real/daily/Daily_Chokurdakh.csv').drop(['Индекс ВМО',\n",
    "'Общий признак качества температур', 'Минимальная температура воздуха', 'Максимальная температура воздуха'], axis=1)\n",
    "\n",
    "grid_temp_C = pd.read_csv('input/climate/grid/temperature/Grid_Temp_Chokurdakh.csv')\n",
    "grid_prec_C = pd.read_csv('input/climate/grid/precipitation/Grid_Prec_Chokurdakh.csv')\n",
    "grid_vp_C = pd.read_csv('input/climate/grid/vpd/Grid_VP_Chokurdakh.csv')"
   ]
  },
  {
   "cell_type": "markdown",
   "metadata": {},
   "source": [
    "## Хатанга"
   ]
  },
  {
   "cell_type": "code",
   "execution_count": 3,
   "metadata": {},
   "outputs": [],
   "source": [
    "mean_rh_H = pd.read_csv('input/climate/real/relative humidity/RH_Khatanga.csv').drop(['Индекс ВМО'], axis=1)\n",
    "mean_sol_H = pd.read_csv('input/climate/real/sunshine duration/SD_Khatanga.csv').drop(['Индекс ВМО'], axis=1).replace(9999, np.nan)\n",
    "\n",
    "mean_temp_H = pd.read_csv('input/climate/real/temperature/Temp_Khatanga.csv').drop(['Индекс ВМО'], axis=1)\n",
    "mean_prec_H = pd.read_csv('input/climate/real/precipitation/Prec_Khatanga.csv').drop(['Индекс ВМО'], axis=1)\n",
    "mean_vpd_H = pd.read_csv('input/climate/real/vpd/VPD_Khatanga.csv').drop(['Индекс ВМО'], axis=1)\n",
    "\n",
    "climate_H = pd.read_csv('input/climate/real/daily/Daily_Khatanga.csv').drop(['Индекс ВМО',\n",
    "'Общий признак качества температур', 'Минимальная температура воздуха', 'Максимальная температура воздуха'], axis=1)\n",
    "\n",
    "grid_temp_H = pd.read_csv('input/climate/grid/temperature/Grid_Temp_Khatanga.csv')\n",
    "grid_prec_H = pd.read_csv('input/climate/grid/precipitation/Grid_Prec_Khatanga.csv')\n",
    "grid_vp_H = pd.read_csv('input/climate/grid/vpd/Grid_VP_Khatanga.csv')"
   ]
  },
  {
   "cell_type": "markdown",
   "metadata": {},
   "source": [
    "## Инувик"
   ]
  },
  {
   "cell_type": "code",
   "execution_count": 4,
   "metadata": {},
   "outputs": [],
   "source": [
    "mean_rh_I = pd.read_csv('input/climate/real/relative humidity/RH_Inuvik.csv')\n",
    "\n",
    "mean_temp_I = pd.read_csv('input/climate/real/temperature/Temp_Inuvik.csv')\n",
    "mean_prec_I = pd.read_csv('input/climate/real/precipitation/Prec_Inuvik.csv')\n",
    "mean_vpd_I = pd.read_csv('input/climate/real/vpd/VPD_Inuvik.csv')\n",
    "\n",
    "climate_I = pd.read_csv('input/climate/real/daily/Daily_Inuvik.csv')\n",
    "\n",
    "grid_temp_I = pd.read_csv('input/climate/grid/temperature/Grid_Temp_Inuvik.csv')\n",
    "grid_prec_I = pd.read_csv('input/climate/grid/precipitation/Grid_Prec_Inuvik.csv')\n",
    "grid_vp_I = pd.read_csv('input/climate/grid/vpd/Grid_VP_Inuvik.csv')"
   ]
  },
  {
   "cell_type": "markdown",
   "metadata": {},
   "source": [
    "# Построение трендов"
   ]
  },
  {
   "cell_type": "markdown",
   "metadata": {},
   "source": [
    "Станции вместе"
   ]
  },
  {
   "cell_type": "code",
   "execution_count": null,
   "metadata": {},
   "outputs": [],
   "source": [
    "plot_measurements_by_measure([mean_temp_C, mean_temp_H, mean_temp_I], ['Chokurdakh', 'Khatanga', 'Inuvik'], 'Temperature', '(°C)', [1901, 1980], [1979, 2020], xticks=range(1910, 2020, 30))\n",
    "plot_measurements_by_measure([mean_prec_C, mean_prec_H, mean_prec_I], ['Chokurdakh', 'Khatanga', 'Inuvik'], 'Precipitation', '(mm)', [1901, 1980], [1979, 2020])\n",
    "plot_measurements_by_measure([mean_vpd_C, mean_vpd_H, mean_vpd_I], ['Chokurdakh', 'Khatanga', 'Inuvik'], 'Vapour pressure deficit', '(mbar)', [1901, 1980], [1979, 2020])"
   ]
  },
  {
   "cell_type": "markdown",
   "metadata": {},
   "source": [
    "Отдельно"
   ]
  },
  {
   "cell_type": "code",
   "execution_count": 6,
   "metadata": {},
   "outputs": [],
   "source": [
    "plot_measurements(mean_vpd_C, 'Chokurdakh', 'Vapour pressure deficit (mbar)', [1901, 1980], [1979, 2020])\n",
    "plot_measurements(mean_temp_C, 'Chokurdakh', 'Temperature (°C)', [1901, 1980], [1979, 2020])\n",
    "plot_measurements(mean_prec_C, 'Chokurdakh', 'Precipitation (mm)', [1901, 1980], [1979, 2020])"
   ]
  },
  {
   "cell_type": "code",
   "execution_count": 7,
   "metadata": {},
   "outputs": [],
   "source": [
    "plot_measurements(mean_vpd_H, 'Khatanga', 'Vapour pressure deficit (mbar)', [1901, 1980], [1979, 2020])\n",
    "plot_measurements(mean_temp_H, 'Khatanga', 'Temperature (°C)', [1901, 1980], [1979, 2020])\n",
    "plot_measurements(mean_prec_H, 'Khatanga', 'Precipitation (mm)', [1901, 1980], [1979, 2020])"
   ]
  },
  {
   "cell_type": "code",
   "execution_count": 8,
   "metadata": {},
   "outputs": [],
   "source": [
    "plot_measurements(mean_prec_I, 'Inuvik', 'Precipitation (mm)', [1901, 1980], [1979, 2020])\n",
    "plot_measurements(mean_vpd_I, 'Inuvik', 'Vapour pressure deficit (mbar)', [1901, 1980], [1979, 2020])\n",
    "plot_measurements(mean_temp_I, 'Inuvik', 'Temperature (°C)', [1901, 1980], [1979, 2020])"
   ]
  },
  {
   "cell_type": "markdown",
   "metadata": {},
   "source": [
    "### Остальные тренды"
   ]
  },
  {
   "cell_type": "code",
   "execution_count": null,
   "metadata": {},
   "outputs": [],
   "source": [
    "plot_measurements(mean_rh_C, 'Chokurdakh', 'Relative humidity (%)', [1901, 1980], [1979, 2020])\n",
    "plot_measurements(mean_sol_C, 'Chokurdakh', 'Sunshine duration (DOY)', [1901, 1980], [1979, 2020])\n",
    "plot_measurements(mean_rh_H, 'Khatanga', 'Relative humidity (%)', [1901, 1980], [1979, 2020])\n",
    "plot_measurements(mean_sol_H, 'Khatanga', 'Sunshine duration (DOY)', [1901, 1980], [1979, 2020])\n",
    "plot_measurements(mean_rh_I, 'Inuvik', 'Relative humidity (%)', [1901, 1980], [1979, 2020])"
   ]
  },
  {
   "cell_type": "markdown",
   "metadata": {},
   "source": [
    "# Красивое представление корреляций"
   ]
  },
  {
   "cell_type": "markdown",
   "metadata": {},
   "source": [
    "ПЕРЕД ТЕМ КАК ЗАПУСКАТЬ ЭТОТ КУСОК НУЖНО УДАЛИТЬ СТАРЫЕ ТАБЛИЦЫ ТРЕНДОВ"
   ]
  },
  {
   "cell_type": "code",
   "execution_count": 9,
   "metadata": {},
   "outputs": [],
   "source": [
    "dfs = []\n",
    "for station in ['Chokurdakh', 'Khatanga', 'Inuvik']:\n",
    "    dfs += [pd.read_csv(f'output/{station}_trends.csv')]\n",
    "\n",
    "df = pd.concat(dfs).reset_index(drop=True).replace('Temperature (�C)', 'Temperature (°C)')"
   ]
  },
  {
   "cell_type": "code",
   "execution_count": 37,
   "metadata": {},
   "outputs": [],
   "source": [
    "years = ['1901-1979', '1980-2020', '1901-2020']\n",
    "seasons = ['Annual', 'Spring', 'Summer', 'Autumn', 'Winter']\n",
    "measurements = ['Temperature (°C)', 'Precipitation (mm)', 'Vapour pressure deficit (mbar)']\n",
    "stations = ['Chokurdakh', 'Khatanga', 'Inuvik']\n",
    "\n",
    "colums = [[list((mes, per)) for per in years] for mes in measurements]\n",
    "colums = [item for sublist in colums for item in sublist]\n",
    "\n",
    "indexes = [[list((stat, seas)) for seas in seasons] for stat in stations]\n",
    "indexes = [item for sublist in indexes for item in sublist]"
   ]
  },
  {
   "cell_type": "code",
   "execution_count": 47,
   "metadata": {},
   "outputs": [],
   "source": [
    "colums_df = pd.DataFrame(colums, columns=[\"Measure\", \"Period\"])\n",
    "indexes_df = pd.DataFrame(indexes, columns=[\"Station\", \"Season\"])"
   ]
  },
  {
   "cell_type": "code",
   "execution_count": 48,
   "metadata": {},
   "outputs": [],
   "source": [
    "s1_table = pd.DataFrame(columns=pd.MultiIndex.from_frame(colums_df), index=pd.MultiIndex.from_frame(indexes_df))"
   ]
  },
  {
   "cell_type": "code",
   "execution_count": 71,
   "metadata": {},
   "outputs": [],
   "source": [
    "for mes in measurements:\n",
    "     for per in years:\n",
    "         for seas in seasons:\n",
    "             for stat in stations:\n",
    "                temp_df = df[(df['station']==stat) & (df['mes']==mes) & (df['season']==seas) & (df['years']==per)][['correlation', 'p-vaule']]\n",
    "                s1_table.loc[(stat, seas), (mes, per)] = f\"{sum(temp_df['correlation'].values)}\\n(p={sum(temp_df['p-vaule'].values):0.2f})\""
   ]
  },
  {
   "cell_type": "code",
   "execution_count": 73,
   "metadata": {},
   "outputs": [],
   "source": [
    "s1_table.to_excel('output/Table S1.xlsx')"
   ]
  },
  {
   "cell_type": "markdown",
   "metadata": {},
   "source": [
    "# Общие графики"
   ]
  },
  {
   "cell_type": "markdown",
   "metadata": {},
   "source": [
    "## Климатика"
   ]
  },
  {
   "cell_type": "code",
   "execution_count": 95,
   "metadata": {},
   "outputs": [],
   "source": [
    "months_names = ['J', 'F', 'M', 'A', 'M ', 'J', 'J', 'A', 'S', 'O', 'N', 'D']"
   ]
  },
  {
   "cell_type": "code",
   "execution_count": 96,
   "metadata": {},
   "outputs": [],
   "source": [
    "def plot_all_mean_climate(climate, ste):\n",
    "    # Чокурдах с 1944 по 2021\n",
    "    # Хатанга с 1929 по 2021\n",
    "    for year in set(climate['Год']):\n",
    "        temp_mean = []\n",
    "        prec_sum = []\n",
    "        for month in range(1,13):\n",
    "            df = climate[(climate['Год']==year) & (climate['Месяц']==month)]\n",
    "            temp_mean += [df.mean(skipna=True)['Средняя температура воздуха']]\n",
    "            prec_sum += [df.sum(skipna=True)['Количество осадков']]\n",
    "        \n",
    "        fig, ax1 = plt.subplots(figsize=(6,5))\n",
    "        plt.subplots_adjust(right=0.9)\n",
    "        ax1.set_title(year)\n",
    "        ax1.set_xlabel('Month')\n",
    "        ax1.set_ylabel('Precipitation (mm)')\n",
    "        ax1.bar([i for i in range(1,13)], prec_sum, color='lightgray', linewidth=1, edgecolor='black')\n",
    "        ax1.set_ylim([0, 90])\n",
    "        ax2 = ax1.twinx()\n",
    "        ax2.set_ylabel('Temperature (°C)')\n",
    "        ax2.plot([i for i in range(1,13)], temp_mean, color='black', linewidth=2)\n",
    "        ax2.set_xticks([i for i in range(1,13)])\n",
    "        ax2.set_ylim([-40, 20])\n",
    "        ax2.set_xticklabels(months_names)\n",
    "        plt.savefig(f'output/{year}.png', dpi=100)\n",
    "        plt.close(fig)"
   ]
  },
  {
   "cell_type": "markdown",
   "metadata": {},
   "source": [
    "## Месячные данные"
   ]
  },
  {
   "cell_type": "code",
   "execution_count": 97,
   "metadata": {},
   "outputs": [],
   "source": [
    "# 'Sunshine duration (DOY)' [0, 450]\n",
    "# 'Vapour pressure deficit (kPa?)' [0, 13]\n",
    "# 'Relative humidity (%)' [50, 100]\n",
    "\n",
    "def plot_all_mean_meas(df, ylim, title):\n",
    "    for year in df['Год']:\n",
    "        fig, ax = plt.subplots(figsize=(6,5))\n",
    "        plt.subplots_adjust(right=0.9)\n",
    "        ax.set_title(year)\n",
    "        ax.set_xlabel('Month')\n",
    "        ax.set_ylabel(title)\n",
    "        ax.set_ylim(ylim)\n",
    "        ax.set_xlim([0, 13])\n",
    "        ax.plot([i for i in range(1,13)], list(df[df['Год'] == year].drop(['Год'], axis=1).iloc[0]), color='black', linewidth=2)\n",
    "        ax.set_xticks([i for i in range(1,13)])\n",
    "        ax.set_xticklabels(months_names)\n",
    "        plt.savefig(f'output/{year}.png', dpi=100)\n",
    "        plt.close(fig)"
   ]
  },
  {
   "cell_type": "markdown",
   "metadata": {},
   "source": [
    "# Сравнение с гридами"
   ]
  },
  {
   "cell_type": "code",
   "execution_count": 98,
   "metadata": {},
   "outputs": [],
   "source": [
    "mon_ru = ['Январь', 'Февраль', 'Март', 'Апрель', 'Май', 'Июнь', 'Июль', 'Август', 'Сентябрь', 'Октябрь', 'Ноябрь', 'Декабрь']\n",
    "mon_en = ['jan','feb','mar','apr','may','jun','jul','aug','sep','oct','nov','dec']\n",
    "mon_dict = {en:ru for en, ru in zip(mon_en, mon_ru)}"
   ]
  },
  {
   "cell_type": "code",
   "execution_count": 5,
   "metadata": {},
   "outputs": [],
   "source": [
    "def compare_dfs(df1, df2):\n",
    "    years = list(set(df1['Year']) & set(df2['Year']))\n",
    "    min_y, max_y = years[0], years[-1]\n",
    "    corrs = dict()\n",
    "\n",
    "    for month in range(1,13):\n",
    "        x_ = df1[(df1['Year']>=min_y) & (df1['Year']<=max_y)].iloc[:,month]\n",
    "        y_ = df2[(df2['Year']>=min_y) & (df2['Year']<=max_y)].iloc[:,month]\n",
    "        corrs[month] = dropna_pearsonr(x_, y_)\n",
    "    \n",
    "    return corrs\n",
    "\n",
    "def compare_to_xlsx(df1, df2, name):\n",
    "    corrs = pd.DataFrame(compare_dfs(df1, df2))\n",
    "    corrs = corrs.transpose()\n",
    "    corrs = corrs.rename(columns={0:'Корреляция', 1:'p-value'})\n",
    "    wr = 'output/DF_Comparison.xlsx'\n",
    "    try:\n",
    "        with pd.ExcelWriter(wr, mode='a') as writer:\n",
    "            corrs.to_excel(writer, sheet_name=name)\n",
    "    except FileNotFoundError:\n",
    "        corrs.to_excel(wr, sheet_name=name)"
   ]
  },
  {
   "cell_type": "code",
   "execution_count": 24,
   "metadata": {},
   "outputs": [],
   "source": [
    "compare_to_xlsx(grid_temp_C, mean_temp_C, 'Chok_Temp')\n",
    "compare_to_xlsx(grid_prec_C, mean_prec_C, 'Chok_Prec')\n",
    "compare_to_xlsx(grid_temp_H, mean_temp_H, 'Khat_Temp')\n",
    "compare_to_xlsx(grid_prec_H, mean_prec_H, 'Khat_Prec')"
   ]
  },
  {
   "cell_type": "code",
   "execution_count": 25,
   "metadata": {},
   "outputs": [],
   "source": [
    "compare_to_xlsx(grid_temp_I, mean_temp_I, 'Inuvik_Temp')\n",
    "compare_to_xlsx(grid_prec_I, grid_prec_I, 'Inuvik_Prec')"
   ]
  },
  {
   "cell_type": "code",
   "execution_count": 11,
   "metadata": {},
   "outputs": [],
   "source": [
    "def plot_mean_ds(df1, df2, title, l1, l2, ylim, ylabel='', xlabel='Year', ax=None):\n",
    "    year_df1 = pd.DataFrame({'Year':df1['Year']})\n",
    "    year_df2 = pd.DataFrame({'Year':df2['Year']})\n",
    "    \n",
    "    df1 = monthly_climate_offset_and_clean(df1).reset_index(drop=True)\n",
    "    df2 = monthly_climate_offset_and_clean(df2).reset_index(drop=True)\n",
    "    df1 = year_df1.join(df1.set_index('Year'), on='Year', how='left')\n",
    "    df2 = year_df2.join(df2.set_index('Year'), on='Year', how='left')\n",
    "    m1 = df1.iloc[:, range(1, 13)].mean(axis=1, skipna=True)\n",
    "    m2 = df2.iloc[:, range(1, 13)].mean(axis=1, skipna=True)\n",
    "    new_df1 = pd.DataFrame({'year':df1['Year'], 'mean1':m1})\n",
    "    new_df2 = pd.DataFrame({'year':df2['Year'], 'mean2':m2})\n",
    "    temp_df = new_df1.merge(new_df2, on='year')\n",
    "    #print(temp_df.drop(['year'], axis=1).corr())\n",
    "    r, p = dropna_pearsonr(temp_df['mean1'], temp_df['mean2'])\n",
    "    if not ax:\n",
    "        fig, ax = plt.subplots(figsize=(8,5))\n",
    "        plt.subplots_adjust(right=0.9)\n",
    "    \n",
    "    ax.plot(df1['Year'], m1, label=l1)\n",
    "    ax.plot(df2['Year'], m2, label=l2)\n",
    "    ax.legend(frameon=False)\n",
    "    if not ax:\n",
    "        ax.set_title(title)\n",
    "        ax.set_xlabel(xlabel)\n",
    "        ax.set_xlim([1900, 2021])\n",
    "        ax.set_ylim(ylim)\n",
    "        ax.set_ylabel(ylabel)\n",
    "        plt.savefig(f'output/{title}_{ylabel}.png', dpi=100)\n",
    "        plt.close(fig)\n",
    "    print(f'{title}, {ylabel}, r={r:0.3f}, p={p:0.4f}')"
   ]
  },
  {
   "cell_type": "code",
   "execution_count": 12,
   "metadata": {},
   "outputs": [
    {
     "name": "stdout",
     "output_type": "stream",
     "text": [
      "Chokurdakh, Average temperature (°C), r=0.904, p=0.0000\n",
      "Chokurdakh, Average precipitation (mm), r=0.217, p=0.1223\n",
      "Chokurdakh, Average vapour pressure deficit (mbar), r=0.338, p=0.0040\n",
      "Khatanga, Average temperature (°C), r=0.903, p=0.0000\n",
      "Khatanga, Average precipitation (mm), r=0.906, p=0.0000\n",
      "Khatanga, Average vapour pressure deficit (mbar), r=0.749, p=0.0000\n",
      "Inuvik, Average temperature (°C), r=0.925, p=0.0000\n",
      "Inuvik, Average precipitation (mm), r=0.653, p=0.0000\n",
      "Inuvik, Average vapour pressure deficit (mbar), r=0.324, p=0.0117\n"
     ]
    }
   ],
   "source": [
    "fig, axes = plt.subplots(nrows=3, ncols=3, sharex=True, sharey='row', dpi=300, figsize=(12, 8))\n",
    "plt.subplots_adjust(hspace=0.06, wspace=0.06)\n",
    "plot_mean_ds(grid_temp_C, mean_temp_C, 'Chokurdakh', 'Grid', 'Real', [-18, -4], 'Average temperature (°C)', ax=axes[0, 0])\n",
    "plot_mean_ds(grid_prec_C, mean_prec_C, 'Chokurdakh', 'Grid', 'Real', [5, 40], 'Average precipitation (mm)', ax=axes[1, 0])\n",
    "plot_mean_ds(grid_vp_C, mean_vpd_C, 'Chokurdakh', 'Grid', 'Real', [1,5],  'Average vapour pressure deficit (mbar)', ax=axes[2, 0])\n",
    "plot_mean_ds(grid_temp_H, mean_temp_H, 'Khatanga', 'Grid', 'Real', [-18, -4], 'Average temperature (°C)', ax=axes[0, 1])\n",
    "plot_mean_ds(grid_prec_H, mean_prec_H, 'Khatanga', 'Grid', 'Real', [5, 40], 'Average precipitation (mm)', ax=axes[1, 1])\n",
    "plot_mean_ds(grid_vp_H, mean_vpd_H, 'Khatanga', 'Grid', 'Real', [1,5], 'Average vapour pressure deficit (mbar)', ax=axes[2, 1])\n",
    "plot_mean_ds(grid_temp_I, mean_temp_I, 'Inuvik', 'Grid', 'Real', [-18, -4], 'Average temperature (°C)', ax=axes[0, 2])\n",
    "plot_mean_ds(grid_prec_I, mean_prec_I, 'Inuvik', 'Grid', 'Real', [5, 40], 'Average precipitation (mm)', ax=axes[1, 2])\n",
    "plot_mean_ds(grid_vp_I, mean_vpd_I, 'Inuvik', 'Grid', 'Real', [1,5], 'Average vapour pressure deficit (mbar)', ax=axes[2, 2])\n",
    "\n",
    "axes[0, 0].set_title('Chokurdakh')\n",
    "axes[0, 1].set_title('Khatanga')\n",
    "axes[0, 2].set_title('Inuvik')\n",
    "\n",
    "axes[0, 0].set_ylabel('Average temperature (°C)')\n",
    "axes[1, 0].set_ylabel('Average precipitation\\n (mm)')\n",
    "axes[2, 0].set_ylabel('Average\\n vapour pressure deficit\\n (mbar)')\n",
    "for i in range(3):\n",
    "    axes[2, i].set_xlabel('Year')\n",
    "plt.savefig(f'output/Figure S1.png', dpi=300)\n",
    "plt.close(fig)"
   ]
  },
  {
   "cell_type": "markdown",
   "metadata": {},
   "source": [
    "# Вычисление VPD из ежечасных данных"
   ]
  },
  {
   "cell_type": "code",
   "execution_count": 2,
   "metadata": {},
   "outputs": [],
   "source": [
    "inuvik_monthly = pd.read_excel('input/old/Канада/Инувик/По Месяцам/INUVIK_A_1958-2020_MONTHLY.xlsx')"
   ]
  },
  {
   "cell_type": "code",
   "execution_count": 5,
   "metadata": {},
   "outputs": [],
   "source": [
    "from climate.weather_gc_ca import montly_to_measurement"
   ]
  },
  {
   "cell_type": "code",
   "execution_count": 2,
   "metadata": {},
   "outputs": [],
   "source": [
    "def celsius_to_fahrenheit(x):\n",
    "    return x * 9/5 + 32\n",
    "\n",
    "def celsius_to_rankine(x):\n",
    "    return x * 9/5 + 32 + 459.67"
   ]
  },
  {
   "cell_type": "code",
   "execution_count": 3,
   "metadata": {},
   "outputs": [],
   "source": [
    "def get_e_mb(T):\n",
    "    return 6.1078 * np.e ** ((17.269 * T) / (273.3 + T))\n",
    "\n",
    "\n",
    "def get_dew_point_temp(T, RH):\n",
    "    X = np.log(RH / 100) + (17.269 * T) / (237.3 + T)\n",
    "    return (273.3 * X) / (17.269 - X)\n",
    "\n",
    "\n",
    "def get_vpd(T, RH):\n",
    "    return get_e_mb(T) - get_e_mb(get_dew_point_temp(T, RH))"
   ]
  },
  {
   "cell_type": "code",
   "execution_count": null,
   "metadata": {},
   "outputs": [],
   "source": [
    "montly_to_measurement(df, 'Rel Hum (%)').to_csv('INUVIK_A_RELATIVE_HUM.csv', index=False)"
   ]
  },
  {
   "cell_type": "code",
   "execution_count": 59,
   "metadata": {},
   "outputs": [],
   "source": [
    "df['VPD (mbar)'] = get_e_mb(df['Temp (°C)']) - get_e_mb(df['Dew Point Temp (°C)'])"
   ]
  },
  {
   "cell_type": "code",
   "execution_count": null,
   "metadata": {},
   "outputs": [
    {
     "data": {
      "text/plain": [
       "(0.9857251541183312, 0.0)"
      ]
     },
     "execution_count": 70,
     "metadata": {},
     "output_type": "execute_result"
    }
   ],
   "source": [
    "pearsonr(get_e_mb(df['Temp (°C)']) - get_e_mb(df['Dew Point Temp (°C)']), get_vpd(df['Temp (°C)'], df['Rel Hum (%)']))"
   ]
  },
  {
   "cell_type": "code",
   "execution_count": null,
   "metadata": {},
   "outputs": [],
   "source": [
    "def csv_to_xlsx(path):\n",
    "    path = path.replace('\\\\','/')\n",
    "    df = pd.read_csv(path)\n",
    "    df.to_excel(path.split('.')[0]+'.xlsx', index=False)\n",
    "\n",
    "def csv_to_climexp(path):\n",
    "    path = path.replace('\\\\','/')\n",
    "    df = pd.read_csv(path)\n",
    "    df = df.replace(np.nan, -999.9)\n",
    "    df = df.drop(['Индекс ВМО'], axis=1)\n",
    "    df.to_csv(path.split('.')[0]+'.txt', index=None, sep=' ')"
   ]
  },
  {
   "cell_type": "code",
   "execution_count": null,
   "metadata": {},
   "outputs": [],
   "source": [
    "csv_to_climexp('input\\Чокурдах и Хатанга\\csv\\Чокурдах_Упругость_водяного_пара.csv')"
   ]
  },
  {
   "cell_type": "markdown",
   "metadata": {},
   "source": [
    "# Дендроклим"
   ]
  },
  {
   "cell_type": "markdown",
   "metadata": {},
   "source": [
    "## Таймыр \\ Хатанга (temp, prec, VPD)"
   ]
  },
  {
   "cell_type": "code",
   "execution_count": null,
   "metadata": {},
   "outputs": [],
   "source": [
    "trw_tay = pd.read_excel('input/Хронологии/Таймыр/TAY_chr.xlsx').drop(0)\n",
    "trw_tay = trw_tay.drop(len(trw_tay))"
   ]
  },
  {
   "cell_type": "code",
   "execution_count": null,
   "metadata": {},
   "outputs": [],
   "source": [
    "months = [\"Январь\", \"Февраль\", \"Март\", \"Апрель\",\n",
    " \"Май\", \"Июнь\", \"Июль\", \"Август\",\n",
    "  \"Сентябрь\", \"Октябрь\", \"Ноябрь\", \"Декабрь\"]"
   ]
  },
  {
   "cell_type": "code",
   "execution_count": null,
   "metadata": {},
   "outputs": [],
   "source": [
    "        #ps1 = [f'p={v:0.03f}' if v <0.05 else '' for v in ps[key]]\n",
    "        #for i, txt in enumerate(ps1):\n",
    "        #    add = .01 if rs[key][i] > 0 else -.04\n",
    "        #    ax.annotate(txt, (i-.5, rs[key][i]+add))"
   ]
  },
  {
   "cell_type": "code",
   "execution_count": null,
   "metadata": {},
   "outputs": [
    {
     "data": {
      "text/plain": [
       "(<Figure size 432x360 with 1 Axes>,\n",
       " <AxesSubplot:title={'center':'Khatanga-Taymyr'}, xlabel='Months', ylabel='Pearson R'>)"
      ]
     },
     "execution_count": 202,
     "metadata": {},
     "output_type": "execute_result"
    }
   ],
   "source": [
    "plot_mothly_dendroclim(trw_tay,\n",
    "                       [mean_prec_H.rename(columns={'Год':'Year'}),\n",
    "                       mean_temp_H.rename(columns={'Год':'Year'}),\n",
    "                       mean_vpd_H.rename(columns={'Год':'Year'})],\n",
    "                       ['Precipitation', 'Temperature', 'VPD'],\n",
    "                       ['blue', 'red', 'green'], 'Khatanga-Taymyr')"
   ]
  },
  {
   "cell_type": "code",
   "execution_count": null,
   "metadata": {},
   "outputs": [
    {
     "data": {
      "text/plain": [
       "(<Figure size 432x360 with 1 Axes>,\n",
       " <AxesSubplot:title={'center':'Grid Khatanga-Taymyr'}, xlabel='Months', ylabel='Pearson R'>)"
      ]
     },
     "execution_count": 203,
     "metadata": {},
     "output_type": "execute_result"
    }
   ],
   "source": [
    "plot_mothly_dendroclim(trw_tay, [grid_prec_H.rename(columns={'Год':'Year'}), grid_temp_H.rename(columns={'Год':'Year'})], ['Precipitation', 'Temperature'], ['blue', 'red'],'Grid Khatanga-Taymyr')"
   ]
  },
  {
   "cell_type": "code",
   "execution_count": null,
   "metadata": {},
   "outputs": [],
   "source": [
    "temperature, precipitation = rotate_daily_climate(climate_H.rename(columns={'Год':'Year', 'Месяц':'Month', 'День':'Day', 'Средняя температура воздуха':'Temp', 'Количество осадков':'Prec'}))"
   ]
  },
  {
   "cell_type": "code",
   "execution_count": null,
   "metadata": {},
   "outputs": [],
   "source": [
    "t, p = get_crn_climate_correlation(temperature.drop([2020], axis=1),\n",
    "                                   precipitation.drop([2020], axis=1),\n",
    "                                   trw_tay[trw_tay['Year']>=1928]['TAY_std'], 0,0,\n",
    "                                   grab=150, window=10)\n",
    "\n",
    "# Хатанга с 1928 по 2019 (92 года)"
   ]
  },
  {
   "cell_type": "code",
   "execution_count": null,
   "metadata": {},
   "outputs": [
    {
     "data": {
      "text/plain": [
       "(<Figure size 432x288 with 1 Axes>,\n",
       " <AxesSubplot:title={'center':'Khatanga-Taymyr'}, xlabel='Month', ylabel='Pearson R'>)"
      ]
     },
     "execution_count": 34,
     "metadata": {},
     "output_type": "execute_result"
    }
   ],
   "source": [
    "plot_daily_dendroclim(t, p, 'Khatanga-Taymyr', p_val=.21, p_label='<0.05')"
   ]
  },
  {
   "cell_type": "markdown",
   "metadata": {},
   "source": [
    "## Инувик (temp, prec)"
   ]
  },
  {
   "cell_type": "code",
   "execution_count": null,
   "metadata": {},
   "outputs": [],
   "source": [
    "trw_I = pd.read_csv('input/Хронологии/Канада/MDTM_tabs.csv')[['year', 'std']]"
   ]
  },
  {
   "cell_type": "code",
   "execution_count": null,
   "metadata": {},
   "outputs": [],
   "source": [
    "plot_mothly_dendroclim(trw_I.rename(columns={'year':'Year'}),\n",
    "                      [grid_prec_I.rename(columns={'Год':'Year'}),\n",
    "                       grid_temp_I.rename(columns={'Год':'Year'})],\n",
    "                       ['Precipitation', 'Temperature'],\n",
    "                       ['blue', 'red'], 'Grid Inuvik')"
   ]
  },
  {
   "cell_type": "code",
   "execution_count": null,
   "metadata": {},
   "outputs": [],
   "source": [
    "temp_df = fill_missing_dates(pd.read_csv('input/Канада/Инувик/По Дням/from_dat_INUVIK_TEMP_DAILY.csv'))\n",
    "prec_df = fill_missing_dates(pd.read_csv('input/Канада/Инувик/По Дням/from_dat_INUVIK_PREC_DAILY.csv'))"
   ]
  },
  {
   "cell_type": "code",
   "execution_count": null,
   "metadata": {},
   "outputs": [],
   "source": [
    "new_df = temp_df[['Year', 'Month', 'Day', 'Temp']]\n",
    "new_df['Prec'] = prec_df[prec_df['Year']<=temp_df['Year'].max()]['Prec']"
   ]
  },
  {
   "cell_type": "code",
   "execution_count": null,
   "metadata": {},
   "outputs": [],
   "source": [
    "temp, prec = rotate_daily_climate(new_df)"
   ]
  },
  {
   "cell_type": "code",
   "execution_count": null,
   "metadata": {},
   "outputs": [],
   "source": [
    "t, p = get_crn_climate_correlation(temp.drop([2009, 2010, 2011, 2012, 2013], axis=1),\n",
    "                                   prec.drop([2009, 2010, 2011, 2012, 2013], axis=1),\n",
    "                                   list(trw_I[(trw_I['year']>=1957) & (trw_I['year']<=2013)]['std']),\n",
    "                                   0 , 0, grab=150)\n",
    "\n",
    "# Инувик -- климатика с 1957 по 2008 52 (года)"
   ]
  },
  {
   "cell_type": "code",
   "execution_count": null,
   "metadata": {},
   "outputs": [
    {
     "data": {
      "text/plain": [
       "(<Figure size 432x288 with 1 Axes>,\n",
       " <AxesSubplot:title={'center':'Inuvik'}, xlabel='Month', ylabel='Pearson R'>)"
      ]
     },
     "execution_count": 23,
     "metadata": {},
     "output_type": "execute_result"
    }
   ],
   "source": [
    "plot_daily_dendroclim(t, p, 'Inuvik', p_val=.275, p_label='p<0.05')"
   ]
  },
  {
   "cell_type": "markdown",
   "metadata": {},
   "source": [
    "## Котуй"
   ]
  },
  {
   "cell_type": "code",
   "execution_count": 8,
   "metadata": {},
   "outputs": [],
   "source": [
    "trw_K = pd.read_csv('input/Хронологии/kot20/KOT20_tabs', sep='\\t')[['year', 'std']]"
   ]
  },
  {
   "cell_type": "code",
   "execution_count": 13,
   "metadata": {},
   "outputs": [],
   "source": [
    "fig, ax, rs, ps = plot_mothly_dendroclim(trw_K.rename(columns={'year':'Year'}),\n",
    "                      [mean_prec_H.rename(columns={'Год':'Year'}),\n",
    "                       mean_temp_H.rename(columns={'Год':'Year'}),\n",
    "                       mean_vpd_H.rename(columns={'Год':'Year'})],\n",
    "                       ['Precipitation', 'Temperature', 'VPD'],\n",
    "                       ['blue', 'red', 'green'], 'Kotuy-Khatanga')"
   ]
  },
  {
   "cell_type": "code",
   "execution_count": 18,
   "metadata": {},
   "outputs": [],
   "source": [
    "def save_r_table(rs, ps, file_name=''):\n",
    "    r_table = dict()\n",
    "\n",
    "    for r in rs.keys():\n",
    "        r_table[f'{r} R'] = rs[r]\n",
    "\n",
    "    for p in ps.keys():\n",
    "        r_table[f'{p} p-value'] = ps[p]\n",
    "\n",
    "    pd.DataFrame(r_table).to_excel(f'output/{file_name}_pearson.xlsx', index=False)"
   ]
  },
  {
   "cell_type": "code",
   "execution_count": 19,
   "metadata": {},
   "outputs": [],
   "source": [
    "save_r_table(rs, ps, 'TRW_Kotuy-Khatanga')"
   ]
  },
  {
   "cell_type": "markdown",
   "metadata": {},
   "source": [
    "## Якутия"
   ]
  },
  {
   "cell_type": "code",
   "execution_count": 9,
   "metadata": {},
   "outputs": [],
   "source": [
    "trw_Ind = pd.read_csv('input/Хронологии/ind/ind09_tabs', sep='\\t')[['year', 'std']]"
   ]
  },
  {
   "cell_type": "code",
   "execution_count": 20,
   "metadata": {},
   "outputs": [],
   "source": [
    "fig, ax, rs, ps = plot_mothly_dendroclim(trw_Ind.rename(columns={'year':'Year'}),\n",
    "                      [mean_prec_C.rename(columns={'Год':'Year'}),\n",
    "                       mean_temp_C.rename(columns={'Год':'Year'}),\n",
    "                       mean_vpd_C.rename(columns={'Год':'Year'})],\n",
    "                       ['Precipitation', 'Temperature', 'VPD'],\n",
    "                       ['blue', 'red', 'green'], 'Yakutia-Chokurdakh')"
   ]
  },
  {
   "cell_type": "code",
   "execution_count": 21,
   "metadata": {},
   "outputs": [],
   "source": [
    "save_r_table(rs, ps, 'TRW_Yakutia-Chokurdakh')"
   ]
  },
  {
   "cell_type": "markdown",
   "metadata": {},
   "source": [
    "## d18O"
   ]
  },
  {
   "cell_type": "code",
   "execution_count": 5,
   "metadata": {},
   "outputs": [],
   "source": [
    "d18O = pd.read_excel('input/d18O.xlsx')\n",
    "d18O_c = pd.read_excel('input/Canada_18O_Porter.xlsx')"
   ]
  },
  {
   "cell_type": "code",
   "execution_count": 104,
   "metadata": {},
   "outputs": [
    {
     "data": {
      "text/plain": [
       "(<Figure size 432x360 with 1 Axes>,\n",
       " <AxesSubplot:title={'center':'d18O Inuvik'}, xlabel='Months', ylabel='Pearson R'>)"
      ]
     },
     "execution_count": 104,
     "metadata": {},
     "output_type": "execute_result"
    }
   ],
   "source": [
    "plot_mothly_dendroclim(d18O[['Year', 'd18O_CAN']],\n",
    "                      [grid_prec_I.rename(columns={'Год':'Year'}),\n",
    "                       grid_temp_I.rename(columns={'Год':'Year'})],\n",
    "                       ['Precipitation', 'Temperature'],\n",
    "                       ['blue', 'red'], 'd18O Inuvik')"
   ]
  },
  {
   "cell_type": "code",
   "execution_count": 6,
   "metadata": {},
   "outputs": [],
   "source": [
    "fig, ax, rs, ps = plot_mothly_dendroclim(d18O_c,\n",
    "                      [grid_prec_I.rename(columns={'Год':'Year'}),\n",
    "                       grid_temp_I.rename(columns={'Год':'Year'})],\n",
    "                       ['Precipitation', 'Temperature'],\n",
    "                       ['blue', 'red'], 'd18O Inuvik')"
   ]
  },
  {
   "cell_type": "code",
   "execution_count": 8,
   "metadata": {},
   "outputs": [],
   "source": [
    "pd.DataFrame(rs).to_excel('output/O18_Inuvil_pearson_r.xlsx', index=False)\n",
    "pd.DataFrame(ps).to_excel('output/O18_Inuvil_pearson_p.xlsx', index=False)"
   ]
  },
  {
   "cell_type": "code",
   "execution_count": 12,
   "metadata": {},
   "outputs": [],
   "source": [
    "fig, ax, rs, ps = plot_mothly_dendroclim(d18O[['Year', 'd18OTAY']],\n",
    "                       [mean_prec_H.rename(columns={'Год':'Year'}),\n",
    "                       mean_temp_H.rename(columns={'Год':'Year'}),\n",
    "                       mean_vpd_H.rename(columns={'Год':'Year'})],\n",
    "                       ['Precipitation', 'Temperature', 'VPD'],\n",
    "                       ['blue', 'red', 'green'], 'd18O Khatanga')\n",
    "\n",
    "pd.DataFrame(rs).to_excel('output/O18_Khatanga_pearson_r.xlsx', index=False)\n",
    "pd.DataFrame(ps).to_excel('output/O18_Khatanga_pearson_p.xlsx', index=False)"
   ]
  },
  {
   "cell_type": "code",
   "execution_count": 13,
   "metadata": {},
   "outputs": [],
   "source": [
    "fig, ax, rs, ps = plot_mothly_dendroclim(d18O[['Year', 'd18OYAK']],\n",
    "                       [mean_prec_C.rename(columns={'Год':'Year'}),\n",
    "                       mean_temp_C.rename(columns={'Год':'Year'}),\n",
    "                       mean_vpd_C.rename(columns={'Год':'Year'})],\n",
    "                       ['Precipitation', 'Temperature', 'VPD'],\n",
    "                       ['blue', 'red', 'green'], 'd18O Chokurdakh')\n",
    "\n",
    "pd.DataFrame(rs).to_excel('output/O18_Chokurdakh_pearson_r.xlsx', index=False)\n",
    "pd.DataFrame(ps).to_excel('output/O18_Chokurdakh_pearson_p.xlsx', index=False)"
   ]
  },
  {
   "cell_type": "markdown",
   "metadata": {},
   "source": [
    "# Таблицы пропусков:"
   ]
  },
  {
   "cell_type": "code",
   "execution_count": 30,
   "metadata": {},
   "outputs": [],
   "source": [
    "c_n = ['Station', 'Time period', 'Source'] + list('JFMAMJJASOND')\n",
    "names = ['Chokurdakh', 'Khatanga', 'Inuvik']\n",
    "temps = [mean_temp_C, mean_temp_H, mean_temp_I]\n",
    "precs = [mean_prec_C, mean_prec_H, mean_prec_I]\n",
    "vpds = [mean_vpd_C, mean_vpd_H, mean_vpd_I]\n",
    "\n",
    "temps_sources = ['http://meteo.ru/', 'http://meteo.ru/', 'Means from hourly data from https://climate.weather.gc.ca/historical_data/search_historic_data_e.html']\n",
    "precs_sources = ['http://meteo.ru/', 'http://meteo.ru/', 'https://climexp.knmi.nl/getprcp.cgi?WMO=71957']\n",
    "vpds_sources = ['http://meteo.ru/', 'http://meteo.ru/', 'Calculated from https://climate.weather.gc.ca/historical_data/search_historic_data_e.html air temperature and dew point temperature']"
   ]
  },
  {
   "cell_type": "code",
   "execution_count": 83,
   "metadata": {},
   "outputs": [],
   "source": [
    "def count_nans(df):\n",
    "    return list(df.count()[1:]), df.count()['Год'], df['Год'].min(), df['Год'].max()\n",
    "\n",
    "\n",
    "def get_nan_table(datas, sources, persent: bool):\n",
    "    temp_table = []\n",
    "\n",
    "    for i in range(len(datas)):\n",
    "        mon_len, total_years, min_y, max_y = count_nans(datas[i])\n",
    "        if persent:\n",
    "            mon_len = [1-m/total_years for m in mon_len]\n",
    "        temp_l = [names[i], f'{min_y}-{max_y}', sources[i]] + mon_len\n",
    "        temp_table += [temp_l]\n",
    "\n",
    "    temp_table = np.array(temp_table)\n",
    "    return pd.DataFrame(data=temp_table, columns=c_n)"
   ]
  },
  {
   "cell_type": "code",
   "execution_count": 84,
   "metadata": {},
   "outputs": [],
   "source": [
    "get_nan_table(temps, temps_sources, True).to_excel('output/temp_data_completeness_%.xlsx', index=False)\n",
    "get_nan_table(precs, precs_sources, True).to_excel('output/prec_data_completeness_%.xlsx', index=False)\n",
    "get_nan_table(vpds, vpds_sources, True).to_excel('output/vpd_data_completeness_%.xlsx', index=False)"
   ]
  },
  {
   "cell_type": "markdown",
   "metadata": {},
   "source": [
    "# Корреляция d18O с климатикой"
   ]
  },
  {
   "cell_type": "markdown",
   "metadata": {},
   "source": [
    "Чокурдах -- Якутия\n",
    "\n",
    "Хатанга -- Таймыр\n",
    "\n",
    "Инувик -- Канада"
   ]
  },
  {
   "cell_type": "code",
   "execution_count": 13,
   "metadata": {},
   "outputs": [],
   "source": [
    "d18O = pd.read_excel('input/d18O.xlsx')"
   ]
  },
  {
   "cell_type": "code",
   "execution_count": 14,
   "metadata": {},
   "outputs": [],
   "source": [
    "from utils.df_preprocessing import monthly_climate_offset_and_clean\n",
    "\n",
    "season_names = {\n",
    "    1: 'spring',\n",
    "    2: 'summer',\n",
    "    3: 'autumn',\n",
    "    4: 'winter'\n",
    "}\n",
    "\n",
    "cols = {\n",
    "    1: [3, 4, 5],\n",
    "    2: [6, 7, 8],\n",
    "    3: [9, 10, 11],\n",
    "    4: [1, 2, 12]\n",
    "}\n",
    "\n",
    "\n",
    "def correlate_d18_with_df(clim_df, d18_df, label):\n",
    "    temp_df = pd.merge(clim_df, d18_df, how ='inner', on =['Year'])\n",
    "    temp_df = monthly_climate_offset_and_clean(temp_df)\n",
    "    \n",
    "    month_corrs = dict()\n",
    "    for col in clim_df.columns:\n",
    "        if col == 'Year':\n",
    "            continue\n",
    "        month_corrs[col] = dropna_pearsonr(temp_df[col], temp_df[label])\n",
    "    season_means = dict()\n",
    "    for i in range(1, 5):\n",
    "        temp_clim = temp_df.iloc[:,cols[i]].mean(axis=1, skipna=True)\n",
    "        season_means[season_names[i]] = dropna_pearsonr(temp_clim, temp_df[label])\n",
    "    \n",
    "    to_del = ['Year'] + list(d18_df.columns)\n",
    "    to_del.remove(label)\n",
    "    return (pd.DataFrame(month_corrs, index=[label + ' r', label + ' p-value']),\n",
    "            pd.DataFrame(season_means, index=[label + ' r', label + ' p-value']))\n"
   ]
  },
  {
   "cell_type": "code",
   "execution_count": 16,
   "metadata": {},
   "outputs": [],
   "source": [
    "temp_yak_month_corr, temp_yak_seas_corr = correlate_d18_with_df(mean_temp_C, d18O, 'd18O_YAK')\n",
    "temp_tay_month_corr, temp_tay_seas_corr = correlate_d18_with_df(mean_temp_H, d18O, 'd18O_TAY')\n",
    "temp_can_month_corr, temp_can_seas_corr = correlate_d18_with_df(mean_temp_I, d18O, 'd18O_CAN')"
   ]
  },
  {
   "cell_type": "code",
   "execution_count": 17,
   "metadata": {},
   "outputs": [],
   "source": [
    "pd.concat([temp_yak_month_corr, temp_tay_month_corr, temp_can_month_corr]).to_excel('output/d18O_temperature_monthly_correlations.xlsx')\n",
    "pd.concat([temp_yak_seas_corr, temp_tay_seas_corr, temp_can_seas_corr]).to_excel('output/d18O_temperature_seasonly_correlations.xlsx')"
   ]
  },
  {
   "cell_type": "code",
   "execution_count": 18,
   "metadata": {},
   "outputs": [],
   "source": [
    "prec_yak_month_corr, prec_yak_seas_corr = correlate_d18_with_df(mean_prec_C, d18O, 'd18O_YAK')\n",
    "prec_tay_month_corr, prec_tay_seas_corr = correlate_d18_with_df(mean_prec_H, d18O, 'd18O_TAY')\n",
    "prec_can_month_corr, prec_can_seas_corr = correlate_d18_with_df(mean_prec_I, d18O, 'd18O_CAN')"
   ]
  },
  {
   "cell_type": "code",
   "execution_count": 19,
   "metadata": {},
   "outputs": [],
   "source": [
    "pd.concat([prec_yak_month_corr, prec_tay_month_corr, prec_can_month_corr]).to_excel('output/d18O_precipitation_monthly_correlations.xlsx')\n",
    "pd.concat([prec_yak_seas_corr, prec_tay_seas_corr, prec_can_seas_corr]).to_excel('output/d18O_precipitation_seasonly_correlations.xlsx')"
   ]
  },
  {
   "cell_type": "code",
   "execution_count": 20,
   "metadata": {},
   "outputs": [],
   "source": [
    "vpd_yak_month_corr, vpd_yak_seas_corr = correlate_d18_with_df(mean_vpd_C, d18O, 'd18O_YAK')\n",
    "vpd_tay_month_corr, vpd_tay_seas_corr = correlate_d18_with_df(mean_vpd_H, d18O, 'd18O_TAY')\n",
    "vpd_can_month_corr, vpd_can_seas_corr = correlate_d18_with_df(mean_vpd_I, d18O, 'd18O_CAN')"
   ]
  },
  {
   "cell_type": "code",
   "execution_count": 21,
   "metadata": {},
   "outputs": [],
   "source": [
    "pd.concat([vpd_yak_month_corr, vpd_tay_month_corr, vpd_can_month_corr]).to_excel('output/d18O_vpd_monthly_correlations.xlsx')\n",
    "pd.concat([vpd_yak_seas_corr, vpd_tay_seas_corr, vpd_can_seas_corr]).to_excel('output/d18O_vpd_seasonly_correlations.xlsx')"
   ]
  },
  {
   "cell_type": "markdown",
   "metadata": {},
   "source": [
    "# Вычисление сезона роста"
   ]
  },
  {
   "cell_type": "code",
   "execution_count": 17,
   "metadata": {},
   "outputs": [],
   "source": [
    "def get_beginnings_of_growth_season(avg, val=5, years=None):\n",
    "    res = []\n",
    "    if not years:\n",
    "        years = avg.columns\n",
    "    for year in years:\n",
    "        res += [avg.loc[(avg[year] >= val)][year].index[0]]\n",
    "    return res\n",
    "\n",
    "def get_endings_of_growth_season(avg, val=5, years=None):\n",
    "    res = []\n",
    "    if not years:\n",
    "        years = avg.columns \n",
    "    for year in years:\n",
    "        res += [avg.iloc[173:].loc[(avg[year] < val)][year].index[0]]\n",
    "    return res\n",
    "\n",
    "def get_rolling_mean(df, window=11):\n",
    "    temp_df_1 = df[['Year', 'Month', 'Day']]\n",
    "    temp_df_2 = df.rolling(window=window, center=True, min_periods=1).mean()\n",
    "    temp_df_1['Temp (°C)'] = temp_df_2['Temp (°C)']\n",
    "    return temp_df_1"
   ]
  },
  {
   "cell_type": "code",
   "execution_count": 21,
   "metadata": {},
   "outputs": [
    {
     "name": "stderr",
     "output_type": "stream",
     "text": [
      "<ipython-input-17-9fd06bdf6841>:20: SettingWithCopyWarning: \n",
      "A value is trying to be set on a copy of a slice from a DataFrame.\n",
      "Try using .loc[row_indexer,col_indexer] = value instead\n",
      "\n",
      "See the caveats in the documentation: https://pandas.pydata.org/pandas-docs/stable/user_guide/indexing.html#returning-a-view-versus-a-copy\n",
      "  temp_df_1['Temp (°C)'] = temp_df_2['Temp (°C)']\n"
     ]
    }
   ],
   "source": [
    "climate_I_rolled = get_rolling_mean(climate_I)\n",
    "climate_I_rolled = climate_I_rolled[climate_I_rolled['Year']>1958]"
   ]
  },
  {
   "cell_type": "code",
   "execution_count": 159,
   "metadata": {},
   "outputs": [
    {
     "name": "stderr",
     "output_type": "stream",
     "text": [
      "<ipython-input-159-4de62e7f59f1>:7: UserWarning: Boolean Series key will be reindexed to match DataFrame index.\n",
      "  ends += [avg.iloc[173:][avg['Temp (°C)']<val][['Month','Day']].iloc[0]._name]\n",
      "<ipython-input-159-4de62e7f59f1>:7: UserWarning: Boolean Series key will be reindexed to match DataFrame index.\n",
      "  ends += [avg.iloc[173:][avg['Temp (°C)']<val][['Month','Day']].iloc[0]._name]\n",
      "<ipython-input-159-4de62e7f59f1>:7: UserWarning: Boolean Series key will be reindexed to match DataFrame index.\n",
      "  ends += [avg.iloc[173:][avg['Temp (°C)']<val][['Month','Day']].iloc[0]._name]\n",
      "<ipython-input-159-4de62e7f59f1>:7: UserWarning: Boolean Series key will be reindexed to match DataFrame index.\n",
      "  ends += [avg.iloc[173:][avg['Temp (°C)']<val][['Month','Day']].iloc[0]._name]\n",
      "<ipython-input-159-4de62e7f59f1>:7: UserWarning: Boolean Series key will be reindexed to match DataFrame index.\n",
      "  ends += [avg.iloc[173:][avg['Temp (°C)']<val][['Month','Day']].iloc[0]._name]\n",
      "<ipython-input-159-4de62e7f59f1>:7: UserWarning: Boolean Series key will be reindexed to match DataFrame index.\n",
      "  ends += [avg.iloc[173:][avg['Temp (°C)']<val][['Month','Day']].iloc[0]._name]\n",
      "<ipython-input-159-4de62e7f59f1>:7: UserWarning: Boolean Series key will be reindexed to match DataFrame index.\n",
      "  ends += [avg.iloc[173:][avg['Temp (°C)']<val][['Month','Day']].iloc[0]._name]\n",
      "<ipython-input-159-4de62e7f59f1>:7: UserWarning: Boolean Series key will be reindexed to match DataFrame index.\n",
      "  ends += [avg.iloc[173:][avg['Temp (°C)']<val][['Month','Day']].iloc[0]._name]\n",
      "<ipython-input-159-4de62e7f59f1>:7: UserWarning: Boolean Series key will be reindexed to match DataFrame index.\n",
      "  ends += [avg.iloc[173:][avg['Temp (°C)']<val][['Month','Day']].iloc[0]._name]\n",
      "<ipython-input-159-4de62e7f59f1>:7: UserWarning: Boolean Series key will be reindexed to match DataFrame index.\n",
      "  ends += [avg.iloc[173:][avg['Temp (°C)']<val][['Month','Day']].iloc[0]._name]\n",
      "<ipython-input-159-4de62e7f59f1>:7: UserWarning: Boolean Series key will be reindexed to match DataFrame index.\n",
      "  ends += [avg.iloc[173:][avg['Temp (°C)']<val][['Month','Day']].iloc[0]._name]\n",
      "<ipython-input-159-4de62e7f59f1>:7: UserWarning: Boolean Series key will be reindexed to match DataFrame index.\n",
      "  ends += [avg.iloc[173:][avg['Temp (°C)']<val][['Month','Day']].iloc[0]._name]\n",
      "<ipython-input-159-4de62e7f59f1>:7: UserWarning: Boolean Series key will be reindexed to match DataFrame index.\n",
      "  ends += [avg.iloc[173:][avg['Temp (°C)']<val][['Month','Day']].iloc[0]._name]\n",
      "<ipython-input-159-4de62e7f59f1>:7: UserWarning: Boolean Series key will be reindexed to match DataFrame index.\n",
      "  ends += [avg.iloc[173:][avg['Temp (°C)']<val][['Month','Day']].iloc[0]._name]\n",
      "<ipython-input-159-4de62e7f59f1>:7: UserWarning: Boolean Series key will be reindexed to match DataFrame index.\n",
      "  ends += [avg.iloc[173:][avg['Temp (°C)']<val][['Month','Day']].iloc[0]._name]\n",
      "<ipython-input-159-4de62e7f59f1>:7: UserWarning: Boolean Series key will be reindexed to match DataFrame index.\n",
      "  ends += [avg.iloc[173:][avg['Temp (°C)']<val][['Month','Day']].iloc[0]._name]\n",
      "<ipython-input-159-4de62e7f59f1>:7: UserWarning: Boolean Series key will be reindexed to match DataFrame index.\n",
      "  ends += [avg.iloc[173:][avg['Temp (°C)']<val][['Month','Day']].iloc[0]._name]\n",
      "<ipython-input-159-4de62e7f59f1>:7: UserWarning: Boolean Series key will be reindexed to match DataFrame index.\n",
      "  ends += [avg.iloc[173:][avg['Temp (°C)']<val][['Month','Day']].iloc[0]._name]\n",
      "<ipython-input-159-4de62e7f59f1>:7: UserWarning: Boolean Series key will be reindexed to match DataFrame index.\n",
      "  ends += [avg.iloc[173:][avg['Temp (°C)']<val][['Month','Day']].iloc[0]._name]\n",
      "<ipython-input-159-4de62e7f59f1>:7: UserWarning: Boolean Series key will be reindexed to match DataFrame index.\n",
      "  ends += [avg.iloc[173:][avg['Temp (°C)']<val][['Month','Day']].iloc[0]._name]\n",
      "<ipython-input-159-4de62e7f59f1>:7: UserWarning: Boolean Series key will be reindexed to match DataFrame index.\n",
      "  ends += [avg.iloc[173:][avg['Temp (°C)']<val][['Month','Day']].iloc[0]._name]\n",
      "<ipython-input-159-4de62e7f59f1>:7: UserWarning: Boolean Series key will be reindexed to match DataFrame index.\n",
      "  ends += [avg.iloc[173:][avg['Temp (°C)']<val][['Month','Day']].iloc[0]._name]\n",
      "<ipython-input-159-4de62e7f59f1>:7: UserWarning: Boolean Series key will be reindexed to match DataFrame index.\n",
      "  ends += [avg.iloc[173:][avg['Temp (°C)']<val][['Month','Day']].iloc[0]._name]\n",
      "<ipython-input-159-4de62e7f59f1>:7: UserWarning: Boolean Series key will be reindexed to match DataFrame index.\n",
      "  ends += [avg.iloc[173:][avg['Temp (°C)']<val][['Month','Day']].iloc[0]._name]\n",
      "<ipython-input-159-4de62e7f59f1>:7: UserWarning: Boolean Series key will be reindexed to match DataFrame index.\n",
      "  ends += [avg.iloc[173:][avg['Temp (°C)']<val][['Month','Day']].iloc[0]._name]\n",
      "<ipython-input-159-4de62e7f59f1>:7: UserWarning: Boolean Series key will be reindexed to match DataFrame index.\n",
      "  ends += [avg.iloc[173:][avg['Temp (°C)']<val][['Month','Day']].iloc[0]._name]\n",
      "<ipython-input-159-4de62e7f59f1>:7: UserWarning: Boolean Series key will be reindexed to match DataFrame index.\n",
      "  ends += [avg.iloc[173:][avg['Temp (°C)']<val][['Month','Day']].iloc[0]._name]\n",
      "<ipython-input-159-4de62e7f59f1>:7: UserWarning: Boolean Series key will be reindexed to match DataFrame index.\n",
      "  ends += [avg.iloc[173:][avg['Temp (°C)']<val][['Month','Day']].iloc[0]._name]\n",
      "<ipython-input-159-4de62e7f59f1>:7: UserWarning: Boolean Series key will be reindexed to match DataFrame index.\n",
      "  ends += [avg.iloc[173:][avg['Temp (°C)']<val][['Month','Day']].iloc[0]._name]\n",
      "<ipython-input-159-4de62e7f59f1>:7: UserWarning: Boolean Series key will be reindexed to match DataFrame index.\n",
      "  ends += [avg.iloc[173:][avg['Temp (°C)']<val][['Month','Day']].iloc[0]._name]\n",
      "<ipython-input-159-4de62e7f59f1>:7: UserWarning: Boolean Series key will be reindexed to match DataFrame index.\n",
      "  ends += [avg.iloc[173:][avg['Temp (°C)']<val][['Month','Day']].iloc[0]._name]\n",
      "<ipython-input-159-4de62e7f59f1>:7: UserWarning: Boolean Series key will be reindexed to match DataFrame index.\n",
      "  ends += [avg.iloc[173:][avg['Temp (°C)']<val][['Month','Day']].iloc[0]._name]\n",
      "<ipython-input-159-4de62e7f59f1>:7: UserWarning: Boolean Series key will be reindexed to match DataFrame index.\n",
      "  ends += [avg.iloc[173:][avg['Temp (°C)']<val][['Month','Day']].iloc[0]._name]\n",
      "<ipython-input-159-4de62e7f59f1>:7: UserWarning: Boolean Series key will be reindexed to match DataFrame index.\n",
      "  ends += [avg.iloc[173:][avg['Temp (°C)']<val][['Month','Day']].iloc[0]._name]\n",
      "<ipython-input-159-4de62e7f59f1>:7: UserWarning: Boolean Series key will be reindexed to match DataFrame index.\n",
      "  ends += [avg.iloc[173:][avg['Temp (°C)']<val][['Month','Day']].iloc[0]._name]\n",
      "<ipython-input-159-4de62e7f59f1>:7: UserWarning: Boolean Series key will be reindexed to match DataFrame index.\n",
      "  ends += [avg.iloc[173:][avg['Temp (°C)']<val][['Month','Day']].iloc[0]._name]\n",
      "<ipython-input-159-4de62e7f59f1>:7: UserWarning: Boolean Series key will be reindexed to match DataFrame index.\n",
      "  ends += [avg.iloc[173:][avg['Temp (°C)']<val][['Month','Day']].iloc[0]._name]\n",
      "<ipython-input-159-4de62e7f59f1>:7: UserWarning: Boolean Series key will be reindexed to match DataFrame index.\n",
      "  ends += [avg.iloc[173:][avg['Temp (°C)']<val][['Month','Day']].iloc[0]._name]\n",
      "<ipython-input-159-4de62e7f59f1>:7: UserWarning: Boolean Series key will be reindexed to match DataFrame index.\n",
      "  ends += [avg.iloc[173:][avg['Temp (°C)']<val][['Month','Day']].iloc[0]._name]\n",
      "<ipython-input-159-4de62e7f59f1>:7: UserWarning: Boolean Series key will be reindexed to match DataFrame index.\n",
      "  ends += [avg.iloc[173:][avg['Temp (°C)']<val][['Month','Day']].iloc[0]._name]\n",
      "<ipython-input-159-4de62e7f59f1>:7: UserWarning: Boolean Series key will be reindexed to match DataFrame index.\n",
      "  ends += [avg.iloc[173:][avg['Temp (°C)']<val][['Month','Day']].iloc[0]._name]\n",
      "<ipython-input-159-4de62e7f59f1>:7: UserWarning: Boolean Series key will be reindexed to match DataFrame index.\n",
      "  ends += [avg.iloc[173:][avg['Temp (°C)']<val][['Month','Day']].iloc[0]._name]\n",
      "<ipython-input-159-4de62e7f59f1>:7: UserWarning: Boolean Series key will be reindexed to match DataFrame index.\n",
      "  ends += [avg.iloc[173:][avg['Temp (°C)']<val][['Month','Day']].iloc[0]._name]\n",
      "<ipython-input-159-4de62e7f59f1>:7: UserWarning: Boolean Series key will be reindexed to match DataFrame index.\n",
      "  ends += [avg.iloc[173:][avg['Temp (°C)']<val][['Month','Day']].iloc[0]._name]\n",
      "<ipython-input-159-4de62e7f59f1>:7: UserWarning: Boolean Series key will be reindexed to match DataFrame index.\n",
      "  ends += [avg.iloc[173:][avg['Temp (°C)']<val][['Month','Day']].iloc[0]._name]\n",
      "<ipython-input-159-4de62e7f59f1>:7: UserWarning: Boolean Series key will be reindexed to match DataFrame index.\n",
      "  ends += [avg.iloc[173:][avg['Temp (°C)']<val][['Month','Day']].iloc[0]._name]\n",
      "<ipython-input-159-4de62e7f59f1>:7: UserWarning: Boolean Series key will be reindexed to match DataFrame index.\n",
      "  ends += [avg.iloc[173:][avg['Temp (°C)']<val][['Month','Day']].iloc[0]._name]\n",
      "<ipython-input-159-4de62e7f59f1>:7: UserWarning: Boolean Series key will be reindexed to match DataFrame index.\n",
      "  ends += [avg.iloc[173:][avg['Temp (°C)']<val][['Month','Day']].iloc[0]._name]\n",
      "<ipython-input-159-4de62e7f59f1>:7: UserWarning: Boolean Series key will be reindexed to match DataFrame index.\n",
      "  ends += [avg.iloc[173:][avg['Temp (°C)']<val][['Month','Day']].iloc[0]._name]\n",
      "<ipython-input-159-4de62e7f59f1>:7: UserWarning: Boolean Series key will be reindexed to match DataFrame index.\n",
      "  ends += [avg.iloc[173:][avg['Temp (°C)']<val][['Month','Day']].iloc[0]._name]\n",
      "<ipython-input-159-4de62e7f59f1>:7: UserWarning: Boolean Series key will be reindexed to match DataFrame index.\n",
      "  ends += [avg.iloc[173:][avg['Temp (°C)']<val][['Month','Day']].iloc[0]._name]\n",
      "<ipython-input-159-4de62e7f59f1>:7: UserWarning: Boolean Series key will be reindexed to match DataFrame index.\n",
      "  ends += [avg.iloc[173:][avg['Temp (°C)']<val][['Month','Day']].iloc[0]._name]\n",
      "<ipython-input-159-4de62e7f59f1>:7: UserWarning: Boolean Series key will be reindexed to match DataFrame index.\n",
      "  ends += [avg.iloc[173:][avg['Temp (°C)']<val][['Month','Day']].iloc[0]._name]\n",
      "<ipython-input-159-4de62e7f59f1>:7: UserWarning: Boolean Series key will be reindexed to match DataFrame index.\n",
      "  ends += [avg.iloc[173:][avg['Temp (°C)']<val][['Month','Day']].iloc[0]._name]\n",
      "<ipython-input-159-4de62e7f59f1>:7: UserWarning: Boolean Series key will be reindexed to match DataFrame index.\n",
      "  ends += [avg.iloc[173:][avg['Temp (°C)']<val][['Month','Day']].iloc[0]._name]\n",
      "<ipython-input-159-4de62e7f59f1>:7: UserWarning: Boolean Series key will be reindexed to match DataFrame index.\n",
      "  ends += [avg.iloc[173:][avg['Temp (°C)']<val][['Month','Day']].iloc[0]._name]\n",
      "<ipython-input-159-4de62e7f59f1>:7: UserWarning: Boolean Series key will be reindexed to match DataFrame index.\n",
      "  ends += [avg.iloc[173:][avg['Temp (°C)']<val][['Month','Day']].iloc[0]._name]\n",
      "<ipython-input-159-4de62e7f59f1>:7: UserWarning: Boolean Series key will be reindexed to match DataFrame index.\n",
      "  ends += [avg.iloc[173:][avg['Temp (°C)']<val][['Month','Day']].iloc[0]._name]\n",
      "<ipython-input-159-4de62e7f59f1>:7: UserWarning: Boolean Series key will be reindexed to match DataFrame index.\n",
      "  ends += [avg.iloc[173:][avg['Temp (°C)']<val][['Month','Day']].iloc[0]._name]\n",
      "<ipython-input-159-4de62e7f59f1>:7: UserWarning: Boolean Series key will be reindexed to match DataFrame index.\n",
      "  ends += [avg.iloc[173:][avg['Temp (°C)']<val][['Month','Day']].iloc[0]._name]\n",
      "<ipython-input-159-4de62e7f59f1>:7: UserWarning: Boolean Series key will be reindexed to match DataFrame index.\n",
      "  ends += [avg.iloc[173:][avg['Temp (°C)']<val][['Month','Day']].iloc[0]._name]\n",
      "<ipython-input-159-4de62e7f59f1>:7: UserWarning: Boolean Series key will be reindexed to match DataFrame index.\n",
      "  ends += [avg.iloc[173:][avg['Temp (°C)']<val][['Month','Day']].iloc[0]._name]\n"
     ]
    }
   ],
   "source": [
    "val = 5\n",
    "starts = []\n",
    "ends = []\n",
    "for year in set(climate_I_rolled['Year']):\n",
    "    avg = climate_I_rolled[climate_I_rolled['Year']==year].reset_index(drop=True)\n",
    "    starts += [avg[avg['Temp (°C)']>val][['Month','Day']].iloc[0]._name]\n",
    "    ends += [avg.iloc[173:][avg['Temp (°C)']<val][['Month','Day']].iloc[0]._name]"
   ]
  },
  {
   "cell_type": "code",
   "execution_count": 163,
   "metadata": {},
   "outputs": [],
   "source": [
    "growth_season = {\n",
    "    'Year': [],\n",
    "    'Start': [],\n",
    "    'End': []\n",
    "}\n",
    "for i, year in enumerate(set(climate_I_rolled['Year'])):\n",
    "    growth_season['Year'] += [year]\n",
    "    growth_season['Start'] += [starts[i]]\n",
    "    growth_season['End'] += [ends[i]]\n",
    "\n",
    "pd.DataFrame(growth_season).to_excel('output/growth_season.xlsx', index=False)"
   ]
  },
  {
   "cell_type": "code",
   "execution_count": 133,
   "metadata": {},
   "outputs": [
    {
     "data": {
      "text/plain": [
       "<matplotlib.lines.Line2D at 0x7fdfa24550>"
      ]
     },
     "execution_count": 133,
     "metadata": {},
     "output_type": "execute_result"
    },
    {
     "data": {
      "image/png": "[encoded data removed]",
      "image/svg+xml": "<?xml version=\"1.0\" encoding=\"utf-8\" standalone=\"no\"?>\r\n<!DOCTYPE svg PUBLIC \"-//W3C//DTD SVG 1.1//EN\"\r\n  \"http://www.w3.org/Graphics/SVG/1.1/DTD/svg11.dtd\">\r\n<svg height=\"248.518125pt\" version=\"1.1\" viewBox=\"0 0 378.146998 248.518125\" width=\"378.146998pt\" xmlns=\"http://www.w3.org/2000/svg\" xmlns:xlink=\"http://www.w3.org/1999/xlink\">\r\n <metadata>\r\n  <rdf:RDF xmlns:cc=\"http://creativecommons.org/ns#\" xmlns:dc=\"http://purl.org/dc/elements/1.1/\" xmlns:rdf=\"http://www.w3.org/1999/02/22-rdf-syntax-ns#\">\r\n   <cc:Work>\r\n    <dc:type rdf:resource=\"http://purl.org/dc/dcmitype/StillImage\"/>\r\n    <dc:date>2021-09-03T22:02:16.420376</dc:date>\r\n    <dc:format>image/svg+xml</dc:format>\r\n    <dc:creator>\r\n     <cc:Agent>\r\n      <dc:title>Matplotlib v3.4.1, https://matplotlib.org/</dc:title>\r\n     </cc:Agent>\r\n    </dc:creator>\r\n   </cc:Work>\r\n  </rdf:RDF>\r\n </metadata>\r\n <defs>\r\n  <style type=\"text/css\">*{stroke-linecap:butt;stroke-linejoin:round;}</style>\r\n </defs>\r\n <g id=\"figure_1\">\r\n  <g id=\"patch_1\">\r\n   <path d=\"M 0 248.518125 \r\nL 378.146998 248.518125 \r\nL 378.146998 0 \r\nL 0 0 \r\nz\r\n\" style=\"fill:none;\"/>\r\n  </g>\r\n  <g id=\"axes_1\">\r\n   <g id=\"patch_2\">\r\n    <path d=\"M 35.304688 224.64 \r\nL 370.104688 224.64 \r\nL 370.104688 7.2 \r\nL 35.304688 7.2 \r\nz\r\n\" style=\"fill:#ffffff;\"/>\r\n   </g>\r\n   <g id=\"matplotlib.axis_1\">\r\n    <g id=\"xtick_1\">\r\n     <g id=\"line2d_1\">\r\n      <defs>\r\n       <path d=\"M 0 0 \r\nL 0 3.5 \r\n\" id=\"md7634cd8c8\" style=\"stroke:#000000;stroke-width:0.8;\"/>\r\n      </defs>\r\n      <g>\r\n       <use style=\"stroke:#000000;stroke-width:0.8;\" x=\"66.366456\" xlink:href=\"#md7634cd8c8\" y=\"224.64\"/>\r\n      </g>\r\n     </g>\r\n     <g id=\"text_1\">\r\n      <!-- 7750 -->\r\n      <g transform=\"translate(53.641456 239.238438)scale(0.1 -0.1)\">\r\n       <defs>\r\n        <path d=\"M 525 4666 \r\nL 3525 4666 \r\nL 3525 4397 \r\nL 1831 0 \r\nL 1172 0 \r\nL 2766 4134 \r\nL 525 4134 \r\nL 525 4666 \r\nz\r\n\" id=\"DejaVuSans-37\" transform=\"scale(0.015625)\"/>\r\n        <path d=\"M 691 4666 \r\nL 3169 4666 \r\nL 3169 4134 \r\nL 1269 4134 \r\nL 1269 2991 \r\nQ 1406 3038 1543 3061 \r\nQ 1681 3084 1819 3084 \r\nQ 2600 3084 3056 2656 \r\nQ 3513 2228 3513 1497 \r\nQ 3513 744 3044 326 \r\nQ 2575 -91 1722 -91 \r\nQ 1428 -91 1123 -41 \r\nQ 819 9 494 109 \r\nL 494 744 \r\nQ 775 591 1075 516 \r\nQ 1375 441 1709 441 \r\nQ 2250 441 2565 725 \r\nQ 2881 1009 2881 1497 \r\nQ 2881 1984 2565 2268 \r\nQ 2250 2553 1709 2553 \r\nQ 1456 2553 1204 2497 \r\nQ 953 2441 691 2322 \r\nL 691 4666 \r\nz\r\n\" id=\"DejaVuSans-35\" transform=\"scale(0.015625)\"/>\r\n        <path d=\"M 2034 4250 \r\nQ 1547 4250 1301 3770 \r\nQ 1056 3291 1056 2328 \r\nQ 1056 1369 1301 889 \r\nQ 1547 409 2034 409 \r\nQ 2525 409 2770 889 \r\nQ 3016 1369 3016 2328 \r\nQ 3016 3291 2770 3770 \r\nQ 2525 4250 2034 4250 \r\nz\r\nM 2034 4750 \r\nQ 2819 4750 3233 4129 \r\nQ 3647 3509 3647 2328 \r\nQ 3647 1150 3233 529 \r\nQ 2819 -91 2034 -91 \r\nQ 1250 -91 836 529 \r\nQ 422 1150 422 2328 \r\nQ 422 3509 836 4129 \r\nQ 1250 4750 2034 4750 \r\nz\r\n\" id=\"DejaVuSans-30\" transform=\"scale(0.015625)\"/>\r\n       </defs>\r\n       <use xlink:href=\"#DejaVuSans-37\"/>\r\n       <use x=\"63.623047\" xlink:href=\"#DejaVuSans-37\"/>\r\n       <use x=\"127.246094\" xlink:href=\"#DejaVuSans-35\"/>\r\n       <use x=\"190.869141\" xlink:href=\"#DejaVuSans-30\"/>\r\n      </g>\r\n     </g>\r\n    </g>\r\n    <g id=\"xtick_2\">\r\n     <g id=\"line2d_2\">\r\n      <g>\r\n       <use style=\"stroke:#000000;stroke-width:0.8;\" x=\"108.060105\" xlink:href=\"#md7634cd8c8\" y=\"224.64\"/>\r\n      </g>\r\n     </g>\r\n     <g id=\"text_2\">\r\n      <!-- 7800 -->\r\n      <g transform=\"translate(95.335105 239.238438)scale(0.1 -0.1)\">\r\n       <defs>\r\n        <path d=\"M 2034 2216 \r\nQ 1584 2216 1326 1975 \r\nQ 1069 1734 1069 1313 \r\nQ 1069 891 1326 650 \r\nQ 1584 409 2034 409 \r\nQ 2484 409 2743 651 \r\nQ 3003 894 3003 1313 \r\nQ 3003 1734 2745 1975 \r\nQ 2488 2216 2034 2216 \r\nz\r\nM 1403 2484 \r\nQ 997 2584 770 2862 \r\nQ 544 3141 544 3541 \r\nQ 544 4100 942 4425 \r\nQ 1341 4750 2034 4750 \r\nQ 2731 4750 3128 4425 \r\nQ 3525 4100 3525 3541 \r\nQ 3525 3141 3298 2862 \r\nQ 3072 2584 2669 2484 \r\nQ 3125 2378 3379 2068 \r\nQ 3634 1759 3634 1313 \r\nQ 3634 634 3220 271 \r\nQ 2806 -91 2034 -91 \r\nQ 1263 -91 848 271 \r\nQ 434 634 434 1313 \r\nQ 434 1759 690 2068 \r\nQ 947 2378 1403 2484 \r\nz\r\nM 1172 3481 \r\nQ 1172 3119 1398 2916 \r\nQ 1625 2713 2034 2713 \r\nQ 2441 2713 2670 2916 \r\nQ 2900 3119 2900 3481 \r\nQ 2900 3844 2670 4047 \r\nQ 2441 4250 2034 4250 \r\nQ 1625 4250 1398 4047 \r\nQ 1172 3844 1172 3481 \r\nz\r\n\" id=\"DejaVuSans-38\" transform=\"scale(0.015625)\"/>\r\n       </defs>\r\n       <use xlink:href=\"#DejaVuSans-37\"/>\r\n       <use x=\"63.623047\" xlink:href=\"#DejaVuSans-38\"/>\r\n       <use x=\"127.246094\" xlink:href=\"#DejaVuSans-30\"/>\r\n       <use x=\"190.869141\" xlink:href=\"#DejaVuSans-30\"/>\r\n      </g>\r\n     </g>\r\n    </g>\r\n    <g id=\"xtick_3\">\r\n     <g id=\"line2d_3\">\r\n      <g>\r\n       <use style=\"stroke:#000000;stroke-width:0.8;\" x=\"149.753754\" xlink:href=\"#md7634cd8c8\" y=\"224.64\"/>\r\n      </g>\r\n     </g>\r\n     <g id=\"text_3\">\r\n      <!-- 7850 -->\r\n      <g transform=\"translate(137.028754 239.238438)scale(0.1 -0.1)\">\r\n       <use xlink:href=\"#DejaVuSans-37\"/>\r\n       <use x=\"63.623047\" xlink:href=\"#DejaVuSans-38\"/>\r\n       <use x=\"127.246094\" xlink:href=\"#DejaVuSans-35\"/>\r\n       <use x=\"190.869141\" xlink:href=\"#DejaVuSans-30\"/>\r\n      </g>\r\n     </g>\r\n    </g>\r\n    <g id=\"xtick_4\">\r\n     <g id=\"line2d_4\">\r\n      <g>\r\n       <use style=\"stroke:#000000;stroke-width:0.8;\" x=\"191.447402\" xlink:href=\"#md7634cd8c8\" y=\"224.64\"/>\r\n      </g>\r\n     </g>\r\n     <g id=\"text_4\">\r\n      <!-- 7900 -->\r\n      <g transform=\"translate(178.722402 239.238438)scale(0.1 -0.1)\">\r\n       <defs>\r\n        <path d=\"M 703 97 \r\nL 703 672 \r\nQ 941 559 1184 500 \r\nQ 1428 441 1663 441 \r\nQ 2288 441 2617 861 \r\nQ 2947 1281 2994 2138 \r\nQ 2813 1869 2534 1725 \r\nQ 2256 1581 1919 1581 \r\nQ 1219 1581 811 2004 \r\nQ 403 2428 403 3163 \r\nQ 403 3881 828 4315 \r\nQ 1253 4750 1959 4750 \r\nQ 2769 4750 3195 4129 \r\nQ 3622 3509 3622 2328 \r\nQ 3622 1225 3098 567 \r\nQ 2575 -91 1691 -91 \r\nQ 1453 -91 1209 -44 \r\nQ 966 3 703 97 \r\nz\r\nM 1959 2075 \r\nQ 2384 2075 2632 2365 \r\nQ 2881 2656 2881 3163 \r\nQ 2881 3666 2632 3958 \r\nQ 2384 4250 1959 4250 \r\nQ 1534 4250 1286 3958 \r\nQ 1038 3666 1038 3163 \r\nQ 1038 2656 1286 2365 \r\nQ 1534 2075 1959 2075 \r\nz\r\n\" id=\"DejaVuSans-39\" transform=\"scale(0.015625)\"/>\r\n       </defs>\r\n       <use xlink:href=\"#DejaVuSans-37\"/>\r\n       <use x=\"63.623047\" xlink:href=\"#DejaVuSans-39\"/>\r\n       <use x=\"127.246094\" xlink:href=\"#DejaVuSans-30\"/>\r\n       <use x=\"190.869141\" xlink:href=\"#DejaVuSans-30\"/>\r\n      </g>\r\n     </g>\r\n    </g>\r\n    <g id=\"xtick_5\">\r\n     <g id=\"line2d_5\">\r\n      <g>\r\n       <use style=\"stroke:#000000;stroke-width:0.8;\" x=\"233.141051\" xlink:href=\"#md7634cd8c8\" y=\"224.64\"/>\r\n      </g>\r\n     </g>\r\n     <g id=\"text_5\">\r\n      <!-- 7950 -->\r\n      <g transform=\"translate(220.416051 239.238438)scale(0.1 -0.1)\">\r\n       <use xlink:href=\"#DejaVuSans-37\"/>\r\n       <use x=\"63.623047\" xlink:href=\"#DejaVuSans-39\"/>\r\n       <use x=\"127.246094\" xlink:href=\"#DejaVuSans-35\"/>\r\n       <use x=\"190.869141\" xlink:href=\"#DejaVuSans-30\"/>\r\n      </g>\r\n     </g>\r\n    </g>\r\n    <g id=\"xtick_6\">\r\n     <g id=\"line2d_6\">\r\n      <g>\r\n       <use style=\"stroke:#000000;stroke-width:0.8;\" x=\"274.8347\" xlink:href=\"#md7634cd8c8\" y=\"224.64\"/>\r\n      </g>\r\n     </g>\r\n     <g id=\"text_6\">\r\n      <!-- 8000 -->\r\n      <g transform=\"translate(262.1097 239.238438)scale(0.1 -0.1)\">\r\n       <use xlink:href=\"#DejaVuSans-38\"/>\r\n       <use x=\"63.623047\" xlink:href=\"#DejaVuSans-30\"/>\r\n       <use x=\"127.246094\" xlink:href=\"#DejaVuSans-30\"/>\r\n       <use x=\"190.869141\" xlink:href=\"#DejaVuSans-30\"/>\r\n      </g>\r\n     </g>\r\n    </g>\r\n    <g id=\"xtick_7\">\r\n     <g id=\"line2d_7\">\r\n      <g>\r\n       <use style=\"stroke:#000000;stroke-width:0.8;\" x=\"316.528349\" xlink:href=\"#md7634cd8c8\" y=\"224.64\"/>\r\n      </g>\r\n     </g>\r\n     <g id=\"text_7\">\r\n      <!-- 8050 -->\r\n      <g transform=\"translate(303.803349 239.238438)scale(0.1 -0.1)\">\r\n       <use xlink:href=\"#DejaVuSans-38\"/>\r\n       <use x=\"63.623047\" xlink:href=\"#DejaVuSans-30\"/>\r\n       <use x=\"127.246094\" xlink:href=\"#DejaVuSans-35\"/>\r\n       <use x=\"190.869141\" xlink:href=\"#DejaVuSans-30\"/>\r\n      </g>\r\n     </g>\r\n    </g>\r\n    <g id=\"xtick_8\">\r\n     <g id=\"line2d_8\">\r\n      <g>\r\n       <use style=\"stroke:#000000;stroke-width:0.8;\" x=\"358.221998\" xlink:href=\"#md7634cd8c8\" y=\"224.64\"/>\r\n      </g>\r\n     </g>\r\n     <g id=\"text_8\">\r\n      <!-- 8100 -->\r\n      <g transform=\"translate(345.496998 239.238438)scale(0.1 -0.1)\">\r\n       <defs>\r\n        <path d=\"M 794 531 \r\nL 1825 531 \r\nL 1825 4091 \r\nL 703 3866 \r\nL 703 4441 \r\nL 1819 4666 \r\nL 2450 4666 \r\nL 2450 531 \r\nL 3481 531 \r\nL 3481 0 \r\nL 794 0 \r\nL 794 531 \r\nz\r\n\" id=\"DejaVuSans-31\" transform=\"scale(0.015625)\"/>\r\n       </defs>\r\n       <use xlink:href=\"#DejaVuSans-38\"/>\r\n       <use x=\"63.623047\" xlink:href=\"#DejaVuSans-31\"/>\r\n       <use x=\"127.246094\" xlink:href=\"#DejaVuSans-30\"/>\r\n       <use x=\"190.869141\" xlink:href=\"#DejaVuSans-30\"/>\r\n      </g>\r\n     </g>\r\n    </g>\r\n   </g>\r\n   <g id=\"matplotlib.axis_2\">\r\n    <g id=\"ytick_1\">\r\n     <g id=\"line2d_9\">\r\n      <defs>\r\n       <path d=\"M 0 0 \r\nL -3.5 0 \r\n\" id=\"mfc5f3d246d\" style=\"stroke:#000000;stroke-width:0.8;\"/>\r\n      </defs>\r\n      <g>\r\n       <use style=\"stroke:#000000;stroke-width:0.8;\" x=\"35.304688\" xlink:href=\"#mfc5f3d246d\" y=\"203.589333\"/>\r\n      </g>\r\n     </g>\r\n     <g id=\"text_9\">\r\n      <!-- −40 -->\r\n      <g transform=\"translate(7.2 207.388552)scale(0.1 -0.1)\">\r\n       <defs>\r\n        <path d=\"M 678 2272 \r\nL 4684 2272 \r\nL 4684 1741 \r\nL 678 1741 \r\nL 678 2272 \r\nz\r\n\" id=\"DejaVuSans-2212\" transform=\"scale(0.015625)\"/>\r\n        <path d=\"M 2419 4116 \r\nL 825 1625 \r\nL 2419 1625 \r\nL 2419 4116 \r\nz\r\nM 2253 4666 \r\nL 3047 4666 \r\nL 3047 1625 \r\nL 3713 1625 \r\nL 3713 1100 \r\nL 3047 1100 \r\nL 3047 0 \r\nL 2419 0 \r\nL 2419 1100 \r\nL 313 1100 \r\nL 313 1709 \r\nL 2253 4666 \r\nz\r\n\" id=\"DejaVuSans-34\" transform=\"scale(0.015625)\"/>\r\n       </defs>\r\n       <use xlink:href=\"#DejaVuSans-2212\"/>\r\n       <use x=\"83.789062\" xlink:href=\"#DejaVuSans-34\"/>\r\n       <use x=\"147.412109\" xlink:href=\"#DejaVuSans-30\"/>\r\n      </g>\r\n     </g>\r\n    </g>\r\n    <g id=\"ytick_2\">\r\n     <g id=\"line2d_10\">\r\n      <g>\r\n       <use style=\"stroke:#000000;stroke-width:0.8;\" x=\"35.304688\" xlink:href=\"#mfc5f3d246d\" y=\"173.509791\"/>\r\n      </g>\r\n     </g>\r\n     <g id=\"text_10\">\r\n      <!-- −30 -->\r\n      <g transform=\"translate(7.2 177.30901)scale(0.1 -0.1)\">\r\n       <defs>\r\n        <path d=\"M 2597 2516 \r\nQ 3050 2419 3304 2112 \r\nQ 3559 1806 3559 1356 \r\nQ 3559 666 3084 287 \r\nQ 2609 -91 1734 -91 \r\nQ 1441 -91 1130 -33 \r\nQ 819 25 488 141 \r\nL 488 750 \r\nQ 750 597 1062 519 \r\nQ 1375 441 1716 441 \r\nQ 2309 441 2620 675 \r\nQ 2931 909 2931 1356 \r\nQ 2931 1769 2642 2001 \r\nQ 2353 2234 1838 2234 \r\nL 1294 2234 \r\nL 1294 2753 \r\nL 1863 2753 \r\nQ 2328 2753 2575 2939 \r\nQ 2822 3125 2822 3475 \r\nQ 2822 3834 2567 4026 \r\nQ 2313 4219 1838 4219 \r\nQ 1578 4219 1281 4162 \r\nQ 984 4106 628 3988 \r\nL 628 4550 \r\nQ 988 4650 1302 4700 \r\nQ 1616 4750 1894 4750 \r\nQ 2613 4750 3031 4423 \r\nQ 3450 4097 3450 3541 \r\nQ 3450 3153 3228 2886 \r\nQ 3006 2619 2597 2516 \r\nz\r\n\" id=\"DejaVuSans-33\" transform=\"scale(0.015625)\"/>\r\n       </defs>\r\n       <use xlink:href=\"#DejaVuSans-2212\"/>\r\n       <use x=\"83.789062\" xlink:href=\"#DejaVuSans-33\"/>\r\n       <use x=\"147.412109\" xlink:href=\"#DejaVuSans-30\"/>\r\n      </g>\r\n     </g>\r\n    </g>\r\n    <g id=\"ytick_3\">\r\n     <g id=\"line2d_11\">\r\n      <g>\r\n       <use style=\"stroke:#000000;stroke-width:0.8;\" x=\"35.304688\" xlink:href=\"#mfc5f3d246d\" y=\"143.430248\"/>\r\n      </g>\r\n     </g>\r\n     <g id=\"text_11\">\r\n      <!-- −20 -->\r\n      <g transform=\"translate(7.2 147.229467)scale(0.1 -0.1)\">\r\n       <defs>\r\n        <path d=\"M 1228 531 \r\nL 3431 531 \r\nL 3431 0 \r\nL 469 0 \r\nL 469 531 \r\nQ 828 903 1448 1529 \r\nQ 2069 2156 2228 2338 \r\nQ 2531 2678 2651 2914 \r\nQ 2772 3150 2772 3378 \r\nQ 2772 3750 2511 3984 \r\nQ 2250 4219 1831 4219 \r\nQ 1534 4219 1204 4116 \r\nQ 875 4013 500 3803 \r\nL 500 4441 \r\nQ 881 4594 1212 4672 \r\nQ 1544 4750 1819 4750 \r\nQ 2544 4750 2975 4387 \r\nQ 3406 4025 3406 3419 \r\nQ 3406 3131 3298 2873 \r\nQ 3191 2616 2906 2266 \r\nQ 2828 2175 2409 1742 \r\nQ 1991 1309 1228 531 \r\nz\r\n\" id=\"DejaVuSans-32\" transform=\"scale(0.015625)\"/>\r\n       </defs>\r\n       <use xlink:href=\"#DejaVuSans-2212\"/>\r\n       <use x=\"83.789062\" xlink:href=\"#DejaVuSans-32\"/>\r\n       <use x=\"147.412109\" xlink:href=\"#DejaVuSans-30\"/>\r\n      </g>\r\n     </g>\r\n    </g>\r\n    <g id=\"ytick_4\">\r\n     <g id=\"line2d_12\">\r\n      <g>\r\n       <use style=\"stroke:#000000;stroke-width:0.8;\" x=\"35.304688\" xlink:href=\"#mfc5f3d246d\" y=\"113.350706\"/>\r\n      </g>\r\n     </g>\r\n     <g id=\"text_12\">\r\n      <!-- −10 -->\r\n      <g transform=\"translate(7.2 117.149924)scale(0.1 -0.1)\">\r\n       <use xlink:href=\"#DejaVuSans-2212\"/>\r\n       <use x=\"83.789062\" xlink:href=\"#DejaVuSans-31\"/>\r\n       <use x=\"147.412109\" xlink:href=\"#DejaVuSans-30\"/>\r\n      </g>\r\n     </g>\r\n    </g>\r\n    <g id=\"ytick_5\">\r\n     <g id=\"line2d_13\">\r\n      <g>\r\n       <use style=\"stroke:#000000;stroke-width:0.8;\" x=\"35.304688\" xlink:href=\"#mfc5f3d246d\" y=\"83.271163\"/>\r\n      </g>\r\n     </g>\r\n     <g id=\"text_13\">\r\n      <!-- 0 -->\r\n      <g transform=\"translate(21.942188 87.070382)scale(0.1 -0.1)\">\r\n       <use xlink:href=\"#DejaVuSans-30\"/>\r\n      </g>\r\n     </g>\r\n    </g>\r\n    <g id=\"ytick_6\">\r\n     <g id=\"line2d_14\">\r\n      <g>\r\n       <use style=\"stroke:#000000;stroke-width:0.8;\" x=\"35.304688\" xlink:href=\"#mfc5f3d246d\" y=\"53.191621\"/>\r\n      </g>\r\n     </g>\r\n     <g id=\"text_14\">\r\n      <!-- 10 -->\r\n      <g transform=\"translate(15.579688 56.990839)scale(0.1 -0.1)\">\r\n       <use xlink:href=\"#DejaVuSans-31\"/>\r\n       <use x=\"63.623047\" xlink:href=\"#DejaVuSans-30\"/>\r\n      </g>\r\n     </g>\r\n    </g>\r\n    <g id=\"ytick_7\">\r\n     <g id=\"line2d_15\">\r\n      <g>\r\n       <use style=\"stroke:#000000;stroke-width:0.8;\" x=\"35.304688\" xlink:href=\"#mfc5f3d246d\" y=\"23.112078\"/>\r\n      </g>\r\n     </g>\r\n     <g id=\"text_15\">\r\n      <!-- 20 -->\r\n      <g transform=\"translate(15.579688 26.911297)scale(0.1 -0.1)\">\r\n       <use xlink:href=\"#DejaVuSans-32\"/>\r\n       <use x=\"63.623047\" xlink:href=\"#DejaVuSans-30\"/>\r\n      </g>\r\n     </g>\r\n    </g>\r\n   </g>\r\n   <g id=\"line2d_16\">\r\n    <path clip-path=\"url(#p57ce54ee2c)\" d=\"M 50.522869 182.963199 \r\nL 51.356742 183.789247 \r\nL 52.190615 180.001959 \r\nL 53.024488 177.777896 \r\nL 53.858361 178.561787 \r\nL 54.692234 180.042976 \r\nL 55.526107 182.194119 \r\nL 57.193853 184.529841 \r\nL 58.027726 185.776319 \r\nL 58.861599 186.611483 \r\nL 59.695472 186.72542 \r\nL 60.529345 184.608458 \r\nL 61.363218 184.063836 \r\nL 62.197091 181.758878 \r\nL 63.030964 177.703836 \r\nL 63.864837 172.535624 \r\nL 64.69871 165.722152 \r\nL 65.532583 160.441141 \r\nL 66.366456 154.157479 \r\nL 67.200329 149.426787 \r\nL 68.868075 136.194067 \r\nL 69.701948 134.678697 \r\nL 70.535821 136.053924 \r\nL 71.369694 138.746271 \r\nL 73.871313 151.516404 \r\nL 74.705186 153.502338 \r\nL 75.539059 153.713122 \r\nL 76.372932 151.519822 \r\nL 78.040678 149.795945 \r\nL 78.874551 149.266135 \r\nL 79.708423 146.650127 \r\nL 80.542296 142.271502 \r\nL 81.376169 137.005304 \r\nL 83.877788 124.047173 \r\nL 84.711661 121.32976 \r\nL 85.545534 123.336202 \r\nL 86.379407 127.024364 \r\nL 87.21328 133.654397 \r\nL 88.047153 138.599291 \r\nL 88.881026 146.162473 \r\nL 89.714899 152.184079 \r\nL 90.548772 157.203033 \r\nL 91.382645 159.324552 \r\nL 93.050391 159.991087 \r\nL 93.884264 161.403914 \r\nL 94.718137 161.423284 \r\nL 95.55201 161.66825 \r\nL 96.385883 161.609002 \r\nL 97.219756 160.852456 \r\nL 98.887502 154.1928 \r\nL 99.721375 151.280553 \r\nL 100.555248 153.146852 \r\nL 102.222994 161.52241 \r\nL 103.056867 164.17146 \r\nL 103.89074 166.008135 \r\nL 104.724613 166.585799 \r\nL 105.558486 165.968257 \r\nL 106.392359 165.553524 \r\nL 107.226232 167.051804 \r\nL 108.893978 172.527648 \r\nL 109.727851 172.255337 \r\nL 111.395597 169.9481 \r\nL 112.22947 167.016484 \r\nL 113.063343 162.192363 \r\nL 113.897216 159.247074 \r\nL 114.731088 156.880589 \r\nL 116.398834 149.112319 \r\nL 117.232707 146.389209 \r\nL 118.06658 144.355422 \r\nL 119.734326 142.084645 \r\nL 120.568199 140.44736 \r\nL 121.402072 141.632312 \r\nL 122.235945 142.543813 \r\nL 123.069818 140.976031 \r\nL 123.903691 140.394949 \r\nL 124.737564 142.481148 \r\nL 125.571437 143.744716 \r\nL 126.40531 144.622036 \r\nL 127.239183 145.768249 \r\nL 128.073056 146.443899 \r\nL 129.740802 148.975594 \r\nL 130.574675 149.585161 \r\nL 131.408548 150.397536 \r\nL 132.242421 151.751116 \r\nL 133.076294 150.316641 \r\nL 133.910167 147.544537 \r\nL 134.74404 145.878769 \r\nL 138.913405 131.684415 \r\nL 139.747278 128.240079 \r\nL 141.415024 124.723963 \r\nL 142.248897 122.71866 \r\nL 143.08277 121.362802 \r\nL 143.916643 118.802623 \r\nL 144.750516 116.894167 \r\nL 146.418262 113.679986 \r\nL 147.252135 111.60746 \r\nL 148.086008 110.024865 \r\nL 149.753754 109.117922 \r\nL 151.421499 108.311243 \r\nL 152.255372 108.613178 \r\nL 153.089245 109.981569 \r\nL 153.923118 109.957642 \r\nL 155.590864 105.247459 \r\nL 156.424737 103.466614 \r\nL 157.25861 102.144937 \r\nL 158.092483 99.19623 \r\nL 158.926356 96.681626 \r\nL 159.760229 93.571128 \r\nL 160.594102 90.910683 \r\nL 161.427975 86.80437 \r\nL 162.261848 84.515362 \r\nL 163.095721 83.69729 \r\nL 163.929594 85.001876 \r\nL 164.763467 85.090748 \r\nL 167.265086 80.180034 \r\nL 168.098959 77.038773 \r\nL 168.932832 75.967759 \r\nL 169.766705 76.740256 \r\nL 170.600578 76.325523 \r\nL 171.434451 73.074882 \r\nL 172.268324 71.586856 \r\nL 173.102197 70.616107 \r\nL 173.93607 68.684864 \r\nL 174.769943 68.443316 \r\nL 175.603816 68.786268 \r\nL 176.437689 67.438386 \r\nL 177.271562 67.338121 \r\nL 178.105435 65.378393 \r\nL 180.607054 60.318421 \r\nL 182.2748 52.722197 \r\nL 183.942546 52.683459 \r\nL 184.776419 50.887801 \r\nL 185.610291 49.48181 \r\nL 186.444164 46.708568 \r\nL 187.278037 46.309786 \r\nL 188.11191 43.686941 \r\nL 188.945783 41.809248 \r\nL 189.779656 40.987758 \r\nL 190.613529 40.594673 \r\nL 191.447402 40.912559 \r\nL 192.281275 37.640269 \r\nL 193.115148 32.995031 \r\nL 193.949021 29.805916 \r\nL 194.782894 29.840097 \r\nL 195.616767 30.745901 \r\nL 196.45064 28.82833 \r\nL 197.284513 28.552601 \r\nL 198.118386 30.715138 \r\nL 198.952259 30.361931 \r\nL 199.786132 29.474357 \r\nL 200.620005 27.993167 \r\nL 201.453878 29.228252 \r\nL 203.121624 33.208094 \r\nL 203.955497 36.167055 \r\nL 204.78937 37.810036 \r\nL 205.623243 39.144246 \r\nL 206.457116 38.577976 \r\nL 207.290989 36.56128 \r\nL 208.124862 37.750789 \r\nL 208.958735 40.468202 \r\nL 209.792608 42.396027 \r\nL 210.626481 42.709356 \r\nL 211.460354 43.680105 \r\nL 212.294227 45.181803 \r\nL 213.1281 45.53501 \r\nL 213.961973 46.595769 \r\nL 214.795846 48.255841 \r\nL 216.463592 52.726755 \r\nL 217.297465 53.28391 \r\nL 218.131338 53.032108 \r\nL 218.965211 54.205666 \r\nL 219.799084 54.975884 \r\nL 220.632956 56.763566 \r\nL 221.466829 57.202226 \r\nL 223.134575 55.187808 \r\nL 223.968448 55.910173 \r\nL 224.802321 56.478722 \r\nL 225.636194 55.798514 \r\nL 226.470067 56.79319 \r\nL 227.30394 56.973212 \r\nL 228.971686 52.459001 \r\nL 229.805559 49.595748 \r\nL 230.639432 47.467392 \r\nL 231.473305 46.642484 \r\nL 232.307178 44.888983 \r\nL 233.141051 42.784555 \r\nL 233.974924 41.97104 \r\nL 234.808797 43.330316 \r\nL 235.64267 43.553634 \r\nL 236.476543 43.321201 \r\nL 237.310416 45.285486 \r\nL 238.144289 48.831226 \r\nL 238.978162 51.655741 \r\nL 239.812035 52.970582 \r\nL 240.645908 53.957282 \r\nL 241.479781 55.301746 \r\nL 242.313654 56.383014 \r\nL 243.147527 56.319209 \r\nL 243.9814 55.400872 \r\nL 244.815273 54.794723 \r\nL 245.649146 54.887013 \r\nL 246.483019 55.45898 \r\nL 247.316892 55.836114 \r\nL 248.984638 55.813326 \r\nL 249.818511 57.771915 \r\nL 250.652384 60.786705 \r\nL 253.987876 70.766505 \r\nL 254.821749 73.690145 \r\nL 255.655621 74.878515 \r\nL 256.489494 74.945738 \r\nL 257.323367 75.56442 \r\nL 258.15724 77.484269 \r\nL 258.991113 77.186892 \r\nL 260.658859 74.17438 \r\nL 261.492732 73.614946 \r\nL 262.326605 73.719769 \r\nL 263.160478 74.240464 \r\nL 263.994351 73.974989 \r\nL 264.828224 75.488082 \r\nL 266.49597 81.02887 \r\nL 268.163716 85.439397 \r\nL 270.665335 95.133213 \r\nL 271.499208 96.50958 \r\nL 272.333081 97.065596 \r\nL 274.000827 97.208018 \r\nL 274.8347 96.991536 \r\nL 276.502446 96.241827 \r\nL 277.336319 96.207645 \r\nL 278.170192 95.794052 \r\nL 279.004065 94.11575 \r\nL 279.837938 93.111959 \r\nL 280.671811 92.866993 \r\nL 282.339557 94.283238 \r\nL 283.17343 93.252102 \r\nL 284.007303 92.961561 \r\nL 284.841176 92.256287 \r\nL 285.675049 91.819906 \r\nL 286.508922 90.584822 \r\nL 287.342795 89.14351 \r\nL 288.176668 90.116538 \r\nL 289.010541 90.713571 \r\nL 289.844414 90.483417 \r\nL 290.678287 89.959304 \r\nL 291.512159 91.588612 \r\nL 292.346032 94.375528 \r\nL 293.179905 94.53504 \r\nL 294.847651 93.705574 \r\nL 295.681524 94.980537 \r\nL 296.515397 96.462866 \r\nL 297.34927 97.089523 \r\nL 298.183143 96.927731 \r\nL 299.017016 97.505395 \r\nL 299.850889 99.285101 \r\nL 300.684762 99.555134 \r\nL 301.518635 100.031393 \r\nL 304.020254 109.757112 \r\nL 305.688 112.132712 \r\nL 306.521873 112.94167 \r\nL 307.355746 115.467667 \r\nL 308.189619 118.910864 \r\nL 309.023492 121.587259 \r\nL 310.691238 125.587611 \r\nL 311.525111 125.136417 \r\nL 312.358984 127.253379 \r\nL 313.192857 128.930542 \r\nL 314.02673 131.221828 \r\nL 318.196095 149.509962 \r\nL 319.029968 152.965691 \r\nL 319.863841 155.241026 \r\nL 320.697714 156.664108 \r\nL 321.531587 156.545612 \r\nL 322.36546 156.219751 \r\nL 323.199333 157.893495 \r\nL 324.033206 160.924237 \r\nL 324.867079 162.07045 \r\nL 325.700952 161.920052 \r\nL 326.534824 159.36557 \r\nL 327.368697 157.602954 \r\nL 328.20257 155.3994 \r\nL 329.036443 155.058726 \r\nL 329.870316 157.029848 \r\nL 330.704189 159.54673 \r\nL 331.538062 164.479092 \r\nL 332.371935 164.119049 \r\nL 333.205808 164.186272 \r\nL 334.039681 167.115609 \r\nL 334.873554 170.596405 \r\nL 335.707427 175.444452 \r\nL 336.5413 176.212392 \r\nL 337.375173 179.0859 \r\nL 338.209046 179.245413 \r\nL 339.042919 178.077552 \r\nL 339.876792 178.92183 \r\nL 340.710665 178.558369 \r\nL 341.544538 180.842819 \r\nL 342.378411 180.374535 \r\nL 344.88003 171.586523 \r\nL 345.713903 172.938963 \r\nL 346.547776 173.069992 \r\nL 347.381649 174.49877 \r\nL 348.215522 177.434943 \r\nL 349.049395 178.603944 \r\nL 349.883268 180.278827 \r\nL 350.717141 181.255273 \r\nL 351.551014 178.971962 \r\nL 352.384887 176.260246 \r\nL 354.052633 168.641235 \r\nL 354.886506 164.970163 \r\nL 354.886506 164.970163 \r\n\" style=\"fill:none;stroke:#1f77b4;stroke-linecap:square;stroke-width:1.5;\"/>\r\n   </g>\r\n   <g id=\"line2d_17\">\r\n    <path clip-path=\"url(#p57ce54ee2c)\" d=\"M 50.522869 171.880482 \r\nL 51.356742 195.355059 \r\nL 52.190615 201.320835 \r\nL 53.024488 196.470508 \r\nL 53.858361 197.310229 \r\nL 54.692234 194.427606 \r\nL 55.526107 185.378677 \r\nL 56.35998 135.709832 \r\nL 57.193853 158.056426 \r\nL 58.027726 169.900246 \r\nL 58.861599 174.66284 \r\nL 59.695472 195.543056 \r\nL 60.529345 207.612472 \r\nL 61.363218 214.756364 \r\nL 62.197091 210.181767 \r\nL 63.030964 206.497023 \r\nL 63.864837 195.68092 \r\nL 65.532583 129.71899 \r\nL 66.366456 132.701878 \r\nL 68.034202 117.812505 \r\nL 68.868075 120.594862 \r\nL 69.701948 149.521356 \r\nL 70.535821 145.636081 \r\nL 71.369694 158.144158 \r\nL 72.203567 136.023161 \r\nL 73.03744 120.594862 \r\nL 73.871313 145.423018 \r\nL 74.705186 144.846493 \r\nL 75.539059 162.317694 \r\nL 76.372932 172.431941 \r\nL 77.206805 168.458934 \r\nL 78.040678 163.282746 \r\nL 78.874551 171.366623 \r\nL 79.708423 147.954713 \r\nL 80.542296 134.017858 \r\nL 81.376169 125.821183 \r\nL 82.210042 111.834195 \r\nL 83.043915 139.595107 \r\nL 83.877788 116.070398 \r\nL 84.711661 114.152827 \r\nL 85.545534 114.503755 \r\nL 86.379407 119.266349 \r\nL 87.21328 119.166084 \r\nL 88.047153 122.136439 \r\nL 88.881026 118.063167 \r\nL 89.714899 156.088722 \r\nL 90.548772 166.390966 \r\nL 91.382645 184.764553 \r\nL 92.216518 193.988946 \r\nL 93.050391 199.265399 \r\nL 93.884264 180.390486 \r\nL 94.718137 169.712249 \r\nL 95.55201 142.603061 \r\nL 96.385883 123.302021 \r\nL 97.219756 125.33239 \r\nL 98.053629 133.604264 \r\nL 98.887502 156.301786 \r\nL 99.721375 169.085591 \r\nL 100.555248 184.11283 \r\nL 101.389121 185.666939 \r\nL 102.222994 161.214778 \r\nL 103.056867 145.184888 \r\nL 103.89074 137.677536 \r\nL 104.724613 163.132349 \r\nL 105.558486 170.263707 \r\nL 106.392359 170.501837 \r\nL 107.226232 162.743821 \r\nL 108.060105 176.505212 \r\nL 108.893978 175.439895 \r\nL 109.727851 177.319866 \r\nL 110.561724 181.104875 \r\nL 111.395597 177.695861 \r\nL 112.22947 177.182002 \r\nL 113.063343 165.914706 \r\nL 113.897216 160.136928 \r\nL 114.731088 156.665247 \r\nL 115.564961 158.720682 \r\nL 116.398834 130.496045 \r\nL 117.232707 123.439886 \r\nL 118.06658 143.041721 \r\nL 118.900453 151.288529 \r\nL 119.734326 135.346371 \r\nL 120.568199 138.003398 \r\nL 121.402072 147.227791 \r\nL 122.235945 143.543047 \r\nL 123.069818 148.368307 \r\nL 123.903691 143.455315 \r\nL 124.737564 140.710556 \r\nL 125.571437 143.530513 \r\nL 126.40531 133.4664 \r\nL 127.239183 125.796116 \r\nL 128.073056 144.896626 \r\nL 128.906929 158.294556 \r\nL 129.740802 151.902653 \r\nL 130.574675 156.87831 \r\nL 131.408548 156.151388 \r\nL 132.242421 155.80046 \r\nL 133.076294 158.394821 \r\nL 133.910167 153.619693 \r\nL 134.74404 150.235745 \r\nL 135.577913 142.402531 \r\nL 136.411786 140.68549 \r\nL 137.245659 129.117399 \r\nL 138.079532 127.801419 \r\nL 138.913405 133.579198 \r\nL 139.747278 126.046779 \r\nL 140.581151 121.948442 \r\nL 141.415024 128.60354 \r\nL 142.248897 131.498696 \r\nL 143.08277 116.609323 \r\nL 143.916643 112.348054 \r\nL 144.750516 123.81588 \r\nL 145.584389 120.594862 \r\nL 146.418262 107.059068 \r\nL 147.252135 112.886979 \r\nL 148.086008 105.417226 \r\nL 149.753754 104.765503 \r\nL 150.587626 110.430483 \r\nL 151.421499 108.70091 \r\nL 152.255372 99.200788 \r\nL 153.089245 107.911322 \r\nL 153.923118 118.276231 \r\nL 154.756991 115.468807 \r\nL 155.590864 103.311658 \r\nL 156.424737 116.208262 \r\nL 157.25861 120.469531 \r\nL 158.092483 104.790569 \r\nL 158.926356 79.461088 \r\nL 159.760229 83.922887 \r\nL 160.594102 89.111608 \r\nL 161.427975 84.662342 \r\nL 162.261848 75.475548 \r\nL 163.095721 90.615585 \r\nL 163.929594 81.253327 \r\nL 164.763467 74.04677 \r\nL 165.59734 71.038816 \r\nL 166.431213 95.290447 \r\nL 167.265086 95.791773 \r\nL 168.098959 93.811536 \r\nL 168.932832 84.900472 \r\nL 169.766705 70.524957 \r\nL 170.600578 68.406856 \r\nL 171.434451 56.29984 \r\nL 172.268324 56.06171 \r\nL 173.93607 82.544241 \r\nL 174.769943 66.476752 \r\nL 175.603816 59.533391 \r\nL 176.437689 79.423488 \r\nL 177.271562 83.133299 \r\nL 178.105435 63.656795 \r\nL 179.773181 72.179332 \r\nL 180.607054 41.473132 \r\nL 181.440927 54.958794 \r\nL 182.2748 47.915168 \r\nL 183.108673 64.245852 \r\nL 183.942546 46.41119 \r\nL 184.776419 42.237654 \r\nL 185.610291 40.295017 \r\nL 186.444164 38.703308 \r\nL 187.278037 62.917339 \r\nL 188.11191 68.181259 \r\nL 188.945783 52.427099 \r\nL 189.779656 26.007234 \r\nL 190.613529 24.453124 \r\nL 191.447402 43.528568 \r\nL 192.281275 35.394558 \r\nL 193.115148 25.756571 \r\nL 193.949021 33.201258 \r\nL 194.782894 35.971082 \r\nL 195.616767 42.200054 \r\nL 196.45064 26.922153 \r\nL 197.284513 17.083636 \r\nL 198.118386 17.346832 \r\nL 199.786132 34.416973 \r\nL 200.620005 22.435288 \r\nL 201.453878 32.361537 \r\nL 202.287751 49.544476 \r\nL 203.121624 29.315984 \r\nL 203.955497 26.207764 \r\nL 204.78937 25.906969 \r\nL 205.623243 40.50808 \r\nL 206.457116 37.775855 \r\nL 207.290989 40.432881 \r\nL 208.124862 58.9318 \r\nL 208.958735 52.489765 \r\nL 209.792608 37.111598 \r\nL 210.626481 26.132565 \r\nL 211.460354 27.360813 \r\nL 213.1281 56.09931 \r\nL 213.961973 47.113046 \r\nL 214.795846 43.954694 \r\nL 215.629719 48.454093 \r\nL 216.463592 56.951563 \r\nL 217.297465 62.817074 \r\nL 218.131338 64.15812 \r\nL 218.965211 55.372387 \r\nL 219.799084 51.386848 \r\nL 220.632956 51.286583 \r\nL 221.466829 48.529291 \r\nL 222.300702 53.329485 \r\nL 223.134575 60.022183 \r\nL 223.968448 52.427099 \r\nL 224.802321 68.118594 \r\nL 225.636194 61.776823 \r\nL 226.470067 52.251635 \r\nL 227.30394 52.564963 \r\nL 228.137813 63.3184 \r\nL 228.971686 57.640886 \r\nL 229.805559 43.804297 \r\nL 230.639432 59.470725 \r\nL 231.473305 55.309722 \r\nL 232.307178 36.108947 \r\nL 233.141051 26.684024 \r\nL 233.974924 36.622806 \r\nL 234.808797 38.364913 \r\nL 235.64267 43.17764 \r\nL 236.476543 33.276457 \r\nL 237.310416 40.169685 \r\nL 238.144289 48.692222 \r\nL 238.978162 58.756336 \r\nL 239.812035 61.927221 \r\nL 240.645908 52.752961 \r\nL 241.479781 57.716085 \r\nL 242.313654 65.687164 \r\nL 243.147527 67.692467 \r\nL 243.9814 52.828159 \r\nL 244.815273 54.031341 \r\nL 245.649146 48.065565 \r\nL 246.483019 52.063638 \r\nL 247.316892 47.990366 \r\nL 248.150765 48.654623 \r\nL 248.984638 55.259589 \r\nL 249.818511 53.768145 \r\nL 250.652384 64.007723 \r\nL 251.486257 69.835634 \r\nL 252.32013 67.053276 \r\nL 253.154003 53.216687 \r\nL 253.987876 75.575814 \r\nL 254.821749 81.228261 \r\nL 255.655621 79.624019 \r\nL 256.489494 72.993986 \r\nL 257.323367 81.930117 \r\nL 258.15724 79.197892 \r\nL 258.991113 85.928189 \r\nL 259.824986 77.079791 \r\nL 260.658859 70.57509 \r\nL 261.492732 73.858773 \r\nL 262.326605 74.335032 \r\nL 263.160478 72.304663 \r\nL 263.994351 63.894924 \r\nL 264.828224 63.819726 \r\nL 265.662097 66.840213 \r\nL 266.49597 83.083166 \r\nL 267.329843 84.925538 \r\nL 268.163716 83.007967 \r\nL 268.997589 93.723804 \r\nL 269.831462 102.835399 \r\nL 270.665335 102.547137 \r\nL 271.499208 98.737061 \r\nL 272.333081 96.41843 \r\nL 274.000827 101.268756 \r\nL 274.8347 101.00556 \r\nL 275.668573 98.223202 \r\nL 277.336319 84.323947 \r\nL 278.170192 93.974467 \r\nL 279.004065 100.454102 \r\nL 279.837938 98.887459 \r\nL 280.671811 94.149931 \r\nL 281.505684 96.042436 \r\nL 282.339557 94.362994 \r\nL 283.17343 82.807437 \r\nL 284.007303 89.963861 \r\nL 284.841176 95.528577 \r\nL 285.675049 98.198136 \r\nL 286.508922 92.746219 \r\nL 287.342795 82.631973 \r\nL 288.176668 97.25815 \r\nL 289.010541 91.129444 \r\nL 289.844414 89.349737 \r\nL 290.678287 82.456509 \r\nL 291.512159 78.508569 \r\nL 292.346032 93.510741 \r\nL 293.179905 96.531228 \r\nL 294.013778 92.996882 \r\nL 294.847651 92.432891 \r\nL 295.681524 110.668613 \r\nL 296.515397 113.28804 \r\nL 298.183143 85.865524 \r\nL 299.017016 85.489529 \r\nL 299.850889 96.481096 \r\nL 300.684762 94.814188 \r\nL 301.518635 100.403969 \r\nL 302.352508 94.751522 \r\nL 303.186381 99.351185 \r\nL 304.020254 112.009659 \r\nL 304.854127 113.638968 \r\nL 305.688 118.526894 \r\nL 306.521873 134.519184 \r\nL 307.355746 123.402286 \r\nL 308.189619 119.42928 \r\nL 309.023492 110.543282 \r\nL 309.857365 106.883604 \r\nL 310.691238 109.302501 \r\nL 312.358984 137.226343 \r\nL 313.192857 141.450012 \r\nL 314.02673 137.301542 \r\nL 314.860603 138.868184 \r\nL 315.694476 129.556059 \r\nL 316.528349 146.688865 \r\nL 317.362222 137.878066 \r\nL 318.196095 135.747432 \r\nL 319.029968 148.117644 \r\nL 319.863841 156.101256 \r\nL 320.697714 160.600654 \r\nL 321.531587 177.169469 \r\nL 322.36546 176.580411 \r\nL 323.199333 175.314563 \r\nL 324.033206 163.89687 \r\nL 324.867079 145.209955 \r\nL 325.700952 145.385419 \r\nL 326.534824 134.293587 \r\nL 327.368697 154.158618 \r\nL 328.20257 181.455803 \r\nL 329.036443 168.709597 \r\nL 330.704189 149.070163 \r\nL 331.538062 157.191639 \r\nL 332.371935 151.075465 \r\nL 333.205808 160.149461 \r\nL 334.873554 173.071131 \r\nL 335.707427 188.549562 \r\nL 336.5413 150.198145 \r\nL 337.375173 182.195259 \r\nL 338.209046 200.932307 \r\nL 339.042919 197.23503 \r\nL 339.876792 202.398685 \r\nL 340.710665 165.638977 \r\nL 341.544538 182.684051 \r\nL 342.378411 161.904101 \r\nL 343.212284 154.04582 \r\nL 344.046157 182.35819 \r\nL 344.88003 184.55149 \r\nL 345.713903 175.327097 \r\nL 346.547776 177.044137 \r\nL 347.381649 168.859995 \r\nL 348.215522 164.924588 \r\nL 349.049395 170.113309 \r\nL 349.883268 180.515818 \r\nL 350.717141 184.125363 \r\nL 351.551014 177.620662 \r\nL 354.052633 202.975209 \r\nL 354.886506 186.068 \r\nL 354.886506 186.068 \r\n\" style=\"fill:none;stroke:#ff7f0e;stroke-linecap:square;stroke-width:1.5;\"/>\r\n   </g>\r\n   <g id=\"line2d_18\">\r\n    <path clip-path=\"url(#p57ce54ee2c)\" d=\"M 35.304688 68.231392 \r\nL 370.104688 68.231392 \r\n\" style=\"fill:none;stroke:#1f77b4;stroke-linecap:square;stroke-width:1.5;\"/>\r\n   </g>\r\n   <g id=\"patch_3\">\r\n    <path d=\"M 35.304688 224.64 \r\nL 35.304688 7.2 \r\n\" style=\"fill:none;stroke:#000000;stroke-linecap:square;stroke-linejoin:miter;stroke-width:0.8;\"/>\r\n   </g>\r\n   <g id=\"patch_4\">\r\n    <path d=\"M 370.104688 224.64 \r\nL 370.104688 7.2 \r\n\" style=\"fill:none;stroke:#000000;stroke-linecap:square;stroke-linejoin:miter;stroke-width:0.8;\"/>\r\n   </g>\r\n   <g id=\"patch_5\">\r\n    <path d=\"M 35.304688 224.64 \r\nL 370.104688 224.64 \r\n\" style=\"fill:none;stroke:#000000;stroke-linecap:square;stroke-linejoin:miter;stroke-width:0.8;\"/>\r\n   </g>\r\n   <g id=\"patch_6\">\r\n    <path d=\"M 35.304688 7.2 \r\nL 370.104688 7.2 \r\n\" style=\"fill:none;stroke:#000000;stroke-linecap:square;stroke-linejoin:miter;stroke-width:0.8;\"/>\r\n   </g>\r\n  </g>\r\n </g>\r\n <defs>\r\n  <clipPath id=\"p57ce54ee2c\">\r\n   <rect height=\"217.44\" width=\"334.8\" x=\"35.304688\" y=\"7.2\"/>\r\n  </clipPath>\r\n </defs>\r\n</svg>\r\n",
      "text/plain": [
       "<Figure size 432x288 with 1 Axes>"
      ]
     },
     "metadata": {
      "needs_background": "light"
     },
     "output_type": "display_data"
    }
   ],
   "source": [
    "plt.plot(climate_I_rolled[climate_I_rolled['Year']==1980]['Temp (°C)'])\n",
    "plt.plot(climate_I[climate_I['Year']==1980]['Temp (°C)'])\n",
    "plt.axhline(5)"
   ]
  },
  {
   "cell_type": "markdown",
   "metadata": {},
   "source": [
    "# Экспорт eps файлов из gz архивов"
   ]
  },
  {
   "cell_type": "code",
   "execution_count": 1,
   "metadata": {},
   "outputs": [],
   "source": [
    "import gzip\n",
    "import shutil\n",
    "from os import listdir\n",
    "from os.path import isfile, join\n",
    "\n",
    "mypath = 'output/other_files/002 -- 07.09.2021 (обновлённые карты по гридам и d18O с единым промежутком)'\n",
    "\n",
    "onlyfiles = [f for f in listdir(mypath) if isfile(join(mypath, f))]\n",
    "\n",
    "for f in onlyfiles:\n",
    "    with gzip.open(f'{mypath}/{f}', 'rb') as f_in:\n",
    "        temp = f.split(\".\")\n",
    "        new_f = temp[0] + temp[1]\n",
    "        with open(f'{mypath}/eps/{new_f}.eps', 'wb') as f_out:\n",
    "            shutil.copyfileobj(f_in, f_out)\n"
   ]
  },
  {
   "cell_type": "markdown",
   "metadata": {},
   "source": [
    "# Тренды для d18O"
   ]
  },
  {
   "cell_type": "code",
   "execution_count": 22,
   "metadata": {},
   "outputs": [
    {
     "name": "stdout",
     "output_type": "stream",
     "text": [
      "y=0.002x+16.35,0.09,0.4366\n",
      "y=0.041x-60.82,0.56,0.0014\n"
     ]
    },
    {
     "data": {
      "image/png": "[encoded data removed]",
      "text/plain": [
       "<Figure size 432x288 with 1 Axes>"
      ]
     },
     "metadata": {
      "needs_background": "light"
     },
     "output_type": "display_data"
    }
   ],
   "source": [
    "fig, ax = plt.subplots()\n",
    "t1 = plot_measurement(pd.read_excel('input/d18O.xlsx', sheet_name=3), ax, 1901, 1979, '$δ^{18}O$ [‰]', 0, 'slateblue', False)\n",
    "t2 = plot_measurement(pd.read_excel('input/d18O.xlsx', sheet_name=3), ax, 1980, 2020, '$δ^{18}O$ [‰]', 0, 'lightcoral', False)\n",
    "ax.set_xlim([1900, 2010])\n",
    "ax.set_ylim([17.5, 24])\n",
    "ax.set_title('$δ^{18}O$  TAY annual', loc='left')\n",
    "ax.set_title('', loc='left')\n",
    "plt.savefig(f'output/d18O TAY annual.png', dpi=100)"
   ]
  },
  {
   "cell_type": "code",
   "execution_count": 23,
   "metadata": {},
   "outputs": [
    {
     "name": "stdout",
     "output_type": "stream",
     "text": [
      "y=0.003x+12.66,0.14,0.2223\n",
      "y=0.018x-16.36,0.27,0.1927\n"
     ]
    },
    {
     "data": {
      "image/png": "[encoded data removed]",
      "text/plain": [
       "<Figure size 432x288 with 1 Axes>"
      ]
     },
     "metadata": {
      "needs_background": "light"
     },
     "output_type": "display_data"
    }
   ],
   "source": [
    "fig, ax = plt.subplots()\n",
    "t1 = plot_measurement(pd.read_excel('input/d18O.xlsx', sheet_name=2), ax, 1901, 1979, '$δ^{18}O$ [‰]', 0, 'slateblue',True)\n",
    "t2 = plot_measurement(pd.read_excel('input/d18O.xlsx', sheet_name=2), ax, 1980, 2020, '$δ^{18}O$ [‰]', 0, 'lightcoral', True)\n",
    "\n",
    "ax.set_xlim([1900, 2010])\n",
    "ax.set_ylim([17.5, 24])\n",
    "ax.set_title('$δ^{18}O$ YAK annual', loc='left')\n",
    "ax.set_title('', loc='left')\n",
    "plt.savefig(f'output/d18O YAK annual.png', dpi=100)"
   ]
  },
  {
   "cell_type": "code",
   "execution_count": 24,
   "metadata": {},
   "outputs": [
    {
     "name": "stdout",
     "output_type": "stream",
     "text": [
      "y=0.004x+12.18,0.17,0.1454\n",
      "y=0.045x-68.18,0.69,0.0002\n"
     ]
    },
    {
     "data": {
      "image/png": "[encoded data removed]",
      "text/plain": [
       "<Figure size 432x288 with 1 Axes>"
      ]
     },
     "metadata": {
      "needs_background": "light"
     },
     "output_type": "display_data"
    }
   ],
   "source": [
    "fig, ax = plt.subplots()\n",
    "t1 = plot_measurement(pd.read_excel('input/d18O.xlsx', sheet_name=4), ax, 1901, 1979, '$δ^{18}O$ [‰]', 0, 'slateblue',False)\n",
    "t2 = plot_measurement(pd.read_excel('input/d18O.xlsx', sheet_name=4), ax, 1980, 2020, '$δ^{18}O$ [‰]', 0, 'lightcoral', False)\n",
    "ax.set_xlim([1900, 2010])\n",
    "ax.set_ylim([17.5, 24])\n",
    "ax.set_title('$δ^{18}O$ CAN annual', loc='left')\n",
    "ax.set_title('', loc='left')\n",
    "plt.savefig(f'output/d18O CAN annual.png', dpi=100)"
   ]
  },
  {
   "cell_type": "markdown",
   "metadata": {},
   "source": [
    "# Расчёт изменения показателей по сезонам"
   ]
  },
  {
   "cell_type": "code",
   "execution_count": 6,
   "metadata": {},
   "outputs": [],
   "source": [
    "season_names = {\n",
    "    0: 'annual',\n",
    "    1: 'spring',\n",
    "    2: 'summer',\n",
    "    3: 'autumn',\n",
    "    4: 'winter'\n",
    "}\n",
    "\n",
    "cols = {\n",
    "    0: range(1,13),\n",
    "    1: [3, 4, 5],\n",
    "    2: [6, 7, 8],\n",
    "    3: [9, 10, 11],\n",
    "    4: [1, 2, 12]\n",
    "}\n",
    "\n",
    "def compare_two_periods(data, start_years, end_years, season=0):\n",
    "    mean = []\n",
    "    for s_y, e_y in zip(start_years, end_years):\n",
    "        _data = monthly_climate_offset_and_clean(data)\n",
    "        _data = _data[(_data['Year']>=s_y) & (_data['Year']<=e_y)]\n",
    "        means = _data.iloc[:,cols[season]].mean(axis=1, skipna=True)\n",
    "        mean += [sum(means)/len(means)]\n",
    "    return mean"
   ]
  },
  {
   "cell_type": "code",
   "execution_count": 7,
   "metadata": {},
   "outputs": [
    {
     "name": "stdout",
     "output_type": "stream",
     "text": [
      "Station;Season;Temperature;Precipitation;VPD\n",
      "Chokurdakh;annual;0.08;-0.16;0.06;\n",
      "Chokurdakh;spring;0.06;-0.04;0.07;\n",
      "Chokurdakh;summer;0.08;-0.23;0.03;\n",
      "Chokurdakh;autumn;0.13;-0.08;0.12;\n",
      "Chokurdakh;winter;0.03;-0.24;0.07;\n",
      "Khatanga;annual;0.09;0.06;0.06;\n",
      "Khatanga;spring;0.10;0.16;0.13;\n",
      "Khatanga;summer;0.07;0.15;0.05;\n",
      "Khatanga;autumn;0.07;-0.05;0.03;\n",
      "Khatanga;winter;0.03;-0.02;0.06;\n",
      "Inuvik;annual;0.21;-0.15;0.11;\n",
      "Inuvik;spring;0.18;-0.14;0.33;\n",
      "Inuvik;summer;0.06;-0.09;0.02;\n",
      "Inuvik;autumn;0.17;-0.17;0.13;\n",
      "Inuvik;winter;0.13;-0.25;1.10;\n"
     ]
    }
   ],
   "source": [
    "stations = ['Chokurdakh', 'Khatanga', 'Inuvik']\n",
    "measurements = ['Temperature', 'Precipitation', 'VPD']\n",
    "datas = [\n",
    "    [mean_temp_C, mean_temp_H, mean_temp_I],\n",
    "    [mean_prec_C, mean_prec_H, mean_prec_I],\n",
    "    [mean_vpd_C, mean_vpd_H, mean_vpd_I]\n",
    "]\n",
    "print('Station;Season;Temperature;Precipitation;VPD')\n",
    "\n",
    "for i in range(3):\n",
    "    for season in range(5):\n",
    "        print(stations[i], end=';')\n",
    "        print(season_names[season],end=';')\n",
    "        for j in range(3):\n",
    "            a, b = compare_two_periods(datas[j][i], [1901, 1980], [1979, 2020], season)\n",
    "            print(f\"{(b-a)/abs(a):0.2f}\", end=';')\n",
    "        print()"
   ]
  },
  {
   "cell_type": "code",
   "execution_count": 1,
   "metadata": {},
   "outputs": [],
   "source": [
    "import pandas as pd"
   ]
  },
  {
   "cell_type": "code",
   "execution_count": 4,
   "metadata": {},
   "outputs": [],
   "source": [
    "dep_daily = pd.read_csv('input/climate/real/daily/Daily_Deputatsky.txt', delimiter=';')"
   ]
  },
  {
   "cell_type": "code",
   "execution_count": 8,
   "metadata": {},
   "outputs": [],
   "source": [
    "dep_daily.drop(columns=[\"Дополнительная характеристика\", \"Признак качества\", \"Признак качества.1\", \"Признак качества.2\", \"Признак качества.3\"]).to_csv(\"Daily_Deputatsky.csv\", index=False)"
   ]
  },
  {
   "cell_type": "code",
   "execution_count": null,
   "metadata": {},
   "outputs": [],
   "source": []
  }
 ],
 "metadata": {
  "interpreter": {
   "hash": "ea00faadcfb8ab3c64085c6facc6f20135a21130ce7141e34f66da8bb95f9659"
  },
  "kernelspec": {
   "display_name": "Python 3.9.4 64-bit",
   "name": "python3"
  },
  "language_info": {
   "codemirror_mode": {
    "name": "ipython",
    "version": 3
   },
   "file_extension": ".py",
   "mimetype": "text/x-python",
   "name": "python",
   "nbconvert_exporter": "python",
   "pygments_lexer": "ipython3",
   "version": "3.9.7"
  },
  "orig_nbformat": 4
 },
 "nbformat": 4,
 "nbformat_minor": 2
}
